{
  "cells": [
    {
      "cell_type": "markdown",
      "metadata": {
        "id": "view-in-github",
        "colab_type": "text"
      },
      "source": [
        "<a href=\"https://colab.research.google.com/github/chicolucio/exercicios-logica-ttg/blob/master/introducao_logica_com_ttg_gabarito_colab.ipynb\" target=\"_parent\"><img src=\"https://colab.research.google.com/assets/colab-badge.svg\" alt=\"Open In Colab\"/></a>"
      ]
    },
    {
      "cell_type": "markdown",
      "metadata": {
        "id": "DmxIfdzwUicx"
      },
      "source": [
        "# Noções de lógica com o *ttg - truth-table-generator*\n",
        "\n",
        "Gabarito dos exercícios propostos no notebook teórico.\n"
      ]
    },
    {
      "cell_type": "markdown",
      "metadata": {
        "id": "N855f3g8Uic1"
      },
      "source": [
        "Execute a célula abaixo para importar o construtor de tabelas `Truths` do *ttg*."
      ]
    },
    {
      "cell_type": "code",
      "execution_count": null,
      "metadata": {
        "ExecuteTime": {
          "end_time": "2019-10-22T13:22:16.981000Z",
          "start_time": "2019-10-22T13:22:16.694933Z"
        },
        "id": "5AuJZDVKUic1"
      },
      "outputs": [],
      "source": [
        "from ttg import Truths"
      ]
    },
    {
      "cell_type": "markdown",
      "metadata": {
        "id": "1eaRFFnXUic2"
      },
      "source": [
        "É importante ler a [documentação do pacote](https://github.com/chicolucio/truth-table-generator) para entender a utilização do mesmo."
      ]
    },
    {
      "cell_type": "markdown",
      "metadata": {
        "id": "-fs41O-eUic3"
      },
      "source": [
        "O *ttg* permite apresentar as tabelas de forma mais agradável visualmente nos Jupyter Notebooks utilizando *pandas*. Execute a célula abaixo onde são declaradas duas funções para aplicar cores nas tabelas verdade. Você pode alterar as funções caso queira cores diferentes ou outros efeitos não implementados. Fica o convite para fazer alterações e as compartilhar."
      ]
    },
    {
      "cell_type": "code",
      "execution_count": null,
      "metadata": {
        "ExecuteTime": {
          "end_time": "2019-10-22T13:22:16.986492Z",
          "start_time": "2019-10-22T13:22:16.982063Z"
        },
        "id": "rOc7rR02Uic3"
      },
      "outputs": [],
      "source": [
        "def color_false_red(val):\n",
        "    \"\"\"Color red False (0) and green True (1) values\"\"\"\n",
        "    \n",
        "    color = 'red' if (val == False) else 'green'\n",
        "    return 'color: %s' % color\n",
        "\n",
        "\n",
        "def df_style(logic, hl_rows=[], hl_cols=[]):\n",
        "    \"\"\"Applies style to logical expression (logic) pandas truth table. \n",
        "    Text: center. Table: no index column. Highlight yellow rows and columns in \n",
        "    lists (hl_rows and hl_cols). At the end applies color_false_red function\"\"\"\n",
        "    \n",
        "    d = logic.as_pandas().style.set_table_styles([{\n",
        "        'selector': 'th',\n",
        "        'props': [('font-size', '10pt')]\n",
        "    }]).set_properties(**{\n",
        "        'text-align': 'center',\n",
        "        'font-size': '115%'\n",
        "    }).apply(\n",
        "        lambda x:\n",
        "        ['background: lightyellow' if x.name in hl_rows else '' for i in x],\n",
        "        axis=1).apply(lambda x: \n",
        "                      ['background: lightyellow' if x.name in hl_cols else '' for i in x], \n",
        "                      axis=0).hide_index()\n",
        "    d = d.applymap(color_false_red)\n",
        "    return d"
      ]
    },
    {
      "cell_type": "markdown",
      "metadata": {
        "id": "3_NmetPKUic4"
      },
      "source": [
        "## Exercícios complementares\n",
        "\n",
        "Geralmente quando são feitas tabelas verdade manualmente, são construídas diversas colunas, uma para cada etapa da análise da proposição. Assim, coloquei nas resoluções dos primeiros exercícios também desta forma, para auxiliar a compreensão. No entanto, o *ttg* também resolveria a proposição caso apenas a mesma fosse passada, conforme exercícios mais ao final."
      ]
    },
    {
      "cell_type": "markdown",
      "metadata": {
        "id": "e3BzK5QWUic5"
      },
      "source": [
        "**Exercício 1**: Construa a tabela verdade para as proposições e as classifique como tautologia, contradição ou contingência.\n",
        "\n",
        "a. $\\neg p \\lor \\neg q$"
      ]
    },
    {
      "cell_type": "code",
      "execution_count": null,
      "metadata": {
        "ExecuteTime": {
          "end_time": "2019-10-22T13:22:17.409541Z",
          "start_time": "2019-10-22T13:22:16.987655Z"
        },
        "id": "IEWqxIKdUic5",
        "outputId": "a7854553-5bbd-4d06-f60c-997ea68b0e90"
      },
      "outputs": [
        {
          "data": {
            "text/html": [
              "<style type=\"text/css\">\n",
              "#T_4a780_ th {\n",
              "  font-size: 10pt;\n",
              "}\n",
              "#T_4a780_row0_col0, #T_4a780_row0_col1, #T_4a780_row1_col0, #T_4a780_row1_col3, #T_4a780_row1_col4, #T_4a780_row2_col1, #T_4a780_row2_col2, #T_4a780_row2_col4, #T_4a780_row3_col2, #T_4a780_row3_col3, #T_4a780_row3_col4 {\n",
              "  text-align: center;\n",
              "  font-size: 115%;\n",
              "  color: green;\n",
              "}\n",
              "#T_4a780_row0_col2, #T_4a780_row0_col3, #T_4a780_row0_col4, #T_4a780_row1_col1, #T_4a780_row1_col2, #T_4a780_row2_col0, #T_4a780_row2_col3, #T_4a780_row3_col0, #T_4a780_row3_col1 {\n",
              "  text-align: center;\n",
              "  font-size: 115%;\n",
              "  color: red;\n",
              "}\n",
              "</style>\n",
              "<table id=\"T_4a780_\">\n",
              "  <thead>\n",
              "    <tr>\n",
              "      <th class=\"col_heading level0 col0\" >p</th>\n",
              "      <th class=\"col_heading level0 col1\" >q</th>\n",
              "      <th class=\"col_heading level0 col2\" >~p</th>\n",
              "      <th class=\"col_heading level0 col3\" >~q</th>\n",
              "      <th class=\"col_heading level0 col4\" >(~p) or (~q)</th>\n",
              "    </tr>\n",
              "  </thead>\n",
              "  <tbody>\n",
              "    <tr>\n",
              "      <td id=\"T_4a780_row0_col0\" class=\"data row0 col0\" >True</td>\n",
              "      <td id=\"T_4a780_row0_col1\" class=\"data row0 col1\" >True</td>\n",
              "      <td id=\"T_4a780_row0_col2\" class=\"data row0 col2\" >False</td>\n",
              "      <td id=\"T_4a780_row0_col3\" class=\"data row0 col3\" >False</td>\n",
              "      <td id=\"T_4a780_row0_col4\" class=\"data row0 col4\" >False</td>\n",
              "    </tr>\n",
              "    <tr>\n",
              "      <td id=\"T_4a780_row1_col0\" class=\"data row1 col0\" >True</td>\n",
              "      <td id=\"T_4a780_row1_col1\" class=\"data row1 col1\" >False</td>\n",
              "      <td id=\"T_4a780_row1_col2\" class=\"data row1 col2\" >False</td>\n",
              "      <td id=\"T_4a780_row1_col3\" class=\"data row1 col3\" >True</td>\n",
              "      <td id=\"T_4a780_row1_col4\" class=\"data row1 col4\" >True</td>\n",
              "    </tr>\n",
              "    <tr>\n",
              "      <td id=\"T_4a780_row2_col0\" class=\"data row2 col0\" >False</td>\n",
              "      <td id=\"T_4a780_row2_col1\" class=\"data row2 col1\" >True</td>\n",
              "      <td id=\"T_4a780_row2_col2\" class=\"data row2 col2\" >True</td>\n",
              "      <td id=\"T_4a780_row2_col3\" class=\"data row2 col3\" >False</td>\n",
              "      <td id=\"T_4a780_row2_col4\" class=\"data row2 col4\" >True</td>\n",
              "    </tr>\n",
              "    <tr>\n",
              "      <td id=\"T_4a780_row3_col0\" class=\"data row3 col0\" >False</td>\n",
              "      <td id=\"T_4a780_row3_col1\" class=\"data row3 col1\" >False</td>\n",
              "      <td id=\"T_4a780_row3_col2\" class=\"data row3 col2\" >True</td>\n",
              "      <td id=\"T_4a780_row3_col3\" class=\"data row3 col3\" >True</td>\n",
              "      <td id=\"T_4a780_row3_col4\" class=\"data row3 col4\" >True</td>\n",
              "    </tr>\n",
              "  </tbody>\n",
              "</table>\n"
            ],
            "text/plain": [
              "<pandas.io.formats.style.Styler at 0x7f021dddfaf0>"
            ]
          },
          "execution_count": 3,
          "metadata": {},
          "output_type": "execute_result"
        }
      ],
      "source": [
        "exercicio01a = Truths(['p', 'q'], ['~p', '~q', '(~p) or (~q)'], ints=False)\n",
        "\n",
        "df_style(exercicio01a)"
      ]
    },
    {
      "cell_type": "code",
      "execution_count": null,
      "metadata": {
        "ExecuteTime": {
          "end_time": "2019-10-22T13:22:17.620095Z",
          "start_time": "2019-10-22T13:22:17.410894Z"
        },
        "id": "JcUolluAUic6",
        "outputId": "987cacb8-67cb-4191-d732-ceae896406a5"
      },
      "outputs": [
        {
          "data": {
            "text/plain": [
              "'Contingency'"
            ]
          },
          "execution_count": 4,
          "metadata": {},
          "output_type": "execute_result"
        }
      ],
      "source": [
        "exercicio01a.valuation()"
      ]
    },
    {
      "cell_type": "markdown",
      "metadata": {
        "id": "ShkytjfYUic7"
      },
      "source": [
        "b. $ [ (p \\land \\neg q) \\lor \\neg r] \\land [ (\\neg p \\lor q) \\land r ] $\n"
      ]
    },
    {
      "cell_type": "code",
      "execution_count": null,
      "metadata": {
        "ExecuteTime": {
          "end_time": "2019-10-22T13:22:18.028896Z",
          "start_time": "2019-10-22T13:22:17.622231Z"
        },
        "id": "XZAo5kp9Uic7",
        "outputId": "ed808483-d64f-45d4-a541-0a9117343e44"
      },
      "outputs": [
        {
          "data": {
            "text/html": [
              "<style type=\"text/css\">\n",
              "#T_b238c_ th {\n",
              "  font-size: 10pt;\n",
              "}\n",
              "#T_b238c_row0_col0, #T_b238c_row0_col1, #T_b238c_row0_col2, #T_b238c_row0_col9, #T_b238c_row1_col0, #T_b238c_row1_col1, #T_b238c_row1_col5, #T_b238c_row1_col8, #T_b238c_row2_col0, #T_b238c_row2_col2, #T_b238c_row2_col4, #T_b238c_row2_col6, #T_b238c_row2_col7, #T_b238c_row2_col8, #T_b238c_row3_col0, #T_b238c_row3_col4, #T_b238c_row3_col5, #T_b238c_row3_col6, #T_b238c_row3_col7, #T_b238c_row3_col8, #T_b238c_row4_col1, #T_b238c_row4_col2, #T_b238c_row4_col3, #T_b238c_row4_col7, #T_b238c_row4_col9, #T_b238c_row5_col1, #T_b238c_row5_col3, #T_b238c_row5_col5, #T_b238c_row5_col7, #T_b238c_row5_col8, #T_b238c_row6_col2, #T_b238c_row6_col3, #T_b238c_row6_col4, #T_b238c_row6_col7, #T_b238c_row6_col9, #T_b238c_row7_col3, #T_b238c_row7_col4, #T_b238c_row7_col5, #T_b238c_row7_col7, #T_b238c_row7_col8 {\n",
              "  text-align: center;\n",
              "  font-size: 115%;\n",
              "  color: green;\n",
              "}\n",
              "#T_b238c_row0_col3, #T_b238c_row0_col4, #T_b238c_row0_col5, #T_b238c_row0_col6, #T_b238c_row0_col7, #T_b238c_row0_col8, #T_b238c_row0_col10, #T_b238c_row1_col2, #T_b238c_row1_col3, #T_b238c_row1_col4, #T_b238c_row1_col6, #T_b238c_row1_col7, #T_b238c_row1_col9, #T_b238c_row1_col10, #T_b238c_row2_col1, #T_b238c_row2_col3, #T_b238c_row2_col5, #T_b238c_row2_col9, #T_b238c_row2_col10, #T_b238c_row3_col1, #T_b238c_row3_col2, #T_b238c_row3_col3, #T_b238c_row3_col9, #T_b238c_row3_col10, #T_b238c_row4_col0, #T_b238c_row4_col4, #T_b238c_row4_col5, #T_b238c_row4_col6, #T_b238c_row4_col8, #T_b238c_row4_col10, #T_b238c_row5_col0, #T_b238c_row5_col2, #T_b238c_row5_col4, #T_b238c_row5_col6, #T_b238c_row5_col9, #T_b238c_row5_col10, #T_b238c_row6_col0, #T_b238c_row6_col1, #T_b238c_row6_col5, #T_b238c_row6_col6, #T_b238c_row6_col8, #T_b238c_row6_col10, #T_b238c_row7_col0, #T_b238c_row7_col1, #T_b238c_row7_col2, #T_b238c_row7_col6, #T_b238c_row7_col9, #T_b238c_row7_col10 {\n",
              "  text-align: center;\n",
              "  font-size: 115%;\n",
              "  color: red;\n",
              "}\n",
              "</style>\n",
              "<table id=\"T_b238c_\">\n",
              "  <thead>\n",
              "    <tr>\n",
              "      <th class=\"col_heading level0 col0\" >p</th>\n",
              "      <th class=\"col_heading level0 col1\" >q</th>\n",
              "      <th class=\"col_heading level0 col2\" >r</th>\n",
              "      <th class=\"col_heading level0 col3\" >~p</th>\n",
              "      <th class=\"col_heading level0 col4\" >~q</th>\n",
              "      <th class=\"col_heading level0 col5\" >~r</th>\n",
              "      <th class=\"col_heading level0 col6\" >p and (~q)</th>\n",
              "      <th class=\"col_heading level0 col7\" >(~p) or (~q)</th>\n",
              "      <th class=\"col_heading level0 col8\" >(p and (~q)) or (~r)</th>\n",
              "      <th class=\"col_heading level0 col9\" >((~p) or q) and r</th>\n",
              "      <th class=\"col_heading level0 col10\" >((p and (~q)) or (~r)) and (((~p) or q) and r)</th>\n",
              "    </tr>\n",
              "  </thead>\n",
              "  <tbody>\n",
              "    <tr>\n",
              "      <td id=\"T_b238c_row0_col0\" class=\"data row0 col0\" >True</td>\n",
              "      <td id=\"T_b238c_row0_col1\" class=\"data row0 col1\" >True</td>\n",
              "      <td id=\"T_b238c_row0_col2\" class=\"data row0 col2\" >True</td>\n",
              "      <td id=\"T_b238c_row0_col3\" class=\"data row0 col3\" >False</td>\n",
              "      <td id=\"T_b238c_row0_col4\" class=\"data row0 col4\" >False</td>\n",
              "      <td id=\"T_b238c_row0_col5\" class=\"data row0 col5\" >False</td>\n",
              "      <td id=\"T_b238c_row0_col6\" class=\"data row0 col6\" >False</td>\n",
              "      <td id=\"T_b238c_row0_col7\" class=\"data row0 col7\" >False</td>\n",
              "      <td id=\"T_b238c_row0_col8\" class=\"data row0 col8\" >False</td>\n",
              "      <td id=\"T_b238c_row0_col9\" class=\"data row0 col9\" >True</td>\n",
              "      <td id=\"T_b238c_row0_col10\" class=\"data row0 col10\" >False</td>\n",
              "    </tr>\n",
              "    <tr>\n",
              "      <td id=\"T_b238c_row1_col0\" class=\"data row1 col0\" >True</td>\n",
              "      <td id=\"T_b238c_row1_col1\" class=\"data row1 col1\" >True</td>\n",
              "      <td id=\"T_b238c_row1_col2\" class=\"data row1 col2\" >False</td>\n",
              "      <td id=\"T_b238c_row1_col3\" class=\"data row1 col3\" >False</td>\n",
              "      <td id=\"T_b238c_row1_col4\" class=\"data row1 col4\" >False</td>\n",
              "      <td id=\"T_b238c_row1_col5\" class=\"data row1 col5\" >True</td>\n",
              "      <td id=\"T_b238c_row1_col6\" class=\"data row1 col6\" >False</td>\n",
              "      <td id=\"T_b238c_row1_col7\" class=\"data row1 col7\" >False</td>\n",
              "      <td id=\"T_b238c_row1_col8\" class=\"data row1 col8\" >True</td>\n",
              "      <td id=\"T_b238c_row1_col9\" class=\"data row1 col9\" >False</td>\n",
              "      <td id=\"T_b238c_row1_col10\" class=\"data row1 col10\" >False</td>\n",
              "    </tr>\n",
              "    <tr>\n",
              "      <td id=\"T_b238c_row2_col0\" class=\"data row2 col0\" >True</td>\n",
              "      <td id=\"T_b238c_row2_col1\" class=\"data row2 col1\" >False</td>\n",
              "      <td id=\"T_b238c_row2_col2\" class=\"data row2 col2\" >True</td>\n",
              "      <td id=\"T_b238c_row2_col3\" class=\"data row2 col3\" >False</td>\n",
              "      <td id=\"T_b238c_row2_col4\" class=\"data row2 col4\" >True</td>\n",
              "      <td id=\"T_b238c_row2_col5\" class=\"data row2 col5\" >False</td>\n",
              "      <td id=\"T_b238c_row2_col6\" class=\"data row2 col6\" >True</td>\n",
              "      <td id=\"T_b238c_row2_col7\" class=\"data row2 col7\" >True</td>\n",
              "      <td id=\"T_b238c_row2_col8\" class=\"data row2 col8\" >True</td>\n",
              "      <td id=\"T_b238c_row2_col9\" class=\"data row2 col9\" >False</td>\n",
              "      <td id=\"T_b238c_row2_col10\" class=\"data row2 col10\" >False</td>\n",
              "    </tr>\n",
              "    <tr>\n",
              "      <td id=\"T_b238c_row3_col0\" class=\"data row3 col0\" >True</td>\n",
              "      <td id=\"T_b238c_row3_col1\" class=\"data row3 col1\" >False</td>\n",
              "      <td id=\"T_b238c_row3_col2\" class=\"data row3 col2\" >False</td>\n",
              "      <td id=\"T_b238c_row3_col3\" class=\"data row3 col3\" >False</td>\n",
              "      <td id=\"T_b238c_row3_col4\" class=\"data row3 col4\" >True</td>\n",
              "      <td id=\"T_b238c_row3_col5\" class=\"data row3 col5\" >True</td>\n",
              "      <td id=\"T_b238c_row3_col6\" class=\"data row3 col6\" >True</td>\n",
              "      <td id=\"T_b238c_row3_col7\" class=\"data row3 col7\" >True</td>\n",
              "      <td id=\"T_b238c_row3_col8\" class=\"data row3 col8\" >True</td>\n",
              "      <td id=\"T_b238c_row3_col9\" class=\"data row3 col9\" >False</td>\n",
              "      <td id=\"T_b238c_row3_col10\" class=\"data row3 col10\" >False</td>\n",
              "    </tr>\n",
              "    <tr>\n",
              "      <td id=\"T_b238c_row4_col0\" class=\"data row4 col0\" >False</td>\n",
              "      <td id=\"T_b238c_row4_col1\" class=\"data row4 col1\" >True</td>\n",
              "      <td id=\"T_b238c_row4_col2\" class=\"data row4 col2\" >True</td>\n",
              "      <td id=\"T_b238c_row4_col3\" class=\"data row4 col3\" >True</td>\n",
              "      <td id=\"T_b238c_row4_col4\" class=\"data row4 col4\" >False</td>\n",
              "      <td id=\"T_b238c_row4_col5\" class=\"data row4 col5\" >False</td>\n",
              "      <td id=\"T_b238c_row4_col6\" class=\"data row4 col6\" >False</td>\n",
              "      <td id=\"T_b238c_row4_col7\" class=\"data row4 col7\" >True</td>\n",
              "      <td id=\"T_b238c_row4_col8\" class=\"data row4 col8\" >False</td>\n",
              "      <td id=\"T_b238c_row4_col9\" class=\"data row4 col9\" >True</td>\n",
              "      <td id=\"T_b238c_row4_col10\" class=\"data row4 col10\" >False</td>\n",
              "    </tr>\n",
              "    <tr>\n",
              "      <td id=\"T_b238c_row5_col0\" class=\"data row5 col0\" >False</td>\n",
              "      <td id=\"T_b238c_row5_col1\" class=\"data row5 col1\" >True</td>\n",
              "      <td id=\"T_b238c_row5_col2\" class=\"data row5 col2\" >False</td>\n",
              "      <td id=\"T_b238c_row5_col3\" class=\"data row5 col3\" >True</td>\n",
              "      <td id=\"T_b238c_row5_col4\" class=\"data row5 col4\" >False</td>\n",
              "      <td id=\"T_b238c_row5_col5\" class=\"data row5 col5\" >True</td>\n",
              "      <td id=\"T_b238c_row5_col6\" class=\"data row5 col6\" >False</td>\n",
              "      <td id=\"T_b238c_row5_col7\" class=\"data row5 col7\" >True</td>\n",
              "      <td id=\"T_b238c_row5_col8\" class=\"data row5 col8\" >True</td>\n",
              "      <td id=\"T_b238c_row5_col9\" class=\"data row5 col9\" >False</td>\n",
              "      <td id=\"T_b238c_row5_col10\" class=\"data row5 col10\" >False</td>\n",
              "    </tr>\n",
              "    <tr>\n",
              "      <td id=\"T_b238c_row6_col0\" class=\"data row6 col0\" >False</td>\n",
              "      <td id=\"T_b238c_row6_col1\" class=\"data row6 col1\" >False</td>\n",
              "      <td id=\"T_b238c_row6_col2\" class=\"data row6 col2\" >True</td>\n",
              "      <td id=\"T_b238c_row6_col3\" class=\"data row6 col3\" >True</td>\n",
              "      <td id=\"T_b238c_row6_col4\" class=\"data row6 col4\" >True</td>\n",
              "      <td id=\"T_b238c_row6_col5\" class=\"data row6 col5\" >False</td>\n",
              "      <td id=\"T_b238c_row6_col6\" class=\"data row6 col6\" >False</td>\n",
              "      <td id=\"T_b238c_row6_col7\" class=\"data row6 col7\" >True</td>\n",
              "      <td id=\"T_b238c_row6_col8\" class=\"data row6 col8\" >False</td>\n",
              "      <td id=\"T_b238c_row6_col9\" class=\"data row6 col9\" >True</td>\n",
              "      <td id=\"T_b238c_row6_col10\" class=\"data row6 col10\" >False</td>\n",
              "    </tr>\n",
              "    <tr>\n",
              "      <td id=\"T_b238c_row7_col0\" class=\"data row7 col0\" >False</td>\n",
              "      <td id=\"T_b238c_row7_col1\" class=\"data row7 col1\" >False</td>\n",
              "      <td id=\"T_b238c_row7_col2\" class=\"data row7 col2\" >False</td>\n",
              "      <td id=\"T_b238c_row7_col3\" class=\"data row7 col3\" >True</td>\n",
              "      <td id=\"T_b238c_row7_col4\" class=\"data row7 col4\" >True</td>\n",
              "      <td id=\"T_b238c_row7_col5\" class=\"data row7 col5\" >True</td>\n",
              "      <td id=\"T_b238c_row7_col6\" class=\"data row7 col6\" >False</td>\n",
              "      <td id=\"T_b238c_row7_col7\" class=\"data row7 col7\" >True</td>\n",
              "      <td id=\"T_b238c_row7_col8\" class=\"data row7 col8\" >True</td>\n",
              "      <td id=\"T_b238c_row7_col9\" class=\"data row7 col9\" >False</td>\n",
              "      <td id=\"T_b238c_row7_col10\" class=\"data row7 col10\" >False</td>\n",
              "    </tr>\n",
              "  </tbody>\n",
              "</table>\n"
            ],
            "text/plain": [
              "<pandas.io.formats.style.Styler at 0x7f021da7bf10>"
            ]
          },
          "execution_count": 5,
          "metadata": {},
          "output_type": "execute_result"
        }
      ],
      "source": [
        "exercicio01b = Truths(\n",
        "    ['p', 'q', 'r'], \n",
        "    ['~p', '~q', '~r', 'p and (~q)', '(~p) or (~q)', \n",
        "     '(p and (~q)) or (~r)','((~p) or q) and r', \n",
        "     '((p and (~q)) or (~r)) and (((~p) or q) and r)'],\n",
        "    ints=False)\n",
        "\n",
        "df_style(exercicio01b)"
      ]
    },
    {
      "cell_type": "code",
      "execution_count": null,
      "metadata": {
        "ExecuteTime": {
          "end_time": "2019-10-22T13:22:18.366460Z",
          "start_time": "2019-10-22T13:22:18.029902Z"
        },
        "id": "YLMax3aAUic8",
        "outputId": "069d4b22-ffe6-4abd-9923-b64ceae4ad41"
      },
      "outputs": [
        {
          "data": {
            "text/plain": [
              "'Contradiction'"
            ]
          },
          "execution_count": 6,
          "metadata": {},
          "output_type": "execute_result"
        }
      ],
      "source": [
        "exercicio01b.valuation()"
      ]
    },
    {
      "cell_type": "markdown",
      "metadata": {
        "id": "LBLuZwAeUic8"
      },
      "source": [
        "\n",
        "c. $(p \\land q) \\rightarrow (p \\lor q)$\n"
      ]
    },
    {
      "cell_type": "code",
      "execution_count": null,
      "metadata": {
        "ExecuteTime": {
          "end_time": "2019-10-22T13:22:18.757244Z",
          "start_time": "2019-10-22T13:22:18.367678Z"
        },
        "id": "WmbwNVzPUic8",
        "outputId": "1da4552b-3fac-4543-833f-c29c47d4025d"
      },
      "outputs": [
        {
          "data": {
            "text/html": [
              "<style type=\"text/css\">\n",
              "#T_04281_ th {\n",
              "  font-size: 10pt;\n",
              "}\n",
              "#T_04281_row0_col0, #T_04281_row0_col1, #T_04281_row0_col2, #T_04281_row0_col3, #T_04281_row0_col4, #T_04281_row1_col0, #T_04281_row1_col3, #T_04281_row1_col4, #T_04281_row2_col1, #T_04281_row2_col3, #T_04281_row2_col4, #T_04281_row3_col4 {\n",
              "  text-align: center;\n",
              "  font-size: 115%;\n",
              "  color: green;\n",
              "}\n",
              "#T_04281_row1_col1, #T_04281_row1_col2, #T_04281_row2_col0, #T_04281_row2_col2, #T_04281_row3_col0, #T_04281_row3_col1, #T_04281_row3_col2, #T_04281_row3_col3 {\n",
              "  text-align: center;\n",
              "  font-size: 115%;\n",
              "  color: red;\n",
              "}\n",
              "</style>\n",
              "<table id=\"T_04281_\">\n",
              "  <thead>\n",
              "    <tr>\n",
              "      <th class=\"col_heading level0 col0\" >p</th>\n",
              "      <th class=\"col_heading level0 col1\" >q</th>\n",
              "      <th class=\"col_heading level0 col2\" >p and q</th>\n",
              "      <th class=\"col_heading level0 col3\" >p or q</th>\n",
              "      <th class=\"col_heading level0 col4\" >(p and q) => (p or q)</th>\n",
              "    </tr>\n",
              "  </thead>\n",
              "  <tbody>\n",
              "    <tr>\n",
              "      <td id=\"T_04281_row0_col0\" class=\"data row0 col0\" >True</td>\n",
              "      <td id=\"T_04281_row0_col1\" class=\"data row0 col1\" >True</td>\n",
              "      <td id=\"T_04281_row0_col2\" class=\"data row0 col2\" >True</td>\n",
              "      <td id=\"T_04281_row0_col3\" class=\"data row0 col3\" >True</td>\n",
              "      <td id=\"T_04281_row0_col4\" class=\"data row0 col4\" >True</td>\n",
              "    </tr>\n",
              "    <tr>\n",
              "      <td id=\"T_04281_row1_col0\" class=\"data row1 col0\" >True</td>\n",
              "      <td id=\"T_04281_row1_col1\" class=\"data row1 col1\" >False</td>\n",
              "      <td id=\"T_04281_row1_col2\" class=\"data row1 col2\" >False</td>\n",
              "      <td id=\"T_04281_row1_col3\" class=\"data row1 col3\" >True</td>\n",
              "      <td id=\"T_04281_row1_col4\" class=\"data row1 col4\" >True</td>\n",
              "    </tr>\n",
              "    <tr>\n",
              "      <td id=\"T_04281_row2_col0\" class=\"data row2 col0\" >False</td>\n",
              "      <td id=\"T_04281_row2_col1\" class=\"data row2 col1\" >True</td>\n",
              "      <td id=\"T_04281_row2_col2\" class=\"data row2 col2\" >False</td>\n",
              "      <td id=\"T_04281_row2_col3\" class=\"data row2 col3\" >True</td>\n",
              "      <td id=\"T_04281_row2_col4\" class=\"data row2 col4\" >True</td>\n",
              "    </tr>\n",
              "    <tr>\n",
              "      <td id=\"T_04281_row3_col0\" class=\"data row3 col0\" >False</td>\n",
              "      <td id=\"T_04281_row3_col1\" class=\"data row3 col1\" >False</td>\n",
              "      <td id=\"T_04281_row3_col2\" class=\"data row3 col2\" >False</td>\n",
              "      <td id=\"T_04281_row3_col3\" class=\"data row3 col3\" >False</td>\n",
              "      <td id=\"T_04281_row3_col4\" class=\"data row3 col4\" >True</td>\n",
              "    </tr>\n",
              "  </tbody>\n",
              "</table>\n"
            ],
            "text/plain": [
              "<pandas.io.formats.style.Styler at 0x7f026f70cac0>"
            ]
          },
          "execution_count": 7,
          "metadata": {},
          "output_type": "execute_result"
        }
      ],
      "source": [
        "exercicio01c = Truths(['p', 'q'],\n",
        "                      ['p and q', 'p or q', '(p and q) => (p or q)'],\n",
        "                      ints=False)\n",
        "\n",
        "df_style(exercicio01c)"
      ]
    },
    {
      "cell_type": "code",
      "execution_count": null,
      "metadata": {
        "ExecuteTime": {
          "end_time": "2019-10-22T13:22:19.063053Z",
          "start_time": "2019-10-22T13:22:18.758844Z"
        },
        "id": "-GAwdrEXUic9",
        "outputId": "c3be6de7-60e0-4262-de45-922a2177a9d7"
      },
      "outputs": [
        {
          "data": {
            "text/plain": [
              "'Tautology'"
            ]
          },
          "execution_count": 8,
          "metadata": {},
          "output_type": "execute_result"
        }
      ],
      "source": [
        "exercicio01c.valuation()"
      ]
    },
    {
      "cell_type": "markdown",
      "metadata": {
        "id": "Kuf3loS2Uic9"
      },
      "source": [
        "\n",
        "d. $(p \\land q) \\lor r$\n"
      ]
    },
    {
      "cell_type": "code",
      "execution_count": null,
      "metadata": {
        "ExecuteTime": {
          "end_time": "2019-10-22T13:22:19.400438Z",
          "start_time": "2019-10-22T13:22:19.065933Z"
        },
        "id": "JZFvIhSZUic9",
        "outputId": "60007858-c85b-44f0-8fb6-9b3192860b5f"
      },
      "outputs": [
        {
          "data": {
            "text/html": [
              "<style type=\"text/css\">\n",
              "#T_30912_ th {\n",
              "  font-size: 10pt;\n",
              "}\n",
              "#T_30912_row0_col0, #T_30912_row0_col1, #T_30912_row0_col2, #T_30912_row0_col3, #T_30912_row0_col4, #T_30912_row1_col0, #T_30912_row1_col1, #T_30912_row1_col3, #T_30912_row1_col4, #T_30912_row2_col0, #T_30912_row2_col2, #T_30912_row2_col4, #T_30912_row3_col0, #T_30912_row4_col1, #T_30912_row4_col2, #T_30912_row4_col4, #T_30912_row5_col1, #T_30912_row6_col2, #T_30912_row6_col4 {\n",
              "  text-align: center;\n",
              "  font-size: 115%;\n",
              "  color: green;\n",
              "}\n",
              "#T_30912_row1_col2, #T_30912_row2_col1, #T_30912_row2_col3, #T_30912_row3_col1, #T_30912_row3_col2, #T_30912_row3_col3, #T_30912_row3_col4, #T_30912_row4_col0, #T_30912_row4_col3, #T_30912_row5_col0, #T_30912_row5_col2, #T_30912_row5_col3, #T_30912_row5_col4, #T_30912_row6_col0, #T_30912_row6_col1, #T_30912_row6_col3, #T_30912_row7_col0, #T_30912_row7_col1, #T_30912_row7_col2, #T_30912_row7_col3, #T_30912_row7_col4 {\n",
              "  text-align: center;\n",
              "  font-size: 115%;\n",
              "  color: red;\n",
              "}\n",
              "</style>\n",
              "<table id=\"T_30912_\">\n",
              "  <thead>\n",
              "    <tr>\n",
              "      <th class=\"col_heading level0 col0\" >p</th>\n",
              "      <th class=\"col_heading level0 col1\" >q</th>\n",
              "      <th class=\"col_heading level0 col2\" >r</th>\n",
              "      <th class=\"col_heading level0 col3\" >p and q</th>\n",
              "      <th class=\"col_heading level0 col4\" >(p and q) or r</th>\n",
              "    </tr>\n",
              "  </thead>\n",
              "  <tbody>\n",
              "    <tr>\n",
              "      <td id=\"T_30912_row0_col0\" class=\"data row0 col0\" >True</td>\n",
              "      <td id=\"T_30912_row0_col1\" class=\"data row0 col1\" >True</td>\n",
              "      <td id=\"T_30912_row0_col2\" class=\"data row0 col2\" >True</td>\n",
              "      <td id=\"T_30912_row0_col3\" class=\"data row0 col3\" >True</td>\n",
              "      <td id=\"T_30912_row0_col4\" class=\"data row0 col4\" >True</td>\n",
              "    </tr>\n",
              "    <tr>\n",
              "      <td id=\"T_30912_row1_col0\" class=\"data row1 col0\" >True</td>\n",
              "      <td id=\"T_30912_row1_col1\" class=\"data row1 col1\" >True</td>\n",
              "      <td id=\"T_30912_row1_col2\" class=\"data row1 col2\" >False</td>\n",
              "      <td id=\"T_30912_row1_col3\" class=\"data row1 col3\" >True</td>\n",
              "      <td id=\"T_30912_row1_col4\" class=\"data row1 col4\" >True</td>\n",
              "    </tr>\n",
              "    <tr>\n",
              "      <td id=\"T_30912_row2_col0\" class=\"data row2 col0\" >True</td>\n",
              "      <td id=\"T_30912_row2_col1\" class=\"data row2 col1\" >False</td>\n",
              "      <td id=\"T_30912_row2_col2\" class=\"data row2 col2\" >True</td>\n",
              "      <td id=\"T_30912_row2_col3\" class=\"data row2 col3\" >False</td>\n",
              "      <td id=\"T_30912_row2_col4\" class=\"data row2 col4\" >True</td>\n",
              "    </tr>\n",
              "    <tr>\n",
              "      <td id=\"T_30912_row3_col0\" class=\"data row3 col0\" >True</td>\n",
              "      <td id=\"T_30912_row3_col1\" class=\"data row3 col1\" >False</td>\n",
              "      <td id=\"T_30912_row3_col2\" class=\"data row3 col2\" >False</td>\n",
              "      <td id=\"T_30912_row3_col3\" class=\"data row3 col3\" >False</td>\n",
              "      <td id=\"T_30912_row3_col4\" class=\"data row3 col4\" >False</td>\n",
              "    </tr>\n",
              "    <tr>\n",
              "      <td id=\"T_30912_row4_col0\" class=\"data row4 col0\" >False</td>\n",
              "      <td id=\"T_30912_row4_col1\" class=\"data row4 col1\" >True</td>\n",
              "      <td id=\"T_30912_row4_col2\" class=\"data row4 col2\" >True</td>\n",
              "      <td id=\"T_30912_row4_col3\" class=\"data row4 col3\" >False</td>\n",
              "      <td id=\"T_30912_row4_col4\" class=\"data row4 col4\" >True</td>\n",
              "    </tr>\n",
              "    <tr>\n",
              "      <td id=\"T_30912_row5_col0\" class=\"data row5 col0\" >False</td>\n",
              "      <td id=\"T_30912_row5_col1\" class=\"data row5 col1\" >True</td>\n",
              "      <td id=\"T_30912_row5_col2\" class=\"data row5 col2\" >False</td>\n",
              "      <td id=\"T_30912_row5_col3\" class=\"data row5 col3\" >False</td>\n",
              "      <td id=\"T_30912_row5_col4\" class=\"data row5 col4\" >False</td>\n",
              "    </tr>\n",
              "    <tr>\n",
              "      <td id=\"T_30912_row6_col0\" class=\"data row6 col0\" >False</td>\n",
              "      <td id=\"T_30912_row6_col1\" class=\"data row6 col1\" >False</td>\n",
              "      <td id=\"T_30912_row6_col2\" class=\"data row6 col2\" >True</td>\n",
              "      <td id=\"T_30912_row6_col3\" class=\"data row6 col3\" >False</td>\n",
              "      <td id=\"T_30912_row6_col4\" class=\"data row6 col4\" >True</td>\n",
              "    </tr>\n",
              "    <tr>\n",
              "      <td id=\"T_30912_row7_col0\" class=\"data row7 col0\" >False</td>\n",
              "      <td id=\"T_30912_row7_col1\" class=\"data row7 col1\" >False</td>\n",
              "      <td id=\"T_30912_row7_col2\" class=\"data row7 col2\" >False</td>\n",
              "      <td id=\"T_30912_row7_col3\" class=\"data row7 col3\" >False</td>\n",
              "      <td id=\"T_30912_row7_col4\" class=\"data row7 col4\" >False</td>\n",
              "    </tr>\n",
              "  </tbody>\n",
              "</table>\n"
            ],
            "text/plain": [
              "<pandas.io.formats.style.Styler at 0x7f021d9f3640>"
            ]
          },
          "execution_count": 9,
          "metadata": {},
          "output_type": "execute_result"
        }
      ],
      "source": [
        "exercicio01d = Truths(['p', 'q', 'r'], \n",
        "                      ['p and q', '(p and q) or r'], \n",
        "                      ints=False)\n",
        "\n",
        "df_style(exercicio01d)"
      ]
    },
    {
      "cell_type": "code",
      "execution_count": null,
      "metadata": {
        "ExecuteTime": {
          "end_time": "2019-10-22T13:22:19.733147Z",
          "start_time": "2019-10-22T13:22:19.401722Z"
        },
        "id": "270ZejUAUic-",
        "outputId": "420dd1ba-9cb6-4c54-9d2d-8dca8a185884"
      },
      "outputs": [
        {
          "data": {
            "text/plain": [
              "'Contingency'"
            ]
          },
          "execution_count": 10,
          "metadata": {},
          "output_type": "execute_result"
        }
      ],
      "source": [
        "exercicio01d.valuation()"
      ]
    },
    {
      "cell_type": "markdown",
      "metadata": {
        "id": "4k4Cg7puUic-"
      },
      "source": [
        "\n",
        "e. $(p \\land q) \\rightarrow p$\n"
      ]
    },
    {
      "cell_type": "code",
      "execution_count": null,
      "metadata": {
        "ExecuteTime": {
          "end_time": "2019-10-22T13:22:20.016634Z",
          "start_time": "2019-10-22T13:22:19.734447Z"
        },
        "id": "YWYc7GEwUic-",
        "outputId": "a67002bc-18d8-45db-9df9-822276ff9996"
      },
      "outputs": [
        {
          "data": {
            "text/html": [
              "<style type=\"text/css\">\n",
              "#T_41c1d_ th {\n",
              "  font-size: 10pt;\n",
              "}\n",
              "#T_41c1d_row0_col0, #T_41c1d_row0_col1, #T_41c1d_row0_col2, #T_41c1d_row0_col3, #T_41c1d_row1_col0, #T_41c1d_row1_col3, #T_41c1d_row2_col1, #T_41c1d_row2_col3, #T_41c1d_row3_col3 {\n",
              "  text-align: center;\n",
              "  font-size: 115%;\n",
              "  color: green;\n",
              "}\n",
              "#T_41c1d_row1_col1, #T_41c1d_row1_col2, #T_41c1d_row2_col0, #T_41c1d_row2_col2, #T_41c1d_row3_col0, #T_41c1d_row3_col1, #T_41c1d_row3_col2 {\n",
              "  text-align: center;\n",
              "  font-size: 115%;\n",
              "  color: red;\n",
              "}\n",
              "</style>\n",
              "<table id=\"T_41c1d_\">\n",
              "  <thead>\n",
              "    <tr>\n",
              "      <th class=\"col_heading level0 col0\" >p</th>\n",
              "      <th class=\"col_heading level0 col1\" >q</th>\n",
              "      <th class=\"col_heading level0 col2\" >p and q</th>\n",
              "      <th class=\"col_heading level0 col3\" >(p and q) => p</th>\n",
              "    </tr>\n",
              "  </thead>\n",
              "  <tbody>\n",
              "    <tr>\n",
              "      <td id=\"T_41c1d_row0_col0\" class=\"data row0 col0\" >True</td>\n",
              "      <td id=\"T_41c1d_row0_col1\" class=\"data row0 col1\" >True</td>\n",
              "      <td id=\"T_41c1d_row0_col2\" class=\"data row0 col2\" >True</td>\n",
              "      <td id=\"T_41c1d_row0_col3\" class=\"data row0 col3\" >True</td>\n",
              "    </tr>\n",
              "    <tr>\n",
              "      <td id=\"T_41c1d_row1_col0\" class=\"data row1 col0\" >True</td>\n",
              "      <td id=\"T_41c1d_row1_col1\" class=\"data row1 col1\" >False</td>\n",
              "      <td id=\"T_41c1d_row1_col2\" class=\"data row1 col2\" >False</td>\n",
              "      <td id=\"T_41c1d_row1_col3\" class=\"data row1 col3\" >True</td>\n",
              "    </tr>\n",
              "    <tr>\n",
              "      <td id=\"T_41c1d_row2_col0\" class=\"data row2 col0\" >False</td>\n",
              "      <td id=\"T_41c1d_row2_col1\" class=\"data row2 col1\" >True</td>\n",
              "      <td id=\"T_41c1d_row2_col2\" class=\"data row2 col2\" >False</td>\n",
              "      <td id=\"T_41c1d_row2_col3\" class=\"data row2 col3\" >True</td>\n",
              "    </tr>\n",
              "    <tr>\n",
              "      <td id=\"T_41c1d_row3_col0\" class=\"data row3 col0\" >False</td>\n",
              "      <td id=\"T_41c1d_row3_col1\" class=\"data row3 col1\" >False</td>\n",
              "      <td id=\"T_41c1d_row3_col2\" class=\"data row3 col2\" >False</td>\n",
              "      <td id=\"T_41c1d_row3_col3\" class=\"data row3 col3\" >True</td>\n",
              "    </tr>\n",
              "  </tbody>\n",
              "</table>\n"
            ],
            "text/plain": [
              "<pandas.io.formats.style.Styler at 0x7f021da6a550>"
            ]
          },
          "execution_count": 11,
          "metadata": {},
          "output_type": "execute_result"
        }
      ],
      "source": [
        "exercicio01e = Truths(['p', 'q'], ['p and q', '(p and q) => p'], ints=False)\n",
        "\n",
        "df_style(exercicio01e)"
      ]
    },
    {
      "cell_type": "code",
      "execution_count": null,
      "metadata": {
        "ExecuteTime": {
          "end_time": "2019-10-22T13:22:20.359156Z",
          "start_time": "2019-10-22T13:22:20.017672Z"
        },
        "id": "NGtdPb_iUic-",
        "outputId": "b7322b11-1f92-44b1-a2a9-684c1e7a414a"
      },
      "outputs": [
        {
          "data": {
            "text/plain": [
              "'Tautology'"
            ]
          },
          "execution_count": 12,
          "metadata": {},
          "output_type": "execute_result"
        }
      ],
      "source": [
        "exercicio01e.valuation()"
      ]
    },
    {
      "cell_type": "markdown",
      "metadata": {
        "id": "zKYp_OLHUic_"
      },
      "source": [
        "\n",
        "f. $p \\rightarrow (p \\lor q)$\n"
      ]
    },
    {
      "cell_type": "code",
      "execution_count": null,
      "metadata": {
        "ExecuteTime": {
          "end_time": "2019-10-22T13:22:20.688635Z",
          "start_time": "2019-10-22T13:22:20.361181Z"
        },
        "id": "x8Q9QLEPUic_",
        "outputId": "2b949bf1-2dde-4582-ba4f-c30770faa531"
      },
      "outputs": [
        {
          "data": {
            "text/html": [
              "<style type=\"text/css\">\n",
              "#T_4334f_ th {\n",
              "  font-size: 10pt;\n",
              "}\n",
              "#T_4334f_row0_col0, #T_4334f_row0_col1, #T_4334f_row0_col2, #T_4334f_row0_col3, #T_4334f_row1_col0, #T_4334f_row1_col2, #T_4334f_row1_col3, #T_4334f_row2_col1, #T_4334f_row2_col2, #T_4334f_row2_col3, #T_4334f_row3_col3 {\n",
              "  text-align: center;\n",
              "  font-size: 115%;\n",
              "  color: green;\n",
              "}\n",
              "#T_4334f_row1_col1, #T_4334f_row2_col0, #T_4334f_row3_col0, #T_4334f_row3_col1, #T_4334f_row3_col2 {\n",
              "  text-align: center;\n",
              "  font-size: 115%;\n",
              "  color: red;\n",
              "}\n",
              "</style>\n",
              "<table id=\"T_4334f_\">\n",
              "  <thead>\n",
              "    <tr>\n",
              "      <th class=\"col_heading level0 col0\" >p</th>\n",
              "      <th class=\"col_heading level0 col1\" >q</th>\n",
              "      <th class=\"col_heading level0 col2\" >p or q</th>\n",
              "      <th class=\"col_heading level0 col3\" >p => (p or q)</th>\n",
              "    </tr>\n",
              "  </thead>\n",
              "  <tbody>\n",
              "    <tr>\n",
              "      <td id=\"T_4334f_row0_col0\" class=\"data row0 col0\" >True</td>\n",
              "      <td id=\"T_4334f_row0_col1\" class=\"data row0 col1\" >True</td>\n",
              "      <td id=\"T_4334f_row0_col2\" class=\"data row0 col2\" >True</td>\n",
              "      <td id=\"T_4334f_row0_col3\" class=\"data row0 col3\" >True</td>\n",
              "    </tr>\n",
              "    <tr>\n",
              "      <td id=\"T_4334f_row1_col0\" class=\"data row1 col0\" >True</td>\n",
              "      <td id=\"T_4334f_row1_col1\" class=\"data row1 col1\" >False</td>\n",
              "      <td id=\"T_4334f_row1_col2\" class=\"data row1 col2\" >True</td>\n",
              "      <td id=\"T_4334f_row1_col3\" class=\"data row1 col3\" >True</td>\n",
              "    </tr>\n",
              "    <tr>\n",
              "      <td id=\"T_4334f_row2_col0\" class=\"data row2 col0\" >False</td>\n",
              "      <td id=\"T_4334f_row2_col1\" class=\"data row2 col1\" >True</td>\n",
              "      <td id=\"T_4334f_row2_col2\" class=\"data row2 col2\" >True</td>\n",
              "      <td id=\"T_4334f_row2_col3\" class=\"data row2 col3\" >True</td>\n",
              "    </tr>\n",
              "    <tr>\n",
              "      <td id=\"T_4334f_row3_col0\" class=\"data row3 col0\" >False</td>\n",
              "      <td id=\"T_4334f_row3_col1\" class=\"data row3 col1\" >False</td>\n",
              "      <td id=\"T_4334f_row3_col2\" class=\"data row3 col2\" >False</td>\n",
              "      <td id=\"T_4334f_row3_col3\" class=\"data row3 col3\" >True</td>\n",
              "    </tr>\n",
              "  </tbody>\n",
              "</table>\n"
            ],
            "text/plain": [
              "<pandas.io.formats.style.Styler at 0x7f021d9ecfd0>"
            ]
          },
          "execution_count": 13,
          "metadata": {},
          "output_type": "execute_result"
        }
      ],
      "source": [
        "exercicio01f = Truths(['p', 'q'], ['p or q', 'p => (p or q)'], ints=False)\n",
        "\n",
        "df_style(exercicio01f)"
      ]
    },
    {
      "cell_type": "code",
      "execution_count": null,
      "metadata": {
        "ExecuteTime": {
          "end_time": "2019-10-22T13:22:21.170407Z",
          "start_time": "2019-10-22T13:22:20.689721Z"
        },
        "id": "w91TKFHPUic_",
        "outputId": "f8ec7d93-fb21-4f1e-af7e-6dd54bafe128"
      },
      "outputs": [
        {
          "data": {
            "text/plain": [
              "'Tautology'"
            ]
          },
          "execution_count": 14,
          "metadata": {},
          "output_type": "execute_result"
        }
      ],
      "source": [
        "exercicio01f.valuation()"
      ]
    },
    {
      "cell_type": "markdown",
      "metadata": {
        "id": "qEH8G9FIUic_"
      },
      "source": [
        "\n",
        "g. $ [ p \\land (p \\rightarrow q) ] \\rightarrow q $\n"
      ]
    },
    {
      "cell_type": "code",
      "execution_count": null,
      "metadata": {
        "ExecuteTime": {
          "end_time": "2019-10-22T13:22:21.629917Z",
          "start_time": "2019-10-22T13:22:21.171869Z"
        },
        "id": "N_NB_KxnUic_",
        "outputId": "296ebb2e-681b-4059-d629-9424b45791ab"
      },
      "outputs": [
        {
          "data": {
            "text/html": [
              "<style type=\"text/css\">\n",
              "#T_e701d_ th {\n",
              "  font-size: 10pt;\n",
              "}\n",
              "#T_e701d_row0_col0, #T_e701d_row0_col1, #T_e701d_row0_col2, #T_e701d_row0_col3, #T_e701d_row0_col4, #T_e701d_row1_col0, #T_e701d_row1_col4, #T_e701d_row2_col1, #T_e701d_row2_col2, #T_e701d_row2_col4, #T_e701d_row3_col2, #T_e701d_row3_col4 {\n",
              "  text-align: center;\n",
              "  font-size: 115%;\n",
              "  color: green;\n",
              "}\n",
              "#T_e701d_row1_col1, #T_e701d_row1_col2, #T_e701d_row1_col3, #T_e701d_row2_col0, #T_e701d_row2_col3, #T_e701d_row3_col0, #T_e701d_row3_col1, #T_e701d_row3_col3 {\n",
              "  text-align: center;\n",
              "  font-size: 115%;\n",
              "  color: red;\n",
              "}\n",
              "</style>\n",
              "<table id=\"T_e701d_\">\n",
              "  <thead>\n",
              "    <tr>\n",
              "      <th class=\"col_heading level0 col0\" >p</th>\n",
              "      <th class=\"col_heading level0 col1\" >q</th>\n",
              "      <th class=\"col_heading level0 col2\" >p => q</th>\n",
              "      <th class=\"col_heading level0 col3\" >p and (p => q)</th>\n",
              "      <th class=\"col_heading level0 col4\" >(p and (p => q)) => q</th>\n",
              "    </tr>\n",
              "  </thead>\n",
              "  <tbody>\n",
              "    <tr>\n",
              "      <td id=\"T_e701d_row0_col0\" class=\"data row0 col0\" >True</td>\n",
              "      <td id=\"T_e701d_row0_col1\" class=\"data row0 col1\" >True</td>\n",
              "      <td id=\"T_e701d_row0_col2\" class=\"data row0 col2\" >True</td>\n",
              "      <td id=\"T_e701d_row0_col3\" class=\"data row0 col3\" >True</td>\n",
              "      <td id=\"T_e701d_row0_col4\" class=\"data row0 col4\" >True</td>\n",
              "    </tr>\n",
              "    <tr>\n",
              "      <td id=\"T_e701d_row1_col0\" class=\"data row1 col0\" >True</td>\n",
              "      <td id=\"T_e701d_row1_col1\" class=\"data row1 col1\" >False</td>\n",
              "      <td id=\"T_e701d_row1_col2\" class=\"data row1 col2\" >False</td>\n",
              "      <td id=\"T_e701d_row1_col3\" class=\"data row1 col3\" >False</td>\n",
              "      <td id=\"T_e701d_row1_col4\" class=\"data row1 col4\" >True</td>\n",
              "    </tr>\n",
              "    <tr>\n",
              "      <td id=\"T_e701d_row2_col0\" class=\"data row2 col0\" >False</td>\n",
              "      <td id=\"T_e701d_row2_col1\" class=\"data row2 col1\" >True</td>\n",
              "      <td id=\"T_e701d_row2_col2\" class=\"data row2 col2\" >True</td>\n",
              "      <td id=\"T_e701d_row2_col3\" class=\"data row2 col3\" >False</td>\n",
              "      <td id=\"T_e701d_row2_col4\" class=\"data row2 col4\" >True</td>\n",
              "    </tr>\n",
              "    <tr>\n",
              "      <td id=\"T_e701d_row3_col0\" class=\"data row3 col0\" >False</td>\n",
              "      <td id=\"T_e701d_row3_col1\" class=\"data row3 col1\" >False</td>\n",
              "      <td id=\"T_e701d_row3_col2\" class=\"data row3 col2\" >True</td>\n",
              "      <td id=\"T_e701d_row3_col3\" class=\"data row3 col3\" >False</td>\n",
              "      <td id=\"T_e701d_row3_col4\" class=\"data row3 col4\" >True</td>\n",
              "    </tr>\n",
              "  </tbody>\n",
              "</table>\n"
            ],
            "text/plain": [
              "<pandas.io.formats.style.Styler at 0x7f021d9b8be0>"
            ]
          },
          "execution_count": 15,
          "metadata": {},
          "output_type": "execute_result"
        }
      ],
      "source": [
        "exercicio01g = Truths(['p', 'q'], \n",
        "                      ['p => q', 'p and (p => q)', '(p and (p => q)) => q'],\n",
        "                      ints=False)\n",
        "\n",
        "df_style(exercicio01g)"
      ]
    },
    {
      "cell_type": "code",
      "execution_count": null,
      "metadata": {
        "ExecuteTime": {
          "end_time": "2019-10-22T13:22:21.962419Z",
          "start_time": "2019-10-22T13:22:21.630885Z"
        },
        "id": "pCeLQTgLUidA",
        "outputId": "e0d453d0-4458-4642-e9d3-1c928de19ad5"
      },
      "outputs": [
        {
          "data": {
            "text/plain": [
              "'Tautology'"
            ]
          },
          "execution_count": 16,
          "metadata": {},
          "output_type": "execute_result"
        }
      ],
      "source": [
        "exercicio01g.valuation()"
      ]
    },
    {
      "cell_type": "markdown",
      "metadata": {
        "id": "UGCK6qVWUidA"
      },
      "source": [
        "\n",
        "h. $ [ (p \\rightarrow q) \\land \\neg q ] \\rightarrow \\neg q $\n"
      ]
    },
    {
      "cell_type": "code",
      "execution_count": null,
      "metadata": {
        "ExecuteTime": {
          "end_time": "2019-10-22T13:22:22.251866Z",
          "start_time": "2019-10-22T13:22:21.964194Z"
        },
        "id": "imKN9r9fUidA",
        "outputId": "336824b4-2fe2-429b-b099-88d39017d7ec"
      },
      "outputs": [
        {
          "data": {
            "text/html": [
              "<style type=\"text/css\">\n",
              "#T_537aa_ th {\n",
              "  font-size: 10pt;\n",
              "}\n",
              "#T_537aa_row0_col0, #T_537aa_row0_col1, #T_537aa_row0_col3, #T_537aa_row0_col5, #T_537aa_row1_col0, #T_537aa_row1_col2, #T_537aa_row1_col5, #T_537aa_row2_col1, #T_537aa_row2_col3, #T_537aa_row2_col5, #T_537aa_row3_col2, #T_537aa_row3_col3, #T_537aa_row3_col4, #T_537aa_row3_col5 {\n",
              "  text-align: center;\n",
              "  font-size: 115%;\n",
              "  color: green;\n",
              "}\n",
              "#T_537aa_row0_col2, #T_537aa_row0_col4, #T_537aa_row1_col1, #T_537aa_row1_col3, #T_537aa_row1_col4, #T_537aa_row2_col0, #T_537aa_row2_col2, #T_537aa_row2_col4, #T_537aa_row3_col0, #T_537aa_row3_col1 {\n",
              "  text-align: center;\n",
              "  font-size: 115%;\n",
              "  color: red;\n",
              "}\n",
              "</style>\n",
              "<table id=\"T_537aa_\">\n",
              "  <thead>\n",
              "    <tr>\n",
              "      <th class=\"col_heading level0 col0\" >p</th>\n",
              "      <th class=\"col_heading level0 col1\" >q</th>\n",
              "      <th class=\"col_heading level0 col2\" >~q</th>\n",
              "      <th class=\"col_heading level0 col3\" >p => q</th>\n",
              "      <th class=\"col_heading level0 col4\" >(p => q) and (~q)</th>\n",
              "      <th class=\"col_heading level0 col5\" >((p => q) and (~q)) => (~q)</th>\n",
              "    </tr>\n",
              "  </thead>\n",
              "  <tbody>\n",
              "    <tr>\n",
              "      <td id=\"T_537aa_row0_col0\" class=\"data row0 col0\" >True</td>\n",
              "      <td id=\"T_537aa_row0_col1\" class=\"data row0 col1\" >True</td>\n",
              "      <td id=\"T_537aa_row0_col2\" class=\"data row0 col2\" >False</td>\n",
              "      <td id=\"T_537aa_row0_col3\" class=\"data row0 col3\" >True</td>\n",
              "      <td id=\"T_537aa_row0_col4\" class=\"data row0 col4\" >False</td>\n",
              "      <td id=\"T_537aa_row0_col5\" class=\"data row0 col5\" >True</td>\n",
              "    </tr>\n",
              "    <tr>\n",
              "      <td id=\"T_537aa_row1_col0\" class=\"data row1 col0\" >True</td>\n",
              "      <td id=\"T_537aa_row1_col1\" class=\"data row1 col1\" >False</td>\n",
              "      <td id=\"T_537aa_row1_col2\" class=\"data row1 col2\" >True</td>\n",
              "      <td id=\"T_537aa_row1_col3\" class=\"data row1 col3\" >False</td>\n",
              "      <td id=\"T_537aa_row1_col4\" class=\"data row1 col4\" >False</td>\n",
              "      <td id=\"T_537aa_row1_col5\" class=\"data row1 col5\" >True</td>\n",
              "    </tr>\n",
              "    <tr>\n",
              "      <td id=\"T_537aa_row2_col0\" class=\"data row2 col0\" >False</td>\n",
              "      <td id=\"T_537aa_row2_col1\" class=\"data row2 col1\" >True</td>\n",
              "      <td id=\"T_537aa_row2_col2\" class=\"data row2 col2\" >False</td>\n",
              "      <td id=\"T_537aa_row2_col3\" class=\"data row2 col3\" >True</td>\n",
              "      <td id=\"T_537aa_row2_col4\" class=\"data row2 col4\" >False</td>\n",
              "      <td id=\"T_537aa_row2_col5\" class=\"data row2 col5\" >True</td>\n",
              "    </tr>\n",
              "    <tr>\n",
              "      <td id=\"T_537aa_row3_col0\" class=\"data row3 col0\" >False</td>\n",
              "      <td id=\"T_537aa_row3_col1\" class=\"data row3 col1\" >False</td>\n",
              "      <td id=\"T_537aa_row3_col2\" class=\"data row3 col2\" >True</td>\n",
              "      <td id=\"T_537aa_row3_col3\" class=\"data row3 col3\" >True</td>\n",
              "      <td id=\"T_537aa_row3_col4\" class=\"data row3 col4\" >True</td>\n",
              "      <td id=\"T_537aa_row3_col5\" class=\"data row3 col5\" >True</td>\n",
              "    </tr>\n",
              "  </tbody>\n",
              "</table>\n"
            ],
            "text/plain": [
              "<pandas.io.formats.style.Styler at 0x7f021da7b670>"
            ]
          },
          "execution_count": 17,
          "metadata": {},
          "output_type": "execute_result"
        }
      ],
      "source": [
        "exercicio01h = Truths(\n",
        "    ['p', 'q'],\n",
        "    ['~q', 'p => q', '(p => q) and (~q)', '((p => q) and (~q)) => (~q)'],\n",
        "    ints=False)\n",
        "\n",
        "df_style(exercicio01h)"
      ]
    },
    {
      "cell_type": "code",
      "execution_count": null,
      "metadata": {
        "ExecuteTime": {
          "end_time": "2019-10-22T13:22:22.542668Z",
          "start_time": "2019-10-22T13:22:22.253307Z"
        },
        "id": "shvBmyRzUidA",
        "outputId": "2c4a329d-0405-453c-ac1e-38e6e101cb0e"
      },
      "outputs": [
        {
          "data": {
            "text/plain": [
              "'Tautology'"
            ]
          },
          "execution_count": 18,
          "metadata": {},
          "output_type": "execute_result"
        }
      ],
      "source": [
        "exercicio01h.valuation()"
      ]
    },
    {
      "cell_type": "markdown",
      "metadata": {
        "id": "AdWgPFd0UidA"
      },
      "source": [
        "\n",
        "i. $ (p \\land q) \\land \\neg p $\n"
      ]
    },
    {
      "cell_type": "code",
      "execution_count": null,
      "metadata": {
        "ExecuteTime": {
          "end_time": "2019-10-22T13:22:22.886738Z",
          "start_time": "2019-10-22T13:22:22.543831Z"
        },
        "id": "FaSyOBw4UidB",
        "outputId": "78754e27-0e2f-4b4b-e412-170acb94b129"
      },
      "outputs": [
        {
          "data": {
            "text/html": [
              "<style type=\"text/css\">\n",
              "#T_d41c0_ th {\n",
              "  font-size: 10pt;\n",
              "}\n",
              "#T_d41c0_row0_col0, #T_d41c0_row0_col1, #T_d41c0_row0_col3, #T_d41c0_row1_col0, #T_d41c0_row2_col1, #T_d41c0_row2_col2, #T_d41c0_row3_col2 {\n",
              "  text-align: center;\n",
              "  font-size: 115%;\n",
              "  color: green;\n",
              "}\n",
              "#T_d41c0_row0_col2, #T_d41c0_row0_col4, #T_d41c0_row1_col1, #T_d41c0_row1_col2, #T_d41c0_row1_col3, #T_d41c0_row1_col4, #T_d41c0_row2_col0, #T_d41c0_row2_col3, #T_d41c0_row2_col4, #T_d41c0_row3_col0, #T_d41c0_row3_col1, #T_d41c0_row3_col3, #T_d41c0_row3_col4 {\n",
              "  text-align: center;\n",
              "  font-size: 115%;\n",
              "  color: red;\n",
              "}\n",
              "</style>\n",
              "<table id=\"T_d41c0_\">\n",
              "  <thead>\n",
              "    <tr>\n",
              "      <th class=\"col_heading level0 col0\" >p</th>\n",
              "      <th class=\"col_heading level0 col1\" >q</th>\n",
              "      <th class=\"col_heading level0 col2\" >~p</th>\n",
              "      <th class=\"col_heading level0 col3\" >p and q</th>\n",
              "      <th class=\"col_heading level0 col4\" >(p and q) and (~p)</th>\n",
              "    </tr>\n",
              "  </thead>\n",
              "  <tbody>\n",
              "    <tr>\n",
              "      <td id=\"T_d41c0_row0_col0\" class=\"data row0 col0\" >True</td>\n",
              "      <td id=\"T_d41c0_row0_col1\" class=\"data row0 col1\" >True</td>\n",
              "      <td id=\"T_d41c0_row0_col2\" class=\"data row0 col2\" >False</td>\n",
              "      <td id=\"T_d41c0_row0_col3\" class=\"data row0 col3\" >True</td>\n",
              "      <td id=\"T_d41c0_row0_col4\" class=\"data row0 col4\" >False</td>\n",
              "    </tr>\n",
              "    <tr>\n",
              "      <td id=\"T_d41c0_row1_col0\" class=\"data row1 col0\" >True</td>\n",
              "      <td id=\"T_d41c0_row1_col1\" class=\"data row1 col1\" >False</td>\n",
              "      <td id=\"T_d41c0_row1_col2\" class=\"data row1 col2\" >False</td>\n",
              "      <td id=\"T_d41c0_row1_col3\" class=\"data row1 col3\" >False</td>\n",
              "      <td id=\"T_d41c0_row1_col4\" class=\"data row1 col4\" >False</td>\n",
              "    </tr>\n",
              "    <tr>\n",
              "      <td id=\"T_d41c0_row2_col0\" class=\"data row2 col0\" >False</td>\n",
              "      <td id=\"T_d41c0_row2_col1\" class=\"data row2 col1\" >True</td>\n",
              "      <td id=\"T_d41c0_row2_col2\" class=\"data row2 col2\" >True</td>\n",
              "      <td id=\"T_d41c0_row2_col3\" class=\"data row2 col3\" >False</td>\n",
              "      <td id=\"T_d41c0_row2_col4\" class=\"data row2 col4\" >False</td>\n",
              "    </tr>\n",
              "    <tr>\n",
              "      <td id=\"T_d41c0_row3_col0\" class=\"data row3 col0\" >False</td>\n",
              "      <td id=\"T_d41c0_row3_col1\" class=\"data row3 col1\" >False</td>\n",
              "      <td id=\"T_d41c0_row3_col2\" class=\"data row3 col2\" >True</td>\n",
              "      <td id=\"T_d41c0_row3_col3\" class=\"data row3 col3\" >False</td>\n",
              "      <td id=\"T_d41c0_row3_col4\" class=\"data row3 col4\" >False</td>\n",
              "    </tr>\n",
              "  </tbody>\n",
              "</table>\n"
            ],
            "text/plain": [
              "<pandas.io.formats.style.Styler at 0x7f021d968bb0>"
            ]
          },
          "execution_count": 19,
          "metadata": {},
          "output_type": "execute_result"
        }
      ],
      "source": [
        "exercicio01i = Truths(['p', 'q'], \n",
        "                      ['~p', 'p and q', '(p and q) and (~p)'],\n",
        "                      ints=False)\n",
        "\n",
        "df_style(exercicio01i)"
      ]
    },
    {
      "cell_type": "code",
      "execution_count": null,
      "metadata": {
        "ExecuteTime": {
          "end_time": "2019-10-22T13:22:23.224524Z",
          "start_time": "2019-10-22T13:22:22.888169Z"
        },
        "id": "Vs-N_8oDUidB",
        "outputId": "cbf44c2b-1ade-44a8-fe5a-ae59df5e80b2"
      },
      "outputs": [
        {
          "data": {
            "text/plain": [
              "'Contradiction'"
            ]
          },
          "execution_count": 20,
          "metadata": {},
          "output_type": "execute_result"
        }
      ],
      "source": [
        "exercicio01i.valuation()"
      ]
    },
    {
      "cell_type": "markdown",
      "metadata": {
        "id": "qRVNMQh9UidB"
      },
      "source": [
        "\n",
        "j. $ [ (p \\lor \\neg q) \\land r ] \\land [ (p \\land q) \\lor \\neg r ] $\n",
        "\n"
      ]
    },
    {
      "cell_type": "code",
      "execution_count": null,
      "metadata": {
        "ExecuteTime": {
          "end_time": "2019-10-22T13:22:23.578494Z",
          "start_time": "2019-10-22T13:22:23.227021Z"
        },
        "id": "WhLBSUccUidB",
        "outputId": "fbe82bd5-b319-4344-c986-b43269cd876d"
      },
      "outputs": [
        {
          "data": {
            "text/html": [
              "<style type=\"text/css\">\n",
              "#T_6dee3_ th {\n",
              "  font-size: 10pt;\n",
              "}\n",
              "#T_6dee3_row0_col0, #T_6dee3_row0_col1, #T_6dee3_row0_col2, #T_6dee3_row0_col5, #T_6dee3_row0_col6, #T_6dee3_row0_col7, #T_6dee3_row0_col8, #T_6dee3_row0_col9, #T_6dee3_row1_col0, #T_6dee3_row1_col1, #T_6dee3_row1_col4, #T_6dee3_row1_col5, #T_6dee3_row1_col7, #T_6dee3_row1_col8, #T_6dee3_row2_col0, #T_6dee3_row2_col2, #T_6dee3_row2_col3, #T_6dee3_row2_col5, #T_6dee3_row2_col6, #T_6dee3_row3_col0, #T_6dee3_row3_col3, #T_6dee3_row3_col4, #T_6dee3_row3_col5, #T_6dee3_row3_col8, #T_6dee3_row4_col1, #T_6dee3_row4_col2, #T_6dee3_row5_col1, #T_6dee3_row5_col4, #T_6dee3_row5_col8, #T_6dee3_row6_col2, #T_6dee3_row6_col3, #T_6dee3_row6_col5, #T_6dee3_row6_col6, #T_6dee3_row7_col3, #T_6dee3_row7_col4, #T_6dee3_row7_col5, #T_6dee3_row7_col8 {\n",
              "  text-align: center;\n",
              "  font-size: 115%;\n",
              "  color: green;\n",
              "}\n",
              "#T_6dee3_row0_col3, #T_6dee3_row0_col4, #T_6dee3_row1_col2, #T_6dee3_row1_col3, #T_6dee3_row1_col6, #T_6dee3_row1_col9, #T_6dee3_row2_col1, #T_6dee3_row2_col4, #T_6dee3_row2_col7, #T_6dee3_row2_col8, #T_6dee3_row2_col9, #T_6dee3_row3_col1, #T_6dee3_row3_col2, #T_6dee3_row3_col6, #T_6dee3_row3_col7, #T_6dee3_row3_col9, #T_6dee3_row4_col0, #T_6dee3_row4_col3, #T_6dee3_row4_col4, #T_6dee3_row4_col5, #T_6dee3_row4_col6, #T_6dee3_row4_col7, #T_6dee3_row4_col8, #T_6dee3_row4_col9, #T_6dee3_row5_col0, #T_6dee3_row5_col2, #T_6dee3_row5_col3, #T_6dee3_row5_col5, #T_6dee3_row5_col6, #T_6dee3_row5_col7, #T_6dee3_row5_col9, #T_6dee3_row6_col0, #T_6dee3_row6_col1, #T_6dee3_row6_col4, #T_6dee3_row6_col7, #T_6dee3_row6_col8, #T_6dee3_row6_col9, #T_6dee3_row7_col0, #T_6dee3_row7_col1, #T_6dee3_row7_col2, #T_6dee3_row7_col6, #T_6dee3_row7_col7, #T_6dee3_row7_col9 {\n",
              "  text-align: center;\n",
              "  font-size: 115%;\n",
              "  color: red;\n",
              "}\n",
              "</style>\n",
              "<table id=\"T_6dee3_\">\n",
              "  <thead>\n",
              "    <tr>\n",
              "      <th class=\"col_heading level0 col0\" >p</th>\n",
              "      <th class=\"col_heading level0 col1\" >q</th>\n",
              "      <th class=\"col_heading level0 col2\" >r</th>\n",
              "      <th class=\"col_heading level0 col3\" >~q</th>\n",
              "      <th class=\"col_heading level0 col4\" >~r</th>\n",
              "      <th class=\"col_heading level0 col5\" >p or (~q)</th>\n",
              "      <th class=\"col_heading level0 col6\" >(p or (~q)) and r</th>\n",
              "      <th class=\"col_heading level0 col7\" >p and q</th>\n",
              "      <th class=\"col_heading level0 col8\" >(p and q) or (~r)</th>\n",
              "      <th class=\"col_heading level0 col9\" >((p or (~q)) and r) and ((p and q) or (~r))</th>\n",
              "    </tr>\n",
              "  </thead>\n",
              "  <tbody>\n",
              "    <tr>\n",
              "      <td id=\"T_6dee3_row0_col0\" class=\"data row0 col0\" >True</td>\n",
              "      <td id=\"T_6dee3_row0_col1\" class=\"data row0 col1\" >True</td>\n",
              "      <td id=\"T_6dee3_row0_col2\" class=\"data row0 col2\" >True</td>\n",
              "      <td id=\"T_6dee3_row0_col3\" class=\"data row0 col3\" >False</td>\n",
              "      <td id=\"T_6dee3_row0_col4\" class=\"data row0 col4\" >False</td>\n",
              "      <td id=\"T_6dee3_row0_col5\" class=\"data row0 col5\" >True</td>\n",
              "      <td id=\"T_6dee3_row0_col6\" class=\"data row0 col6\" >True</td>\n",
              "      <td id=\"T_6dee3_row0_col7\" class=\"data row0 col7\" >True</td>\n",
              "      <td id=\"T_6dee3_row0_col8\" class=\"data row0 col8\" >True</td>\n",
              "      <td id=\"T_6dee3_row0_col9\" class=\"data row0 col9\" >True</td>\n",
              "    </tr>\n",
              "    <tr>\n",
              "      <td id=\"T_6dee3_row1_col0\" class=\"data row1 col0\" >True</td>\n",
              "      <td id=\"T_6dee3_row1_col1\" class=\"data row1 col1\" >True</td>\n",
              "      <td id=\"T_6dee3_row1_col2\" class=\"data row1 col2\" >False</td>\n",
              "      <td id=\"T_6dee3_row1_col3\" class=\"data row1 col3\" >False</td>\n",
              "      <td id=\"T_6dee3_row1_col4\" class=\"data row1 col4\" >True</td>\n",
              "      <td id=\"T_6dee3_row1_col5\" class=\"data row1 col5\" >True</td>\n",
              "      <td id=\"T_6dee3_row1_col6\" class=\"data row1 col6\" >False</td>\n",
              "      <td id=\"T_6dee3_row1_col7\" class=\"data row1 col7\" >True</td>\n",
              "      <td id=\"T_6dee3_row1_col8\" class=\"data row1 col8\" >True</td>\n",
              "      <td id=\"T_6dee3_row1_col9\" class=\"data row1 col9\" >False</td>\n",
              "    </tr>\n",
              "    <tr>\n",
              "      <td id=\"T_6dee3_row2_col0\" class=\"data row2 col0\" >True</td>\n",
              "      <td id=\"T_6dee3_row2_col1\" class=\"data row2 col1\" >False</td>\n",
              "      <td id=\"T_6dee3_row2_col2\" class=\"data row2 col2\" >True</td>\n",
              "      <td id=\"T_6dee3_row2_col3\" class=\"data row2 col3\" >True</td>\n",
              "      <td id=\"T_6dee3_row2_col4\" class=\"data row2 col4\" >False</td>\n",
              "      <td id=\"T_6dee3_row2_col5\" class=\"data row2 col5\" >True</td>\n",
              "      <td id=\"T_6dee3_row2_col6\" class=\"data row2 col6\" >True</td>\n",
              "      <td id=\"T_6dee3_row2_col7\" class=\"data row2 col7\" >False</td>\n",
              "      <td id=\"T_6dee3_row2_col8\" class=\"data row2 col8\" >False</td>\n",
              "      <td id=\"T_6dee3_row2_col9\" class=\"data row2 col9\" >False</td>\n",
              "    </tr>\n",
              "    <tr>\n",
              "      <td id=\"T_6dee3_row3_col0\" class=\"data row3 col0\" >True</td>\n",
              "      <td id=\"T_6dee3_row3_col1\" class=\"data row3 col1\" >False</td>\n",
              "      <td id=\"T_6dee3_row3_col2\" class=\"data row3 col2\" >False</td>\n",
              "      <td id=\"T_6dee3_row3_col3\" class=\"data row3 col3\" >True</td>\n",
              "      <td id=\"T_6dee3_row3_col4\" class=\"data row3 col4\" >True</td>\n",
              "      <td id=\"T_6dee3_row3_col5\" class=\"data row3 col5\" >True</td>\n",
              "      <td id=\"T_6dee3_row3_col6\" class=\"data row3 col6\" >False</td>\n",
              "      <td id=\"T_6dee3_row3_col7\" class=\"data row3 col7\" >False</td>\n",
              "      <td id=\"T_6dee3_row3_col8\" class=\"data row3 col8\" >True</td>\n",
              "      <td id=\"T_6dee3_row3_col9\" class=\"data row3 col9\" >False</td>\n",
              "    </tr>\n",
              "    <tr>\n",
              "      <td id=\"T_6dee3_row4_col0\" class=\"data row4 col0\" >False</td>\n",
              "      <td id=\"T_6dee3_row4_col1\" class=\"data row4 col1\" >True</td>\n",
              "      <td id=\"T_6dee3_row4_col2\" class=\"data row4 col2\" >True</td>\n",
              "      <td id=\"T_6dee3_row4_col3\" class=\"data row4 col3\" >False</td>\n",
              "      <td id=\"T_6dee3_row4_col4\" class=\"data row4 col4\" >False</td>\n",
              "      <td id=\"T_6dee3_row4_col5\" class=\"data row4 col5\" >False</td>\n",
              "      <td id=\"T_6dee3_row4_col6\" class=\"data row4 col6\" >False</td>\n",
              "      <td id=\"T_6dee3_row4_col7\" class=\"data row4 col7\" >False</td>\n",
              "      <td id=\"T_6dee3_row4_col8\" class=\"data row4 col8\" >False</td>\n",
              "      <td id=\"T_6dee3_row4_col9\" class=\"data row4 col9\" >False</td>\n",
              "    </tr>\n",
              "    <tr>\n",
              "      <td id=\"T_6dee3_row5_col0\" class=\"data row5 col0\" >False</td>\n",
              "      <td id=\"T_6dee3_row5_col1\" class=\"data row5 col1\" >True</td>\n",
              "      <td id=\"T_6dee3_row5_col2\" class=\"data row5 col2\" >False</td>\n",
              "      <td id=\"T_6dee3_row5_col3\" class=\"data row5 col3\" >False</td>\n",
              "      <td id=\"T_6dee3_row5_col4\" class=\"data row5 col4\" >True</td>\n",
              "      <td id=\"T_6dee3_row5_col5\" class=\"data row5 col5\" >False</td>\n",
              "      <td id=\"T_6dee3_row5_col6\" class=\"data row5 col6\" >False</td>\n",
              "      <td id=\"T_6dee3_row5_col7\" class=\"data row5 col7\" >False</td>\n",
              "      <td id=\"T_6dee3_row5_col8\" class=\"data row5 col8\" >True</td>\n",
              "      <td id=\"T_6dee3_row5_col9\" class=\"data row5 col9\" >False</td>\n",
              "    </tr>\n",
              "    <tr>\n",
              "      <td id=\"T_6dee3_row6_col0\" class=\"data row6 col0\" >False</td>\n",
              "      <td id=\"T_6dee3_row6_col1\" class=\"data row6 col1\" >False</td>\n",
              "      <td id=\"T_6dee3_row6_col2\" class=\"data row6 col2\" >True</td>\n",
              "      <td id=\"T_6dee3_row6_col3\" class=\"data row6 col3\" >True</td>\n",
              "      <td id=\"T_6dee3_row6_col4\" class=\"data row6 col4\" >False</td>\n",
              "      <td id=\"T_6dee3_row6_col5\" class=\"data row6 col5\" >True</td>\n",
              "      <td id=\"T_6dee3_row6_col6\" class=\"data row6 col6\" >True</td>\n",
              "      <td id=\"T_6dee3_row6_col7\" class=\"data row6 col7\" >False</td>\n",
              "      <td id=\"T_6dee3_row6_col8\" class=\"data row6 col8\" >False</td>\n",
              "      <td id=\"T_6dee3_row6_col9\" class=\"data row6 col9\" >False</td>\n",
              "    </tr>\n",
              "    <tr>\n",
              "      <td id=\"T_6dee3_row7_col0\" class=\"data row7 col0\" >False</td>\n",
              "      <td id=\"T_6dee3_row7_col1\" class=\"data row7 col1\" >False</td>\n",
              "      <td id=\"T_6dee3_row7_col2\" class=\"data row7 col2\" >False</td>\n",
              "      <td id=\"T_6dee3_row7_col3\" class=\"data row7 col3\" >True</td>\n",
              "      <td id=\"T_6dee3_row7_col4\" class=\"data row7 col4\" >True</td>\n",
              "      <td id=\"T_6dee3_row7_col5\" class=\"data row7 col5\" >True</td>\n",
              "      <td id=\"T_6dee3_row7_col6\" class=\"data row7 col6\" >False</td>\n",
              "      <td id=\"T_6dee3_row7_col7\" class=\"data row7 col7\" >False</td>\n",
              "      <td id=\"T_6dee3_row7_col8\" class=\"data row7 col8\" >True</td>\n",
              "      <td id=\"T_6dee3_row7_col9\" class=\"data row7 col9\" >False</td>\n",
              "    </tr>\n",
              "  </tbody>\n",
              "</table>\n"
            ],
            "text/plain": [
              "<pandas.io.formats.style.Styler at 0x7f021da66af0>"
            ]
          },
          "execution_count": 21,
          "metadata": {},
          "output_type": "execute_result"
        }
      ],
      "source": [
        "exercicio01j = Truths(\n",
        "    ['p', 'q', 'r'], \n",
        "    ['~q', '~r', 'p or (~q)', '(p or (~q)) and r', 'p and q',\n",
        "     '(p and q) or (~r)', '((p or (~q)) and r) and ((p and q) or (~r))'],\n",
        "    ints=False)\n",
        "\n",
        "df_style(exercicio01j)"
      ]
    },
    {
      "cell_type": "code",
      "execution_count": null,
      "metadata": {
        "ExecuteTime": {
          "end_time": "2019-10-22T13:22:23.935959Z",
          "start_time": "2019-10-22T13:22:23.579510Z"
        },
        "id": "6jDspujgUidB",
        "outputId": "c485769b-fdfa-4270-c481-7af6ed93d8dc"
      },
      "outputs": [
        {
          "data": {
            "text/plain": [
              "'Contingency'"
            ]
          },
          "execution_count": 22,
          "metadata": {},
          "output_type": "execute_result"
        }
      ],
      "source": [
        "exercicio01j.valuation()"
      ]
    },
    {
      "cell_type": "markdown",
      "metadata": {
        "id": "CVjWoMT1UidC"
      },
      "source": [
        "k. $ [ (p \\leftrightarrow q) \\rightarrow r ] \\leftrightarrow [ \\neg (p \\land r) \\rightarrow q ] $"
      ]
    },
    {
      "cell_type": "code",
      "execution_count": null,
      "metadata": {
        "ExecuteTime": {
          "end_time": "2019-10-22T13:22:24.313090Z",
          "start_time": "2019-10-22T13:22:23.939056Z"
        },
        "id": "xe4Wq_3yUidC",
        "outputId": "1652fb2a-9bd9-4bd7-8148-000b4434bdf7"
      },
      "outputs": [
        {
          "data": {
            "text/html": [
              "<style type=\"text/css\">\n",
              "#T_4db34_ th {\n",
              "  font-size: 10pt;\n",
              "}\n",
              "#T_4db34_row0_col0, #T_4db34_row0_col1, #T_4db34_row0_col2, #T_4db34_row0_col3, #T_4db34_row0_col4, #T_4db34_row0_col5, #T_4db34_row0_col7, #T_4db34_row0_col8, #T_4db34_row1_col0, #T_4db34_row1_col1, #T_4db34_row1_col3, #T_4db34_row1_col6, #T_4db34_row1_col7, #T_4db34_row2_col0, #T_4db34_row2_col2, #T_4db34_row2_col4, #T_4db34_row2_col5, #T_4db34_row2_col7, #T_4db34_row2_col8, #T_4db34_row3_col0, #T_4db34_row3_col4, #T_4db34_row3_col6, #T_4db34_row4_col1, #T_4db34_row4_col2, #T_4db34_row4_col4, #T_4db34_row4_col6, #T_4db34_row4_col7, #T_4db34_row4_col8, #T_4db34_row5_col1, #T_4db34_row5_col4, #T_4db34_row5_col6, #T_4db34_row5_col7, #T_4db34_row5_col8, #T_4db34_row6_col2, #T_4db34_row6_col3, #T_4db34_row6_col4, #T_4db34_row6_col6, #T_4db34_row7_col3, #T_4db34_row7_col6, #T_4db34_row7_col8 {\n",
              "  text-align: center;\n",
              "  font-size: 115%;\n",
              "  color: green;\n",
              "}\n",
              "#T_4db34_row0_col6, #T_4db34_row1_col2, #T_4db34_row1_col4, #T_4db34_row1_col5, #T_4db34_row1_col8, #T_4db34_row2_col1, #T_4db34_row2_col3, #T_4db34_row2_col6, #T_4db34_row3_col1, #T_4db34_row3_col2, #T_4db34_row3_col3, #T_4db34_row3_col5, #T_4db34_row3_col7, #T_4db34_row3_col8, #T_4db34_row4_col0, #T_4db34_row4_col3, #T_4db34_row4_col5, #T_4db34_row5_col0, #T_4db34_row5_col2, #T_4db34_row5_col3, #T_4db34_row5_col5, #T_4db34_row6_col0, #T_4db34_row6_col1, #T_4db34_row6_col5, #T_4db34_row6_col7, #T_4db34_row6_col8, #T_4db34_row7_col0, #T_4db34_row7_col1, #T_4db34_row7_col2, #T_4db34_row7_col4, #T_4db34_row7_col5, #T_4db34_row7_col7 {\n",
              "  text-align: center;\n",
              "  font-size: 115%;\n",
              "  color: red;\n",
              "}\n",
              "</style>\n",
              "<table id=\"T_4db34_\">\n",
              "  <thead>\n",
              "    <tr>\n",
              "      <th class=\"col_heading level0 col0\" >p</th>\n",
              "      <th class=\"col_heading level0 col1\" >q</th>\n",
              "      <th class=\"col_heading level0 col2\" >r</th>\n",
              "      <th class=\"col_heading level0 col3\" >p = q</th>\n",
              "      <th class=\"col_heading level0 col4\" >(p = q) => r</th>\n",
              "      <th class=\"col_heading level0 col5\" >p and r</th>\n",
              "      <th class=\"col_heading level0 col6\" >~(p and r)</th>\n",
              "      <th class=\"col_heading level0 col7\" >(~(p and r)) => q</th>\n",
              "      <th class=\"col_heading level0 col8\" >((p = q) => r) = ((~(p and r)) => q)</th>\n",
              "    </tr>\n",
              "  </thead>\n",
              "  <tbody>\n",
              "    <tr>\n",
              "      <td id=\"T_4db34_row0_col0\" class=\"data row0 col0\" >True</td>\n",
              "      <td id=\"T_4db34_row0_col1\" class=\"data row0 col1\" >True</td>\n",
              "      <td id=\"T_4db34_row0_col2\" class=\"data row0 col2\" >True</td>\n",
              "      <td id=\"T_4db34_row0_col3\" class=\"data row0 col3\" >True</td>\n",
              "      <td id=\"T_4db34_row0_col4\" class=\"data row0 col4\" >True</td>\n",
              "      <td id=\"T_4db34_row0_col5\" class=\"data row0 col5\" >True</td>\n",
              "      <td id=\"T_4db34_row0_col6\" class=\"data row0 col6\" >False</td>\n",
              "      <td id=\"T_4db34_row0_col7\" class=\"data row0 col7\" >True</td>\n",
              "      <td id=\"T_4db34_row0_col8\" class=\"data row0 col8\" >True</td>\n",
              "    </tr>\n",
              "    <tr>\n",
              "      <td id=\"T_4db34_row1_col0\" class=\"data row1 col0\" >True</td>\n",
              "      <td id=\"T_4db34_row1_col1\" class=\"data row1 col1\" >True</td>\n",
              "      <td id=\"T_4db34_row1_col2\" class=\"data row1 col2\" >False</td>\n",
              "      <td id=\"T_4db34_row1_col3\" class=\"data row1 col3\" >True</td>\n",
              "      <td id=\"T_4db34_row1_col4\" class=\"data row1 col4\" >False</td>\n",
              "      <td id=\"T_4db34_row1_col5\" class=\"data row1 col5\" >False</td>\n",
              "      <td id=\"T_4db34_row1_col6\" class=\"data row1 col6\" >True</td>\n",
              "      <td id=\"T_4db34_row1_col7\" class=\"data row1 col7\" >True</td>\n",
              "      <td id=\"T_4db34_row1_col8\" class=\"data row1 col8\" >False</td>\n",
              "    </tr>\n",
              "    <tr>\n",
              "      <td id=\"T_4db34_row2_col0\" class=\"data row2 col0\" >True</td>\n",
              "      <td id=\"T_4db34_row2_col1\" class=\"data row2 col1\" >False</td>\n",
              "      <td id=\"T_4db34_row2_col2\" class=\"data row2 col2\" >True</td>\n",
              "      <td id=\"T_4db34_row2_col3\" class=\"data row2 col3\" >False</td>\n",
              "      <td id=\"T_4db34_row2_col4\" class=\"data row2 col4\" >True</td>\n",
              "      <td id=\"T_4db34_row2_col5\" class=\"data row2 col5\" >True</td>\n",
              "      <td id=\"T_4db34_row2_col6\" class=\"data row2 col6\" >False</td>\n",
              "      <td id=\"T_4db34_row2_col7\" class=\"data row2 col7\" >True</td>\n",
              "      <td id=\"T_4db34_row2_col8\" class=\"data row2 col8\" >True</td>\n",
              "    </tr>\n",
              "    <tr>\n",
              "      <td id=\"T_4db34_row3_col0\" class=\"data row3 col0\" >True</td>\n",
              "      <td id=\"T_4db34_row3_col1\" class=\"data row3 col1\" >False</td>\n",
              "      <td id=\"T_4db34_row3_col2\" class=\"data row3 col2\" >False</td>\n",
              "      <td id=\"T_4db34_row3_col3\" class=\"data row3 col3\" >False</td>\n",
              "      <td id=\"T_4db34_row3_col4\" class=\"data row3 col4\" >True</td>\n",
              "      <td id=\"T_4db34_row3_col5\" class=\"data row3 col5\" >False</td>\n",
              "      <td id=\"T_4db34_row3_col6\" class=\"data row3 col6\" >True</td>\n",
              "      <td id=\"T_4db34_row3_col7\" class=\"data row3 col7\" >False</td>\n",
              "      <td id=\"T_4db34_row3_col8\" class=\"data row3 col8\" >False</td>\n",
              "    </tr>\n",
              "    <tr>\n",
              "      <td id=\"T_4db34_row4_col0\" class=\"data row4 col0\" >False</td>\n",
              "      <td id=\"T_4db34_row4_col1\" class=\"data row4 col1\" >True</td>\n",
              "      <td id=\"T_4db34_row4_col2\" class=\"data row4 col2\" >True</td>\n",
              "      <td id=\"T_4db34_row4_col3\" class=\"data row4 col3\" >False</td>\n",
              "      <td id=\"T_4db34_row4_col4\" class=\"data row4 col4\" >True</td>\n",
              "      <td id=\"T_4db34_row4_col5\" class=\"data row4 col5\" >False</td>\n",
              "      <td id=\"T_4db34_row4_col6\" class=\"data row4 col6\" >True</td>\n",
              "      <td id=\"T_4db34_row4_col7\" class=\"data row4 col7\" >True</td>\n",
              "      <td id=\"T_4db34_row4_col8\" class=\"data row4 col8\" >True</td>\n",
              "    </tr>\n",
              "    <tr>\n",
              "      <td id=\"T_4db34_row5_col0\" class=\"data row5 col0\" >False</td>\n",
              "      <td id=\"T_4db34_row5_col1\" class=\"data row5 col1\" >True</td>\n",
              "      <td id=\"T_4db34_row5_col2\" class=\"data row5 col2\" >False</td>\n",
              "      <td id=\"T_4db34_row5_col3\" class=\"data row5 col3\" >False</td>\n",
              "      <td id=\"T_4db34_row5_col4\" class=\"data row5 col4\" >True</td>\n",
              "      <td id=\"T_4db34_row5_col5\" class=\"data row5 col5\" >False</td>\n",
              "      <td id=\"T_4db34_row5_col6\" class=\"data row5 col6\" >True</td>\n",
              "      <td id=\"T_4db34_row5_col7\" class=\"data row5 col7\" >True</td>\n",
              "      <td id=\"T_4db34_row5_col8\" class=\"data row5 col8\" >True</td>\n",
              "    </tr>\n",
              "    <tr>\n",
              "      <td id=\"T_4db34_row6_col0\" class=\"data row6 col0\" >False</td>\n",
              "      <td id=\"T_4db34_row6_col1\" class=\"data row6 col1\" >False</td>\n",
              "      <td id=\"T_4db34_row6_col2\" class=\"data row6 col2\" >True</td>\n",
              "      <td id=\"T_4db34_row6_col3\" class=\"data row6 col3\" >True</td>\n",
              "      <td id=\"T_4db34_row6_col4\" class=\"data row6 col4\" >True</td>\n",
              "      <td id=\"T_4db34_row6_col5\" class=\"data row6 col5\" >False</td>\n",
              "      <td id=\"T_4db34_row6_col6\" class=\"data row6 col6\" >True</td>\n",
              "      <td id=\"T_4db34_row6_col7\" class=\"data row6 col7\" >False</td>\n",
              "      <td id=\"T_4db34_row6_col8\" class=\"data row6 col8\" >False</td>\n",
              "    </tr>\n",
              "    <tr>\n",
              "      <td id=\"T_4db34_row7_col0\" class=\"data row7 col0\" >False</td>\n",
              "      <td id=\"T_4db34_row7_col1\" class=\"data row7 col1\" >False</td>\n",
              "      <td id=\"T_4db34_row7_col2\" class=\"data row7 col2\" >False</td>\n",
              "      <td id=\"T_4db34_row7_col3\" class=\"data row7 col3\" >True</td>\n",
              "      <td id=\"T_4db34_row7_col4\" class=\"data row7 col4\" >False</td>\n",
              "      <td id=\"T_4db34_row7_col5\" class=\"data row7 col5\" >False</td>\n",
              "      <td id=\"T_4db34_row7_col6\" class=\"data row7 col6\" >True</td>\n",
              "      <td id=\"T_4db34_row7_col7\" class=\"data row7 col7\" >False</td>\n",
              "      <td id=\"T_4db34_row7_col8\" class=\"data row7 col8\" >True</td>\n",
              "    </tr>\n",
              "  </tbody>\n",
              "</table>\n"
            ],
            "text/plain": [
              "<pandas.io.formats.style.Styler at 0x7f021d968b50>"
            ]
          },
          "execution_count": 23,
          "metadata": {},
          "output_type": "execute_result"
        }
      ],
      "source": [
        "exercicio01k = Truths(\n",
        "    ['p', 'q', 'r'], \n",
        "    ['p = q', '(p = q) => r', 'p and r', '~(p and r)', '(~(p and r)) => q',\n",
        "     '((p = q) => r) = ((~(p and r)) => q)'],\n",
        "    ints=False)\n",
        "\n",
        "df_style(exercicio01k)"
      ]
    },
    {
      "cell_type": "code",
      "execution_count": null,
      "metadata": {
        "ExecuteTime": {
          "end_time": "2019-10-22T13:22:24.656703Z",
          "start_time": "2019-10-22T13:22:24.314700Z"
        },
        "id": "MrXHB1iAUidD",
        "outputId": "e5e24aa0-37a6-4894-96b4-542a20a0a0cd"
      },
      "outputs": [
        {
          "data": {
            "text/plain": [
              "'Contingency'"
            ]
          },
          "execution_count": 24,
          "metadata": {},
          "output_type": "execute_result"
        }
      ],
      "source": [
        "exercicio01k.valuation()"
      ]
    },
    {
      "cell_type": "markdown",
      "metadata": {
        "id": "0gvvzThbUidD"
      },
      "source": [
        "**Exercício 2**: Sendo $p$ uma proposição de valor lógico verdadeiro e $q$ uma proposição de valor lógico falso, qual o valor lógico da proposição composta $R: (p \\land \\neg q) \\rightarrow q$?"
      ]
    },
    {
      "cell_type": "code",
      "execution_count": null,
      "metadata": {
        "ExecuteTime": {
          "end_time": "2019-10-22T13:22:25.012766Z",
          "start_time": "2019-10-22T13:22:24.658103Z"
        },
        "id": "fBRpid6cUidE",
        "outputId": "0cc955f6-ff93-4d47-b940-f8e68c1a6fab"
      },
      "outputs": [
        {
          "data": {
            "text/html": [
              "<style type=\"text/css\">\n",
              "#T_ebc9f_ th {\n",
              "  font-size: 10pt;\n",
              "}\n",
              "#T_ebc9f_row0_col0, #T_ebc9f_row0_col1, #T_ebc9f_row0_col4, #T_ebc9f_row2_col1, #T_ebc9f_row2_col4, #T_ebc9f_row3_col2, #T_ebc9f_row3_col4 {\n",
              "  text-align: center;\n",
              "  font-size: 115%;\n",
              "  color: green;\n",
              "}\n",
              "#T_ebc9f_row0_col2, #T_ebc9f_row0_col3, #T_ebc9f_row2_col0, #T_ebc9f_row2_col2, #T_ebc9f_row2_col3, #T_ebc9f_row3_col0, #T_ebc9f_row3_col1, #T_ebc9f_row3_col3 {\n",
              "  text-align: center;\n",
              "  font-size: 115%;\n",
              "  color: red;\n",
              "}\n",
              "#T_ebc9f_row1_col0, #T_ebc9f_row1_col2, #T_ebc9f_row1_col3 {\n",
              "  text-align: center;\n",
              "  font-size: 115%;\n",
              "  background: lightyellow;\n",
              "  color: green;\n",
              "}\n",
              "#T_ebc9f_row1_col1, #T_ebc9f_row1_col4 {\n",
              "  text-align: center;\n",
              "  font-size: 115%;\n",
              "  background: lightyellow;\n",
              "  color: red;\n",
              "}\n",
              "</style>\n",
              "<table id=\"T_ebc9f_\">\n",
              "  <thead>\n",
              "    <tr>\n",
              "      <th class=\"col_heading level0 col0\" >p</th>\n",
              "      <th class=\"col_heading level0 col1\" >q</th>\n",
              "      <th class=\"col_heading level0 col2\" >~q</th>\n",
              "      <th class=\"col_heading level0 col3\" >p and (~q)</th>\n",
              "      <th class=\"col_heading level0 col4\" >(p and (~q)) => q</th>\n",
              "    </tr>\n",
              "  </thead>\n",
              "  <tbody>\n",
              "    <tr>\n",
              "      <td id=\"T_ebc9f_row0_col0\" class=\"data row0 col0\" >True</td>\n",
              "      <td id=\"T_ebc9f_row0_col1\" class=\"data row0 col1\" >True</td>\n",
              "      <td id=\"T_ebc9f_row0_col2\" class=\"data row0 col2\" >False</td>\n",
              "      <td id=\"T_ebc9f_row0_col3\" class=\"data row0 col3\" >False</td>\n",
              "      <td id=\"T_ebc9f_row0_col4\" class=\"data row0 col4\" >True</td>\n",
              "    </tr>\n",
              "    <tr>\n",
              "      <td id=\"T_ebc9f_row1_col0\" class=\"data row1 col0\" >True</td>\n",
              "      <td id=\"T_ebc9f_row1_col1\" class=\"data row1 col1\" >False</td>\n",
              "      <td id=\"T_ebc9f_row1_col2\" class=\"data row1 col2\" >True</td>\n",
              "      <td id=\"T_ebc9f_row1_col3\" class=\"data row1 col3\" >True</td>\n",
              "      <td id=\"T_ebc9f_row1_col4\" class=\"data row1 col4\" >False</td>\n",
              "    </tr>\n",
              "    <tr>\n",
              "      <td id=\"T_ebc9f_row2_col0\" class=\"data row2 col0\" >False</td>\n",
              "      <td id=\"T_ebc9f_row2_col1\" class=\"data row2 col1\" >True</td>\n",
              "      <td id=\"T_ebc9f_row2_col2\" class=\"data row2 col2\" >False</td>\n",
              "      <td id=\"T_ebc9f_row2_col3\" class=\"data row2 col3\" >False</td>\n",
              "      <td id=\"T_ebc9f_row2_col4\" class=\"data row2 col4\" >True</td>\n",
              "    </tr>\n",
              "    <tr>\n",
              "      <td id=\"T_ebc9f_row3_col0\" class=\"data row3 col0\" >False</td>\n",
              "      <td id=\"T_ebc9f_row3_col1\" class=\"data row3 col1\" >False</td>\n",
              "      <td id=\"T_ebc9f_row3_col2\" class=\"data row3 col2\" >True</td>\n",
              "      <td id=\"T_ebc9f_row3_col3\" class=\"data row3 col3\" >False</td>\n",
              "      <td id=\"T_ebc9f_row3_col4\" class=\"data row3 col4\" >True</td>\n",
              "    </tr>\n",
              "  </tbody>\n",
              "</table>\n"
            ],
            "text/plain": [
              "<pandas.io.formats.style.Styler at 0x7f021d8d8e50>"
            ]
          },
          "execution_count": 25,
          "metadata": {},
          "output_type": "execute_result"
        }
      ],
      "source": [
        "exercicio02 = Truths(['p', 'q'], \n",
        "                     ['~q', 'p and (~q)', '(p and (~q)) => q'],\n",
        "                     ints=False)\n",
        "\n",
        "df_style(exercicio02, hl_rows=[2])\n",
        "\n",
        "# Falsa, conforme linha destacada."
      ]
    },
    {
      "cell_type": "markdown",
      "metadata": {
        "id": "nhQ9HS3-UidE"
      },
      "source": [
        "**Exercício 3**: Atribua valor lógico verdadeiro ou falso a cada uma das afirmações a seguir:\n",
        "\n",
        "a. Se Marte é um planeta então $3 = 7 - 4$.\n",
        "\n",
        "b. A soma de dois números pares é um número par e $7^2 = 49$.\n",
        "\n",
        "c. $3=5$ se e somente se o urso é um animal invertebrado.\n",
        "\n",
        "d. Se $10^2 = 100$ então todo número inteiro é natural.\n",
        "\n",
        "e. $2 = 3^2 - 7$ ou a Terra é plana.\n",
        "\n",
        "f. $3 > 1$ e $4 > 2$\n",
        "\n",
        "g. $3 > 1$ ou $3 = 1$"
      ]
    },
    {
      "cell_type": "markdown",
      "metadata": {
        "id": "VaR8dqPwUidE"
      },
      "source": [
        "Letra a:\n",
        "\n",
        "| Proposição |          Texto          | Valor lógico |\n",
        "| --------   | ----------              | ----------   |\n",
        "| $p$        | Marte é um planeta      | V            |\n",
        "| $q$        | $3 = 7 - 4$             | V            |"
      ]
    },
    {
      "cell_type": "code",
      "execution_count": null,
      "metadata": {
        "ExecuteTime": {
          "end_time": "2019-10-22T13:22:25.394946Z",
          "start_time": "2019-10-22T13:22:25.013811Z"
        },
        "id": "zoeCzWq7UidE",
        "outputId": "6ffcee19-08b7-43d7-9033-f6372fe55717"
      },
      "outputs": [
        {
          "data": {
            "text/html": [
              "<style type=\"text/css\">\n",
              "#T_e563d_ th {\n",
              "  font-size: 10pt;\n",
              "}\n",
              "#T_e563d_row0_col0, #T_e563d_row0_col1, #T_e563d_row0_col2 {\n",
              "  text-align: center;\n",
              "  font-size: 115%;\n",
              "  background: lightyellow;\n",
              "  color: green;\n",
              "}\n",
              "#T_e563d_row1_col0, #T_e563d_row2_col1, #T_e563d_row2_col2, #T_e563d_row3_col2 {\n",
              "  text-align: center;\n",
              "  font-size: 115%;\n",
              "  color: green;\n",
              "}\n",
              "#T_e563d_row1_col1, #T_e563d_row1_col2, #T_e563d_row2_col0, #T_e563d_row3_col0, #T_e563d_row3_col1 {\n",
              "  text-align: center;\n",
              "  font-size: 115%;\n",
              "  color: red;\n",
              "}\n",
              "</style>\n",
              "<table id=\"T_e563d_\">\n",
              "  <thead>\n",
              "    <tr>\n",
              "      <th class=\"col_heading level0 col0\" >p</th>\n",
              "      <th class=\"col_heading level0 col1\" >q</th>\n",
              "      <th class=\"col_heading level0 col2\" >p => q</th>\n",
              "    </tr>\n",
              "  </thead>\n",
              "  <tbody>\n",
              "    <tr>\n",
              "      <td id=\"T_e563d_row0_col0\" class=\"data row0 col0\" >True</td>\n",
              "      <td id=\"T_e563d_row0_col1\" class=\"data row0 col1\" >True</td>\n",
              "      <td id=\"T_e563d_row0_col2\" class=\"data row0 col2\" >True</td>\n",
              "    </tr>\n",
              "    <tr>\n",
              "      <td id=\"T_e563d_row1_col0\" class=\"data row1 col0\" >True</td>\n",
              "      <td id=\"T_e563d_row1_col1\" class=\"data row1 col1\" >False</td>\n",
              "      <td id=\"T_e563d_row1_col2\" class=\"data row1 col2\" >False</td>\n",
              "    </tr>\n",
              "    <tr>\n",
              "      <td id=\"T_e563d_row2_col0\" class=\"data row2 col0\" >False</td>\n",
              "      <td id=\"T_e563d_row2_col1\" class=\"data row2 col1\" >True</td>\n",
              "      <td id=\"T_e563d_row2_col2\" class=\"data row2 col2\" >True</td>\n",
              "    </tr>\n",
              "    <tr>\n",
              "      <td id=\"T_e563d_row3_col0\" class=\"data row3 col0\" >False</td>\n",
              "      <td id=\"T_e563d_row3_col1\" class=\"data row3 col1\" >False</td>\n",
              "      <td id=\"T_e563d_row3_col2\" class=\"data row3 col2\" >True</td>\n",
              "    </tr>\n",
              "  </tbody>\n",
              "</table>\n"
            ],
            "text/plain": [
              "<pandas.io.formats.style.Styler at 0x7f021d8cd400>"
            ]
          },
          "execution_count": 26,
          "metadata": {},
          "output_type": "execute_result"
        }
      ],
      "source": [
        "exercicio03a = Truths(['p', 'q'], ['p => q'], ints=False)\n",
        "\n",
        "df_style(exercicio03a, hl_rows=[1])\n",
        "\n",
        "# Verdadeira, conforme linha destacada."
      ]
    },
    {
      "cell_type": "markdown",
      "metadata": {
        "id": "BHJV0G65UidF"
      },
      "source": [
        "Letra b:\n",
        "\n",
        "| Proposição |          Texto                                    | Valor lógico |\n",
        "| --------   | ----------                                        | ----------   |\n",
        "| $p$        | A soma de dois números pares é um número par      | V            |\n",
        "| $q$        | $7^2 = 49$                                        | V            |"
      ]
    },
    {
      "cell_type": "code",
      "execution_count": null,
      "metadata": {
        "ExecuteTime": {
          "end_time": "2019-10-22T13:22:25.797158Z",
          "start_time": "2019-10-22T13:22:25.396114Z"
        },
        "id": "EhwRFySsUidF",
        "outputId": "0294defd-d1be-4502-8982-2bca4bc3243d"
      },
      "outputs": [
        {
          "data": {
            "text/html": [
              "<style type=\"text/css\">\n",
              "#T_34883_ th {\n",
              "  font-size: 10pt;\n",
              "}\n",
              "#T_34883_row0_col0, #T_34883_row0_col1, #T_34883_row0_col2 {\n",
              "  text-align: center;\n",
              "  font-size: 115%;\n",
              "  background: lightyellow;\n",
              "  color: green;\n",
              "}\n",
              "#T_34883_row1_col0, #T_34883_row2_col1 {\n",
              "  text-align: center;\n",
              "  font-size: 115%;\n",
              "  color: green;\n",
              "}\n",
              "#T_34883_row1_col1, #T_34883_row1_col2, #T_34883_row2_col0, #T_34883_row2_col2, #T_34883_row3_col0, #T_34883_row3_col1, #T_34883_row3_col2 {\n",
              "  text-align: center;\n",
              "  font-size: 115%;\n",
              "  color: red;\n",
              "}\n",
              "</style>\n",
              "<table id=\"T_34883_\">\n",
              "  <thead>\n",
              "    <tr>\n",
              "      <th class=\"col_heading level0 col0\" >p</th>\n",
              "      <th class=\"col_heading level0 col1\" >q</th>\n",
              "      <th class=\"col_heading level0 col2\" >p and q</th>\n",
              "    </tr>\n",
              "  </thead>\n",
              "  <tbody>\n",
              "    <tr>\n",
              "      <td id=\"T_34883_row0_col0\" class=\"data row0 col0\" >True</td>\n",
              "      <td id=\"T_34883_row0_col1\" class=\"data row0 col1\" >True</td>\n",
              "      <td id=\"T_34883_row0_col2\" class=\"data row0 col2\" >True</td>\n",
              "    </tr>\n",
              "    <tr>\n",
              "      <td id=\"T_34883_row1_col0\" class=\"data row1 col0\" >True</td>\n",
              "      <td id=\"T_34883_row1_col1\" class=\"data row1 col1\" >False</td>\n",
              "      <td id=\"T_34883_row1_col2\" class=\"data row1 col2\" >False</td>\n",
              "    </tr>\n",
              "    <tr>\n",
              "      <td id=\"T_34883_row2_col0\" class=\"data row2 col0\" >False</td>\n",
              "      <td id=\"T_34883_row2_col1\" class=\"data row2 col1\" >True</td>\n",
              "      <td id=\"T_34883_row2_col2\" class=\"data row2 col2\" >False</td>\n",
              "    </tr>\n",
              "    <tr>\n",
              "      <td id=\"T_34883_row3_col0\" class=\"data row3 col0\" >False</td>\n",
              "      <td id=\"T_34883_row3_col1\" class=\"data row3 col1\" >False</td>\n",
              "      <td id=\"T_34883_row3_col2\" class=\"data row3 col2\" >False</td>\n",
              "    </tr>\n",
              "  </tbody>\n",
              "</table>\n"
            ],
            "text/plain": [
              "<pandas.io.formats.style.Styler at 0x7f021d91b4f0>"
            ]
          },
          "execution_count": 27,
          "metadata": {},
          "output_type": "execute_result"
        }
      ],
      "source": [
        "exercicio03b = Truths(['p', 'q'], ['p and q'], ints=False)\n",
        "\n",
        "df_style(exercicio03b, hl_rows=[1])\n",
        "\n",
        "# Verdadeira, conforme linha destacada."
      ]
    },
    {
      "cell_type": "markdown",
      "metadata": {
        "id": "Jn9suiYYUidF"
      },
      "source": [
        "Letra c:\n",
        "\n",
        "| Proposição |          Texto                                    | Valor lógico |\n",
        "| --------   | ----------                                        | ----------   |\n",
        "| $p$        | $3 = 5$                                           | F            |\n",
        "| $q$        | Urso é um animal invertebrado                     | F            |"
      ]
    },
    {
      "cell_type": "code",
      "execution_count": null,
      "metadata": {
        "ExecuteTime": {
          "end_time": "2019-10-22T13:22:26.410712Z",
          "start_time": "2019-10-22T13:22:25.798261Z"
        },
        "id": "_roKtQMBUidF",
        "outputId": "c2d65624-ea40-4423-a04b-9ba409be1e7b"
      },
      "outputs": [
        {
          "data": {
            "text/html": [
              "<style type=\"text/css\">\n",
              "#T_3a06a_ th {\n",
              "  font-size: 10pt;\n",
              "}\n",
              "#T_3a06a_row0_col0, #T_3a06a_row0_col1, #T_3a06a_row0_col2, #T_3a06a_row1_col0, #T_3a06a_row2_col1 {\n",
              "  text-align: center;\n",
              "  font-size: 115%;\n",
              "  color: green;\n",
              "}\n",
              "#T_3a06a_row1_col1, #T_3a06a_row1_col2, #T_3a06a_row2_col0, #T_3a06a_row2_col2 {\n",
              "  text-align: center;\n",
              "  font-size: 115%;\n",
              "  color: red;\n",
              "}\n",
              "#T_3a06a_row3_col0, #T_3a06a_row3_col1 {\n",
              "  text-align: center;\n",
              "  font-size: 115%;\n",
              "  background: lightyellow;\n",
              "  color: red;\n",
              "}\n",
              "#T_3a06a_row3_col2 {\n",
              "  text-align: center;\n",
              "  font-size: 115%;\n",
              "  background: lightyellow;\n",
              "  color: green;\n",
              "}\n",
              "</style>\n",
              "<table id=\"T_3a06a_\">\n",
              "  <thead>\n",
              "    <tr>\n",
              "      <th class=\"col_heading level0 col0\" >p</th>\n",
              "      <th class=\"col_heading level0 col1\" >q</th>\n",
              "      <th class=\"col_heading level0 col2\" >p = q</th>\n",
              "    </tr>\n",
              "  </thead>\n",
              "  <tbody>\n",
              "    <tr>\n",
              "      <td id=\"T_3a06a_row0_col0\" class=\"data row0 col0\" >True</td>\n",
              "      <td id=\"T_3a06a_row0_col1\" class=\"data row0 col1\" >True</td>\n",
              "      <td id=\"T_3a06a_row0_col2\" class=\"data row0 col2\" >True</td>\n",
              "    </tr>\n",
              "    <tr>\n",
              "      <td id=\"T_3a06a_row1_col0\" class=\"data row1 col0\" >True</td>\n",
              "      <td id=\"T_3a06a_row1_col1\" class=\"data row1 col1\" >False</td>\n",
              "      <td id=\"T_3a06a_row1_col2\" class=\"data row1 col2\" >False</td>\n",
              "    </tr>\n",
              "    <tr>\n",
              "      <td id=\"T_3a06a_row2_col0\" class=\"data row2 col0\" >False</td>\n",
              "      <td id=\"T_3a06a_row2_col1\" class=\"data row2 col1\" >True</td>\n",
              "      <td id=\"T_3a06a_row2_col2\" class=\"data row2 col2\" >False</td>\n",
              "    </tr>\n",
              "    <tr>\n",
              "      <td id=\"T_3a06a_row3_col0\" class=\"data row3 col0\" >False</td>\n",
              "      <td id=\"T_3a06a_row3_col1\" class=\"data row3 col1\" >False</td>\n",
              "      <td id=\"T_3a06a_row3_col2\" class=\"data row3 col2\" >True</td>\n",
              "    </tr>\n",
              "  </tbody>\n",
              "</table>\n"
            ],
            "text/plain": [
              "<pandas.io.formats.style.Styler at 0x7f021d9df310>"
            ]
          },
          "execution_count": 28,
          "metadata": {},
          "output_type": "execute_result"
        }
      ],
      "source": [
        "exercicio03c = Truths(['p', 'q'], ['p = q'], ints=False)\n",
        "\n",
        "df_style(exercicio03c, hl_rows=[4])\n",
        "\n",
        "# Verdadeira, conforme linha destacada."
      ]
    },
    {
      "cell_type": "markdown",
      "metadata": {
        "id": "4ALQ8TSYUidG"
      },
      "source": [
        "Letra d:\n",
        "\n",
        "| Proposição |          Texto                                    | Valor lógico |\n",
        "| --------   | ----------                                        | ----------   |\n",
        "| $p$        | $10^2 = 100$                                      | V            |\n",
        "| $q$        | Todo número inteiro é natural                     | F            |"
      ]
    },
    {
      "cell_type": "code",
      "execution_count": null,
      "metadata": {
        "ExecuteTime": {
          "end_time": "2019-10-22T13:22:26.801269Z",
          "start_time": "2019-10-22T13:22:26.411941Z"
        },
        "id": "Hj1EOazAUidG",
        "outputId": "af8de235-f013-4dae-b15f-6466bedf47d5"
      },
      "outputs": [
        {
          "data": {
            "text/html": [
              "<style type=\"text/css\">\n",
              "#T_f8180_ th {\n",
              "  font-size: 10pt;\n",
              "}\n",
              "#T_f8180_row0_col0, #T_f8180_row0_col1, #T_f8180_row0_col2, #T_f8180_row2_col1, #T_f8180_row2_col2, #T_f8180_row3_col2 {\n",
              "  text-align: center;\n",
              "  font-size: 115%;\n",
              "  color: green;\n",
              "}\n",
              "#T_f8180_row1_col0 {\n",
              "  text-align: center;\n",
              "  font-size: 115%;\n",
              "  background: lightyellow;\n",
              "  color: green;\n",
              "}\n",
              "#T_f8180_row1_col1, #T_f8180_row1_col2 {\n",
              "  text-align: center;\n",
              "  font-size: 115%;\n",
              "  background: lightyellow;\n",
              "  color: red;\n",
              "}\n",
              "#T_f8180_row2_col0, #T_f8180_row3_col0, #T_f8180_row3_col1 {\n",
              "  text-align: center;\n",
              "  font-size: 115%;\n",
              "  color: red;\n",
              "}\n",
              "</style>\n",
              "<table id=\"T_f8180_\">\n",
              "  <thead>\n",
              "    <tr>\n",
              "      <th class=\"col_heading level0 col0\" >p</th>\n",
              "      <th class=\"col_heading level0 col1\" >q</th>\n",
              "      <th class=\"col_heading level0 col2\" >p => q</th>\n",
              "    </tr>\n",
              "  </thead>\n",
              "  <tbody>\n",
              "    <tr>\n",
              "      <td id=\"T_f8180_row0_col0\" class=\"data row0 col0\" >True</td>\n",
              "      <td id=\"T_f8180_row0_col1\" class=\"data row0 col1\" >True</td>\n",
              "      <td id=\"T_f8180_row0_col2\" class=\"data row0 col2\" >True</td>\n",
              "    </tr>\n",
              "    <tr>\n",
              "      <td id=\"T_f8180_row1_col0\" class=\"data row1 col0\" >True</td>\n",
              "      <td id=\"T_f8180_row1_col1\" class=\"data row1 col1\" >False</td>\n",
              "      <td id=\"T_f8180_row1_col2\" class=\"data row1 col2\" >False</td>\n",
              "    </tr>\n",
              "    <tr>\n",
              "      <td id=\"T_f8180_row2_col0\" class=\"data row2 col0\" >False</td>\n",
              "      <td id=\"T_f8180_row2_col1\" class=\"data row2 col1\" >True</td>\n",
              "      <td id=\"T_f8180_row2_col2\" class=\"data row2 col2\" >True</td>\n",
              "    </tr>\n",
              "    <tr>\n",
              "      <td id=\"T_f8180_row3_col0\" class=\"data row3 col0\" >False</td>\n",
              "      <td id=\"T_f8180_row3_col1\" class=\"data row3 col1\" >False</td>\n",
              "      <td id=\"T_f8180_row3_col2\" class=\"data row3 col2\" >True</td>\n",
              "    </tr>\n",
              "  </tbody>\n",
              "</table>\n"
            ],
            "text/plain": [
              "<pandas.io.formats.style.Styler at 0x7f021d8f83a0>"
            ]
          },
          "execution_count": 29,
          "metadata": {},
          "output_type": "execute_result"
        }
      ],
      "source": [
        "exercicio03d = Truths(['p', 'q'], ['p => q'], ints=False)\n",
        "\n",
        "df_style(exercicio03d, hl_rows=[2])\n",
        "\n",
        "# Falsa, conforme linha destacada."
      ]
    },
    {
      "cell_type": "markdown",
      "metadata": {
        "id": "nDeVGDZ2UidH"
      },
      "source": [
        "Letra e:\n",
        "\n",
        "| Proposição |          Texto                                    | Valor lógico |\n",
        "| --------   | ----------                                        | ----------   |\n",
        "| $p$        | $2 = 3^2 -7$                                      | V            |\n",
        "| $q$        | A Terra é plana                                   | F            |"
      ]
    },
    {
      "cell_type": "code",
      "execution_count": null,
      "metadata": {
        "ExecuteTime": {
          "end_time": "2019-10-22T13:22:27.138831Z",
          "start_time": "2019-10-22T13:22:26.802153Z"
        },
        "id": "289j7_FUUidH",
        "outputId": "1071d347-961c-4349-f02f-3e220de5afa6"
      },
      "outputs": [
        {
          "data": {
            "text/html": [
              "<style type=\"text/css\">\n",
              "#T_4270e_ th {\n",
              "  font-size: 10pt;\n",
              "}\n",
              "#T_4270e_row0_col0, #T_4270e_row0_col1, #T_4270e_row0_col2, #T_4270e_row2_col1, #T_4270e_row2_col2 {\n",
              "  text-align: center;\n",
              "  font-size: 115%;\n",
              "  color: green;\n",
              "}\n",
              "#T_4270e_row1_col0, #T_4270e_row1_col2 {\n",
              "  text-align: center;\n",
              "  font-size: 115%;\n",
              "  background: lightyellow;\n",
              "  color: green;\n",
              "}\n",
              "#T_4270e_row1_col1 {\n",
              "  text-align: center;\n",
              "  font-size: 115%;\n",
              "  background: lightyellow;\n",
              "  color: red;\n",
              "}\n",
              "#T_4270e_row2_col0, #T_4270e_row3_col0, #T_4270e_row3_col1, #T_4270e_row3_col2 {\n",
              "  text-align: center;\n",
              "  font-size: 115%;\n",
              "  color: red;\n",
              "}\n",
              "</style>\n",
              "<table id=\"T_4270e_\">\n",
              "  <thead>\n",
              "    <tr>\n",
              "      <th class=\"col_heading level0 col0\" >p</th>\n",
              "      <th class=\"col_heading level0 col1\" >q</th>\n",
              "      <th class=\"col_heading level0 col2\" >p or q</th>\n",
              "    </tr>\n",
              "  </thead>\n",
              "  <tbody>\n",
              "    <tr>\n",
              "      <td id=\"T_4270e_row0_col0\" class=\"data row0 col0\" >True</td>\n",
              "      <td id=\"T_4270e_row0_col1\" class=\"data row0 col1\" >True</td>\n",
              "      <td id=\"T_4270e_row0_col2\" class=\"data row0 col2\" >True</td>\n",
              "    </tr>\n",
              "    <tr>\n",
              "      <td id=\"T_4270e_row1_col0\" class=\"data row1 col0\" >True</td>\n",
              "      <td id=\"T_4270e_row1_col1\" class=\"data row1 col1\" >False</td>\n",
              "      <td id=\"T_4270e_row1_col2\" class=\"data row1 col2\" >True</td>\n",
              "    </tr>\n",
              "    <tr>\n",
              "      <td id=\"T_4270e_row2_col0\" class=\"data row2 col0\" >False</td>\n",
              "      <td id=\"T_4270e_row2_col1\" class=\"data row2 col1\" >True</td>\n",
              "      <td id=\"T_4270e_row2_col2\" class=\"data row2 col2\" >True</td>\n",
              "    </tr>\n",
              "    <tr>\n",
              "      <td id=\"T_4270e_row3_col0\" class=\"data row3 col0\" >False</td>\n",
              "      <td id=\"T_4270e_row3_col1\" class=\"data row3 col1\" >False</td>\n",
              "      <td id=\"T_4270e_row3_col2\" class=\"data row3 col2\" >False</td>\n",
              "    </tr>\n",
              "  </tbody>\n",
              "</table>\n"
            ],
            "text/plain": [
              "<pandas.io.formats.style.Styler at 0x7f021d8ce430>"
            ]
          },
          "execution_count": 30,
          "metadata": {},
          "output_type": "execute_result"
        }
      ],
      "source": [
        "exercicio03e = Truths(['p', 'q'], ['p or q'], ints=False)\n",
        "\n",
        "df_style(exercicio03e, hl_rows=[2])\n",
        "\n",
        "# Verdadeira, conforme linha destacada."
      ]
    },
    {
      "cell_type": "markdown",
      "metadata": {
        "id": "4TJsfexRUidH"
      },
      "source": [
        "Letra f:\n",
        "\n",
        "| Proposição | Texto | Valor lógico |\n",
        "| --------| -------| ----------|\n",
        "| $p$| 3 > 1|V|\n",
        "| $q$| 4 > 2|V|"
      ]
    },
    {
      "cell_type": "code",
      "execution_count": null,
      "metadata": {
        "ExecuteTime": {
          "end_time": "2019-10-22T13:22:27.416442Z",
          "start_time": "2019-10-22T13:22:27.140164Z"
        },
        "id": "SCPxDLuBUidI",
        "outputId": "4f5fb10f-23cb-4448-f57e-86bef302d396"
      },
      "outputs": [
        {
          "data": {
            "text/html": [
              "<style type=\"text/css\">\n",
              "#T_22361_ th {\n",
              "  font-size: 10pt;\n",
              "}\n",
              "#T_22361_row0_col0, #T_22361_row0_col1, #T_22361_row0_col2 {\n",
              "  text-align: center;\n",
              "  font-size: 115%;\n",
              "  background: lightyellow;\n",
              "  color: green;\n",
              "}\n",
              "#T_22361_row1_col0, #T_22361_row2_col1 {\n",
              "  text-align: center;\n",
              "  font-size: 115%;\n",
              "  color: green;\n",
              "}\n",
              "#T_22361_row1_col1, #T_22361_row1_col2, #T_22361_row2_col0, #T_22361_row2_col2, #T_22361_row3_col0, #T_22361_row3_col1, #T_22361_row3_col2 {\n",
              "  text-align: center;\n",
              "  font-size: 115%;\n",
              "  color: red;\n",
              "}\n",
              "</style>\n",
              "<table id=\"T_22361_\">\n",
              "  <thead>\n",
              "    <tr>\n",
              "      <th class=\"col_heading level0 col0\" >p</th>\n",
              "      <th class=\"col_heading level0 col1\" >q</th>\n",
              "      <th class=\"col_heading level0 col2\" >p and q</th>\n",
              "    </tr>\n",
              "  </thead>\n",
              "  <tbody>\n",
              "    <tr>\n",
              "      <td id=\"T_22361_row0_col0\" class=\"data row0 col0\" >True</td>\n",
              "      <td id=\"T_22361_row0_col1\" class=\"data row0 col1\" >True</td>\n",
              "      <td id=\"T_22361_row0_col2\" class=\"data row0 col2\" >True</td>\n",
              "    </tr>\n",
              "    <tr>\n",
              "      <td id=\"T_22361_row1_col0\" class=\"data row1 col0\" >True</td>\n",
              "      <td id=\"T_22361_row1_col1\" class=\"data row1 col1\" >False</td>\n",
              "      <td id=\"T_22361_row1_col2\" class=\"data row1 col2\" >False</td>\n",
              "    </tr>\n",
              "    <tr>\n",
              "      <td id=\"T_22361_row2_col0\" class=\"data row2 col0\" >False</td>\n",
              "      <td id=\"T_22361_row2_col1\" class=\"data row2 col1\" >True</td>\n",
              "      <td id=\"T_22361_row2_col2\" class=\"data row2 col2\" >False</td>\n",
              "    </tr>\n",
              "    <tr>\n",
              "      <td id=\"T_22361_row3_col0\" class=\"data row3 col0\" >False</td>\n",
              "      <td id=\"T_22361_row3_col1\" class=\"data row3 col1\" >False</td>\n",
              "      <td id=\"T_22361_row3_col2\" class=\"data row3 col2\" >False</td>\n",
              "    </tr>\n",
              "  </tbody>\n",
              "</table>\n"
            ],
            "text/plain": [
              "<pandas.io.formats.style.Styler at 0x7f021d8cd3a0>"
            ]
          },
          "execution_count": 31,
          "metadata": {},
          "output_type": "execute_result"
        }
      ],
      "source": [
        "exercicio03f = Truths(['p', 'q'], ['p and q'], ints=False)\n",
        "\n",
        "df_style(exercicio03f, hl_rows=[1])\n",
        "\n",
        "# Verdadeira, conforme linha destacada."
      ]
    },
    {
      "cell_type": "markdown",
      "metadata": {
        "id": "g2ddnEPmUidI"
      },
      "source": [
        "Letra g:\n",
        "\n",
        "| Proposição |          Texto| Valor lógico |\n",
        "| --------   | ---------------| ----------   |\n",
        "| $p$        | 3 > 1          | V            |\n",
        "| $q$        | 3 = 1          | F            |\n",
        "\n"
      ]
    },
    {
      "cell_type": "code",
      "execution_count": null,
      "metadata": {
        "ExecuteTime": {
          "end_time": "2019-10-22T13:22:27.754435Z",
          "start_time": "2019-10-22T13:22:27.417827Z"
        },
        "id": "O-7Un_baUidI",
        "outputId": "55a48a8b-bd0a-4ea8-9a69-d8032156f89f"
      },
      "outputs": [
        {
          "data": {
            "text/html": [
              "<style type=\"text/css\">\n",
              "#T_f8aaa_ th {\n",
              "  font-size: 10pt;\n",
              "}\n",
              "#T_f8aaa_row0_col0, #T_f8aaa_row0_col1, #T_f8aaa_row0_col2, #T_f8aaa_row2_col1, #T_f8aaa_row2_col2 {\n",
              "  text-align: center;\n",
              "  font-size: 115%;\n",
              "  color: green;\n",
              "}\n",
              "#T_f8aaa_row1_col0, #T_f8aaa_row1_col2 {\n",
              "  text-align: center;\n",
              "  font-size: 115%;\n",
              "  background: lightyellow;\n",
              "  color: green;\n",
              "}\n",
              "#T_f8aaa_row1_col1 {\n",
              "  text-align: center;\n",
              "  font-size: 115%;\n",
              "  background: lightyellow;\n",
              "  color: red;\n",
              "}\n",
              "#T_f8aaa_row2_col0, #T_f8aaa_row3_col0, #T_f8aaa_row3_col1, #T_f8aaa_row3_col2 {\n",
              "  text-align: center;\n",
              "  font-size: 115%;\n",
              "  color: red;\n",
              "}\n",
              "</style>\n",
              "<table id=\"T_f8aaa_\">\n",
              "  <thead>\n",
              "    <tr>\n",
              "      <th class=\"col_heading level0 col0\" >p</th>\n",
              "      <th class=\"col_heading level0 col1\" >q</th>\n",
              "      <th class=\"col_heading level0 col2\" >p or q</th>\n",
              "    </tr>\n",
              "  </thead>\n",
              "  <tbody>\n",
              "    <tr>\n",
              "      <td id=\"T_f8aaa_row0_col0\" class=\"data row0 col0\" >True</td>\n",
              "      <td id=\"T_f8aaa_row0_col1\" class=\"data row0 col1\" >True</td>\n",
              "      <td id=\"T_f8aaa_row0_col2\" class=\"data row0 col2\" >True</td>\n",
              "    </tr>\n",
              "    <tr>\n",
              "      <td id=\"T_f8aaa_row1_col0\" class=\"data row1 col0\" >True</td>\n",
              "      <td id=\"T_f8aaa_row1_col1\" class=\"data row1 col1\" >False</td>\n",
              "      <td id=\"T_f8aaa_row1_col2\" class=\"data row1 col2\" >True</td>\n",
              "    </tr>\n",
              "    <tr>\n",
              "      <td id=\"T_f8aaa_row2_col0\" class=\"data row2 col0\" >False</td>\n",
              "      <td id=\"T_f8aaa_row2_col1\" class=\"data row2 col1\" >True</td>\n",
              "      <td id=\"T_f8aaa_row2_col2\" class=\"data row2 col2\" >True</td>\n",
              "    </tr>\n",
              "    <tr>\n",
              "      <td id=\"T_f8aaa_row3_col0\" class=\"data row3 col0\" >False</td>\n",
              "      <td id=\"T_f8aaa_row3_col1\" class=\"data row3 col1\" >False</td>\n",
              "      <td id=\"T_f8aaa_row3_col2\" class=\"data row3 col2\" >False</td>\n",
              "    </tr>\n",
              "  </tbody>\n",
              "</table>\n"
            ],
            "text/plain": [
              "<pandas.io.formats.style.Styler at 0x7f021d894820>"
            ]
          },
          "execution_count": 32,
          "metadata": {},
          "output_type": "execute_result"
        }
      ],
      "source": [
        "exercicio03g = Truths(['p', 'q'], ['p or q'], ints=False)\n",
        "\n",
        "df_style(exercicio03g, hl_rows=[2])\n",
        "\n",
        "# Verdadeira, conforme linha destacada."
      ]
    },
    {
      "cell_type": "markdown",
      "metadata": {
        "id": "yil4_c_5UidJ"
      },
      "source": [
        "**Exercício 4**: Sejam:\n",
        "\n",
        "- $p$: Londres é a capital da Inglaterra.\n",
        "- $q$: A Torre Eiffel situa-se em Londres.\n",
        "- $r$: O meridiano de Greenwich passa por Londres.\n",
        "\n",
        "Traduza para a linguagem natural cada uma das proposições compostas abaixo e determine o respectivo valor lógico.\n",
        "\n",
        "a. $\\neg q \\land \\neg p$\n",
        "\n",
        "R.: Londres não é capital da Inglaterra e a Torre Eiffel não situa-se em Londres.\n",
        "\n",
        "b. $\\neg q \\lor \\neg p$\n",
        "\n",
        "R.: A Torre Eiffel não situa-se em Londres ou Londres não é capital da Inglaterra.\n",
        "\n",
        "c. $\\neg (p \\land q)$\n",
        "\n",
        "R.: Londres não é a capital da Inglaterra ou a Torre Eiffel não situa-se em Londres. Outra possibilidade: Não é verdade que Londres é a capital da Inglaterra e a Torre Eiffel situa-se em Londres.\n",
        "\n",
        "d. $\\neg p \\lor r$\n",
        "\n",
        "R.: Londres não é a capital da Inglaterra ou o meridiano de Greenwich passa por Londres.\n",
        "\n",
        "Valores lógicos na linha destacada na próxima tabela."
      ]
    },
    {
      "cell_type": "code",
      "execution_count": null,
      "metadata": {
        "ExecuteTime": {
          "end_time": "2019-10-22T13:22:28.147897Z",
          "start_time": "2019-10-22T13:22:27.755685Z"
        },
        "id": "MIrUaAlaUidJ",
        "outputId": "e52461f6-7b10-4938-e56c-d76e37ab8a7f"
      },
      "outputs": [
        {
          "data": {
            "text/html": [
              "<style type=\"text/css\">\n",
              "#T_9a015_ th {\n",
              "  font-size: 10pt;\n",
              "}\n",
              "#T_9a015_row0_col0, #T_9a015_row0_col1, #T_9a015_row0_col2, #T_9a015_row0_col6, #T_9a015_row1_col0, #T_9a015_row1_col1, #T_9a015_row3_col0, #T_9a015_row3_col4, #T_9a015_row3_col5, #T_9a015_row4_col1, #T_9a015_row4_col2, #T_9a015_row4_col4, #T_9a015_row4_col5, #T_9a015_row4_col6, #T_9a015_row5_col1, #T_9a015_row5_col4, #T_9a015_row5_col5, #T_9a015_row5_col6, #T_9a015_row6_col2, #T_9a015_row6_col3, #T_9a015_row6_col4, #T_9a015_row6_col5, #T_9a015_row6_col6, #T_9a015_row7_col3, #T_9a015_row7_col4, #T_9a015_row7_col5, #T_9a015_row7_col6 {\n",
              "  text-align: center;\n",
              "  font-size: 115%;\n",
              "  color: green;\n",
              "}\n",
              "#T_9a015_row0_col3, #T_9a015_row0_col4, #T_9a015_row0_col5, #T_9a015_row1_col2, #T_9a015_row1_col3, #T_9a015_row1_col4, #T_9a015_row1_col5, #T_9a015_row1_col6, #T_9a015_row3_col1, #T_9a015_row3_col2, #T_9a015_row3_col3, #T_9a015_row3_col6, #T_9a015_row4_col0, #T_9a015_row4_col3, #T_9a015_row5_col0, #T_9a015_row5_col2, #T_9a015_row5_col3, #T_9a015_row6_col0, #T_9a015_row6_col1, #T_9a015_row7_col0, #T_9a015_row7_col1, #T_9a015_row7_col2 {\n",
              "  text-align: center;\n",
              "  font-size: 115%;\n",
              "  color: red;\n",
              "}\n",
              "#T_9a015_row2_col0, #T_9a015_row2_col2, #T_9a015_row2_col4, #T_9a015_row2_col5, #T_9a015_row2_col6 {\n",
              "  text-align: center;\n",
              "  font-size: 115%;\n",
              "  background: lightyellow;\n",
              "  color: green;\n",
              "}\n",
              "#T_9a015_row2_col1, #T_9a015_row2_col3 {\n",
              "  text-align: center;\n",
              "  font-size: 115%;\n",
              "  background: lightyellow;\n",
              "  color: red;\n",
              "}\n",
              "</style>\n",
              "<table id=\"T_9a015_\">\n",
              "  <thead>\n",
              "    <tr>\n",
              "      <th class=\"col_heading level0 col0\" >p</th>\n",
              "      <th class=\"col_heading level0 col1\" >q</th>\n",
              "      <th class=\"col_heading level0 col2\" >r</th>\n",
              "      <th class=\"col_heading level0 col3\" >(~p) and (~q)</th>\n",
              "      <th class=\"col_heading level0 col4\" >(~p) or (~q)</th>\n",
              "      <th class=\"col_heading level0 col5\" >~(p and q)</th>\n",
              "      <th class=\"col_heading level0 col6\" >(~p) or r</th>\n",
              "    </tr>\n",
              "  </thead>\n",
              "  <tbody>\n",
              "    <tr>\n",
              "      <td id=\"T_9a015_row0_col0\" class=\"data row0 col0\" >True</td>\n",
              "      <td id=\"T_9a015_row0_col1\" class=\"data row0 col1\" >True</td>\n",
              "      <td id=\"T_9a015_row0_col2\" class=\"data row0 col2\" >True</td>\n",
              "      <td id=\"T_9a015_row0_col3\" class=\"data row0 col3\" >False</td>\n",
              "      <td id=\"T_9a015_row0_col4\" class=\"data row0 col4\" >False</td>\n",
              "      <td id=\"T_9a015_row0_col5\" class=\"data row0 col5\" >False</td>\n",
              "      <td id=\"T_9a015_row0_col6\" class=\"data row0 col6\" >True</td>\n",
              "    </tr>\n",
              "    <tr>\n",
              "      <td id=\"T_9a015_row1_col0\" class=\"data row1 col0\" >True</td>\n",
              "      <td id=\"T_9a015_row1_col1\" class=\"data row1 col1\" >True</td>\n",
              "      <td id=\"T_9a015_row1_col2\" class=\"data row1 col2\" >False</td>\n",
              "      <td id=\"T_9a015_row1_col3\" class=\"data row1 col3\" >False</td>\n",
              "      <td id=\"T_9a015_row1_col4\" class=\"data row1 col4\" >False</td>\n",
              "      <td id=\"T_9a015_row1_col5\" class=\"data row1 col5\" >False</td>\n",
              "      <td id=\"T_9a015_row1_col6\" class=\"data row1 col6\" >False</td>\n",
              "    </tr>\n",
              "    <tr>\n",
              "      <td id=\"T_9a015_row2_col0\" class=\"data row2 col0\" >True</td>\n",
              "      <td id=\"T_9a015_row2_col1\" class=\"data row2 col1\" >False</td>\n",
              "      <td id=\"T_9a015_row2_col2\" class=\"data row2 col2\" >True</td>\n",
              "      <td id=\"T_9a015_row2_col3\" class=\"data row2 col3\" >False</td>\n",
              "      <td id=\"T_9a015_row2_col4\" class=\"data row2 col4\" >True</td>\n",
              "      <td id=\"T_9a015_row2_col5\" class=\"data row2 col5\" >True</td>\n",
              "      <td id=\"T_9a015_row2_col6\" class=\"data row2 col6\" >True</td>\n",
              "    </tr>\n",
              "    <tr>\n",
              "      <td id=\"T_9a015_row3_col0\" class=\"data row3 col0\" >True</td>\n",
              "      <td id=\"T_9a015_row3_col1\" class=\"data row3 col1\" >False</td>\n",
              "      <td id=\"T_9a015_row3_col2\" class=\"data row3 col2\" >False</td>\n",
              "      <td id=\"T_9a015_row3_col3\" class=\"data row3 col3\" >False</td>\n",
              "      <td id=\"T_9a015_row3_col4\" class=\"data row3 col4\" >True</td>\n",
              "      <td id=\"T_9a015_row3_col5\" class=\"data row3 col5\" >True</td>\n",
              "      <td id=\"T_9a015_row3_col6\" class=\"data row3 col6\" >False</td>\n",
              "    </tr>\n",
              "    <tr>\n",
              "      <td id=\"T_9a015_row4_col0\" class=\"data row4 col0\" >False</td>\n",
              "      <td id=\"T_9a015_row4_col1\" class=\"data row4 col1\" >True</td>\n",
              "      <td id=\"T_9a015_row4_col2\" class=\"data row4 col2\" >True</td>\n",
              "      <td id=\"T_9a015_row4_col3\" class=\"data row4 col3\" >False</td>\n",
              "      <td id=\"T_9a015_row4_col4\" class=\"data row4 col4\" >True</td>\n",
              "      <td id=\"T_9a015_row4_col5\" class=\"data row4 col5\" >True</td>\n",
              "      <td id=\"T_9a015_row4_col6\" class=\"data row4 col6\" >True</td>\n",
              "    </tr>\n",
              "    <tr>\n",
              "      <td id=\"T_9a015_row5_col0\" class=\"data row5 col0\" >False</td>\n",
              "      <td id=\"T_9a015_row5_col1\" class=\"data row5 col1\" >True</td>\n",
              "      <td id=\"T_9a015_row5_col2\" class=\"data row5 col2\" >False</td>\n",
              "      <td id=\"T_9a015_row5_col3\" class=\"data row5 col3\" >False</td>\n",
              "      <td id=\"T_9a015_row5_col4\" class=\"data row5 col4\" >True</td>\n",
              "      <td id=\"T_9a015_row5_col5\" class=\"data row5 col5\" >True</td>\n",
              "      <td id=\"T_9a015_row5_col6\" class=\"data row5 col6\" >True</td>\n",
              "    </tr>\n",
              "    <tr>\n",
              "      <td id=\"T_9a015_row6_col0\" class=\"data row6 col0\" >False</td>\n",
              "      <td id=\"T_9a015_row6_col1\" class=\"data row6 col1\" >False</td>\n",
              "      <td id=\"T_9a015_row6_col2\" class=\"data row6 col2\" >True</td>\n",
              "      <td id=\"T_9a015_row6_col3\" class=\"data row6 col3\" >True</td>\n",
              "      <td id=\"T_9a015_row6_col4\" class=\"data row6 col4\" >True</td>\n",
              "      <td id=\"T_9a015_row6_col5\" class=\"data row6 col5\" >True</td>\n",
              "      <td id=\"T_9a015_row6_col6\" class=\"data row6 col6\" >True</td>\n",
              "    </tr>\n",
              "    <tr>\n",
              "      <td id=\"T_9a015_row7_col0\" class=\"data row7 col0\" >False</td>\n",
              "      <td id=\"T_9a015_row7_col1\" class=\"data row7 col1\" >False</td>\n",
              "      <td id=\"T_9a015_row7_col2\" class=\"data row7 col2\" >False</td>\n",
              "      <td id=\"T_9a015_row7_col3\" class=\"data row7 col3\" >True</td>\n",
              "      <td id=\"T_9a015_row7_col4\" class=\"data row7 col4\" >True</td>\n",
              "      <td id=\"T_9a015_row7_col5\" class=\"data row7 col5\" >True</td>\n",
              "      <td id=\"T_9a015_row7_col6\" class=\"data row7 col6\" >True</td>\n",
              "    </tr>\n",
              "  </tbody>\n",
              "</table>\n"
            ],
            "text/plain": [
              "<pandas.io.formats.style.Styler at 0x7f021d8cd160>"
            ]
          },
          "execution_count": 33,
          "metadata": {},
          "output_type": "execute_result"
        }
      ],
      "source": [
        "exercicio04 = Truths(\n",
        "    ['p', 'q', 'r'],\n",
        "    ['(~p) and (~q)', '(~p) or (~q)', '~(p and q)', '(~p) or r'],\n",
        "    ints=False)\n",
        "\n",
        "df_style(exercicio04, hl_rows=[3])"
      ]
    },
    {
      "cell_type": "markdown",
      "metadata": {
        "id": "XprO_S6ZUidJ"
      },
      "source": [
        "**Exercício 5**: Prove que uma condicional é equivalente a $\\neg (p \\land q)$"
      ]
    },
    {
      "cell_type": "code",
      "execution_count": null,
      "metadata": {
        "ExecuteTime": {
          "end_time": "2019-10-22T13:22:28.508699Z",
          "start_time": "2019-10-22T13:22:28.148941Z"
        },
        "id": "fZ3NHLcRUidJ",
        "outputId": "116dfc22-84fa-43a5-96eb-daa10cd51811"
      },
      "outputs": [
        {
          "data": {
            "text/html": [
              "<style type=\"text/css\">\n",
              "#T_5e0f7_ th {\n",
              "  font-size: 10pt;\n",
              "}\n",
              "#T_5e0f7_row0_col0, #T_5e0f7_row0_col1, #T_5e0f7_row1_col0, #T_5e0f7_row2_col1 {\n",
              "  text-align: center;\n",
              "  font-size: 115%;\n",
              "  color: green;\n",
              "}\n",
              "#T_5e0f7_row0_col2, #T_5e0f7_row0_col3, #T_5e0f7_row2_col2, #T_5e0f7_row2_col3, #T_5e0f7_row3_col2, #T_5e0f7_row3_col3 {\n",
              "  text-align: center;\n",
              "  font-size: 115%;\n",
              "  background: lightyellow;\n",
              "  color: green;\n",
              "}\n",
              "#T_5e0f7_row1_col1, #T_5e0f7_row2_col0, #T_5e0f7_row3_col0, #T_5e0f7_row3_col1 {\n",
              "  text-align: center;\n",
              "  font-size: 115%;\n",
              "  color: red;\n",
              "}\n",
              "#T_5e0f7_row1_col2, #T_5e0f7_row1_col3 {\n",
              "  text-align: center;\n",
              "  font-size: 115%;\n",
              "  background: lightyellow;\n",
              "  color: red;\n",
              "}\n",
              "</style>\n",
              "<table id=\"T_5e0f7_\">\n",
              "  <thead>\n",
              "    <tr>\n",
              "      <th class=\"col_heading level0 col0\" >p</th>\n",
              "      <th class=\"col_heading level0 col1\" >q</th>\n",
              "      <th class=\"col_heading level0 col2\" >~(p and (~q))</th>\n",
              "      <th class=\"col_heading level0 col3\" >p => q</th>\n",
              "    </tr>\n",
              "  </thead>\n",
              "  <tbody>\n",
              "    <tr>\n",
              "      <td id=\"T_5e0f7_row0_col0\" class=\"data row0 col0\" >True</td>\n",
              "      <td id=\"T_5e0f7_row0_col1\" class=\"data row0 col1\" >True</td>\n",
              "      <td id=\"T_5e0f7_row0_col2\" class=\"data row0 col2\" >True</td>\n",
              "      <td id=\"T_5e0f7_row0_col3\" class=\"data row0 col3\" >True</td>\n",
              "    </tr>\n",
              "    <tr>\n",
              "      <td id=\"T_5e0f7_row1_col0\" class=\"data row1 col0\" >True</td>\n",
              "      <td id=\"T_5e0f7_row1_col1\" class=\"data row1 col1\" >False</td>\n",
              "      <td id=\"T_5e0f7_row1_col2\" class=\"data row1 col2\" >False</td>\n",
              "      <td id=\"T_5e0f7_row1_col3\" class=\"data row1 col3\" >False</td>\n",
              "    </tr>\n",
              "    <tr>\n",
              "      <td id=\"T_5e0f7_row2_col0\" class=\"data row2 col0\" >False</td>\n",
              "      <td id=\"T_5e0f7_row2_col1\" class=\"data row2 col1\" >True</td>\n",
              "      <td id=\"T_5e0f7_row2_col2\" class=\"data row2 col2\" >True</td>\n",
              "      <td id=\"T_5e0f7_row2_col3\" class=\"data row2 col3\" >True</td>\n",
              "    </tr>\n",
              "    <tr>\n",
              "      <td id=\"T_5e0f7_row3_col0\" class=\"data row3 col0\" >False</td>\n",
              "      <td id=\"T_5e0f7_row3_col1\" class=\"data row3 col1\" >False</td>\n",
              "      <td id=\"T_5e0f7_row3_col2\" class=\"data row3 col2\" >True</td>\n",
              "      <td id=\"T_5e0f7_row3_col3\" class=\"data row3 col3\" >True</td>\n",
              "    </tr>\n",
              "  </tbody>\n",
              "</table>\n"
            ],
            "text/plain": [
              "<pandas.io.formats.style.Styler at 0x7f021d853520>"
            ]
          },
          "execution_count": 34,
          "metadata": {},
          "output_type": "execute_result"
        }
      ],
      "source": [
        "exercicio05 = Truths(['p', 'q'], ['~(p and (~q))', 'p => q'], ints=False)\n",
        "\n",
        "df_style(exercicio05, hl_cols=['~(p and (~q))', 'p => q'])\n",
        "\n",
        "# Repare que as colunas das proposições são iguais."
      ]
    },
    {
      "cell_type": "markdown",
      "metadata": {
        "id": "ZbPSkQfUUidK"
      },
      "source": [
        "**Exercício 6**: Comprove que $\\neg (p \\rightarrow q)$ é equivalente a $p \\land \\neg q$"
      ]
    },
    {
      "cell_type": "code",
      "execution_count": null,
      "metadata": {
        "ExecuteTime": {
          "end_time": "2019-10-22T13:22:28.836859Z",
          "start_time": "2019-10-22T13:22:28.510096Z"
        },
        "id": "E6yppjxlUidK",
        "outputId": "5b8bbc1f-a7ce-4fea-b945-5cdbd46d3841"
      },
      "outputs": [
        {
          "data": {
            "text/html": [
              "<style type=\"text/css\">\n",
              "#T_77756_ th {\n",
              "  font-size: 10pt;\n",
              "}\n",
              "#T_77756_row0_col0, #T_77756_row0_col1, #T_77756_row1_col0, #T_77756_row2_col1 {\n",
              "  text-align: center;\n",
              "  font-size: 115%;\n",
              "  color: green;\n",
              "}\n",
              "#T_77756_row0_col2, #T_77756_row0_col3, #T_77756_row2_col2, #T_77756_row2_col3, #T_77756_row3_col2, #T_77756_row3_col3 {\n",
              "  text-align: center;\n",
              "  font-size: 115%;\n",
              "  background: lightyellow;\n",
              "  color: red;\n",
              "}\n",
              "#T_77756_row1_col1, #T_77756_row2_col0, #T_77756_row3_col0, #T_77756_row3_col1 {\n",
              "  text-align: center;\n",
              "  font-size: 115%;\n",
              "  color: red;\n",
              "}\n",
              "#T_77756_row1_col2, #T_77756_row1_col3 {\n",
              "  text-align: center;\n",
              "  font-size: 115%;\n",
              "  background: lightyellow;\n",
              "  color: green;\n",
              "}\n",
              "</style>\n",
              "<table id=\"T_77756_\">\n",
              "  <thead>\n",
              "    <tr>\n",
              "      <th class=\"col_heading level0 col0\" >p</th>\n",
              "      <th class=\"col_heading level0 col1\" >q</th>\n",
              "      <th class=\"col_heading level0 col2\" >~(p => q)</th>\n",
              "      <th class=\"col_heading level0 col3\" >p and (~q)</th>\n",
              "    </tr>\n",
              "  </thead>\n",
              "  <tbody>\n",
              "    <tr>\n",
              "      <td id=\"T_77756_row0_col0\" class=\"data row0 col0\" >True</td>\n",
              "      <td id=\"T_77756_row0_col1\" class=\"data row0 col1\" >True</td>\n",
              "      <td id=\"T_77756_row0_col2\" class=\"data row0 col2\" >False</td>\n",
              "      <td id=\"T_77756_row0_col3\" class=\"data row0 col3\" >False</td>\n",
              "    </tr>\n",
              "    <tr>\n",
              "      <td id=\"T_77756_row1_col0\" class=\"data row1 col0\" >True</td>\n",
              "      <td id=\"T_77756_row1_col1\" class=\"data row1 col1\" >False</td>\n",
              "      <td id=\"T_77756_row1_col2\" class=\"data row1 col2\" >True</td>\n",
              "      <td id=\"T_77756_row1_col3\" class=\"data row1 col3\" >True</td>\n",
              "    </tr>\n",
              "    <tr>\n",
              "      <td id=\"T_77756_row2_col0\" class=\"data row2 col0\" >False</td>\n",
              "      <td id=\"T_77756_row2_col1\" class=\"data row2 col1\" >True</td>\n",
              "      <td id=\"T_77756_row2_col2\" class=\"data row2 col2\" >False</td>\n",
              "      <td id=\"T_77756_row2_col3\" class=\"data row2 col3\" >False</td>\n",
              "    </tr>\n",
              "    <tr>\n",
              "      <td id=\"T_77756_row3_col0\" class=\"data row3 col0\" >False</td>\n",
              "      <td id=\"T_77756_row3_col1\" class=\"data row3 col1\" >False</td>\n",
              "      <td id=\"T_77756_row3_col2\" class=\"data row3 col2\" >False</td>\n",
              "      <td id=\"T_77756_row3_col3\" class=\"data row3 col3\" >False</td>\n",
              "    </tr>\n",
              "  </tbody>\n",
              "</table>\n"
            ],
            "text/plain": [
              "<pandas.io.formats.style.Styler at 0x7f021d853220>"
            ]
          },
          "execution_count": 35,
          "metadata": {},
          "output_type": "execute_result"
        }
      ],
      "source": [
        "exercicio06 = Truths(['p', 'q'], ['~(p => q)', 'p and (~q)'], ints=False)\n",
        "\n",
        "df_style(exercicio06, hl_cols=['~(p => q)', 'p and (~q)'])\n",
        "\n",
        "# Repare que as colunas das proposições são iguais."
      ]
    },
    {
      "cell_type": "markdown",
      "metadata": {
        "id": "pAhXkjROUidK"
      },
      "source": [
        "**Exercício 7**: Mostre simbolicamente que são logicamente equivalentes: \"Se um aluno estuda, então ele é aprovado\" e \"Não é verdade que um aluno estuda e não é aprovado\".\n",
        "\n",
        "Resposta:\n",
        "\n",
        "| Proposição |          Texto                                    | \n",
        "| --------   | ----------                                        | \n",
        "| $p$        | Um aluno estuda                                   | \n",
        "| $q$        | O aluno é aprovado                                | \n"
      ]
    },
    {
      "cell_type": "code",
      "execution_count": null,
      "metadata": {
        "ExecuteTime": {
          "end_time": "2019-10-22T13:22:29.176016Z",
          "start_time": "2019-10-22T13:22:28.837859Z"
        },
        "id": "8Mp4puSUUidK",
        "outputId": "46892420-a2a7-4982-9186-eb5d3606e445"
      },
      "outputs": [
        {
          "data": {
            "text/html": [
              "<style type=\"text/css\">\n",
              "#T_c2848_ th {\n",
              "  font-size: 10pt;\n",
              "}\n",
              "#T_c2848_row0_col0, #T_c2848_row0_col1, #T_c2848_row1_col0, #T_c2848_row2_col1 {\n",
              "  text-align: center;\n",
              "  font-size: 115%;\n",
              "  color: green;\n",
              "}\n",
              "#T_c2848_row0_col2, #T_c2848_row0_col3, #T_c2848_row2_col2, #T_c2848_row2_col3, #T_c2848_row3_col2, #T_c2848_row3_col3 {\n",
              "  text-align: center;\n",
              "  font-size: 115%;\n",
              "  background: lightyellow;\n",
              "  color: green;\n",
              "}\n",
              "#T_c2848_row1_col1, #T_c2848_row2_col0, #T_c2848_row3_col0, #T_c2848_row3_col1 {\n",
              "  text-align: center;\n",
              "  font-size: 115%;\n",
              "  color: red;\n",
              "}\n",
              "#T_c2848_row1_col2, #T_c2848_row1_col3 {\n",
              "  text-align: center;\n",
              "  font-size: 115%;\n",
              "  background: lightyellow;\n",
              "  color: red;\n",
              "}\n",
              "</style>\n",
              "<table id=\"T_c2848_\">\n",
              "  <thead>\n",
              "    <tr>\n",
              "      <th class=\"col_heading level0 col0\" >p</th>\n",
              "      <th class=\"col_heading level0 col1\" >q</th>\n",
              "      <th class=\"col_heading level0 col2\" >p => q</th>\n",
              "      <th class=\"col_heading level0 col3\" >~(p and (~q))</th>\n",
              "    </tr>\n",
              "  </thead>\n",
              "  <tbody>\n",
              "    <tr>\n",
              "      <td id=\"T_c2848_row0_col0\" class=\"data row0 col0\" >True</td>\n",
              "      <td id=\"T_c2848_row0_col1\" class=\"data row0 col1\" >True</td>\n",
              "      <td id=\"T_c2848_row0_col2\" class=\"data row0 col2\" >True</td>\n",
              "      <td id=\"T_c2848_row0_col3\" class=\"data row0 col3\" >True</td>\n",
              "    </tr>\n",
              "    <tr>\n",
              "      <td id=\"T_c2848_row1_col0\" class=\"data row1 col0\" >True</td>\n",
              "      <td id=\"T_c2848_row1_col1\" class=\"data row1 col1\" >False</td>\n",
              "      <td id=\"T_c2848_row1_col2\" class=\"data row1 col2\" >False</td>\n",
              "      <td id=\"T_c2848_row1_col3\" class=\"data row1 col3\" >False</td>\n",
              "    </tr>\n",
              "    <tr>\n",
              "      <td id=\"T_c2848_row2_col0\" class=\"data row2 col0\" >False</td>\n",
              "      <td id=\"T_c2848_row2_col1\" class=\"data row2 col1\" >True</td>\n",
              "      <td id=\"T_c2848_row2_col2\" class=\"data row2 col2\" >True</td>\n",
              "      <td id=\"T_c2848_row2_col3\" class=\"data row2 col3\" >True</td>\n",
              "    </tr>\n",
              "    <tr>\n",
              "      <td id=\"T_c2848_row3_col0\" class=\"data row3 col0\" >False</td>\n",
              "      <td id=\"T_c2848_row3_col1\" class=\"data row3 col1\" >False</td>\n",
              "      <td id=\"T_c2848_row3_col2\" class=\"data row3 col2\" >True</td>\n",
              "      <td id=\"T_c2848_row3_col3\" class=\"data row3 col3\" >True</td>\n",
              "    </tr>\n",
              "  </tbody>\n",
              "</table>\n"
            ],
            "text/plain": [
              "<pandas.io.formats.style.Styler at 0x7f021d8741c0>"
            ]
          },
          "execution_count": 36,
          "metadata": {},
          "output_type": "execute_result"
        }
      ],
      "source": [
        "exercicio07 = Truths(['p', 'q'], ['p => q', '~(p and (~q))'], ints=False)\n",
        "\n",
        "df_style(exercicio07, hl_cols=['p => q', '~(p and (~q))'])\n",
        "\n",
        "# Repare que as colunas das proposições são iguais."
      ]
    },
    {
      "cell_type": "markdown",
      "metadata": {
        "id": "fY-Ef_wCUidL"
      },
      "source": [
        "**Exercício 8**: Mostre simbolicamente que a negação de \"Se um aluno estuda, então ele é aprovado\" é \"Há alunos que estudam e não são aprovados\".\n",
        "\n",
        "Resposta:\n",
        "\n",
        "| Proposição |          Texto                                    | \n",
        "| --------   | ----------                                        | \n",
        "| $p$        | Um aluno estuda                                   | \n",
        "| $q$        | O aluno é aprovado                                | "
      ]
    },
    {
      "cell_type": "code",
      "execution_count": null,
      "metadata": {
        "ExecuteTime": {
          "end_time": "2019-10-22T13:22:29.514712Z",
          "start_time": "2019-10-22T13:22:29.177465Z"
        },
        "id": "IdsoRa8oUidL",
        "outputId": "64845fa9-271c-4f78-bacd-150d73eaebe7"
      },
      "outputs": [
        {
          "data": {
            "text/html": [
              "<style type=\"text/css\">\n",
              "#T_82ab7_ th {\n",
              "  font-size: 10pt;\n",
              "}\n",
              "#T_82ab7_row0_col0, #T_82ab7_row0_col1, #T_82ab7_row0_col2, #T_82ab7_row1_col0, #T_82ab7_row1_col3, #T_82ab7_row2_col1, #T_82ab7_row2_col2, #T_82ab7_row3_col2 {\n",
              "  text-align: center;\n",
              "  font-size: 115%;\n",
              "  color: green;\n",
              "}\n",
              "#T_82ab7_row0_col3, #T_82ab7_row1_col1, #T_82ab7_row1_col2, #T_82ab7_row2_col0, #T_82ab7_row2_col3, #T_82ab7_row3_col0, #T_82ab7_row3_col1, #T_82ab7_row3_col3 {\n",
              "  text-align: center;\n",
              "  font-size: 115%;\n",
              "  color: red;\n",
              "}\n",
              "</style>\n",
              "<table id=\"T_82ab7_\">\n",
              "  <thead>\n",
              "    <tr>\n",
              "      <th class=\"col_heading level0 col0\" >p</th>\n",
              "      <th class=\"col_heading level0 col1\" >q</th>\n",
              "      <th class=\"col_heading level0 col2\" >p => q</th>\n",
              "      <th class=\"col_heading level0 col3\" >p and (~q)</th>\n",
              "    </tr>\n",
              "  </thead>\n",
              "  <tbody>\n",
              "    <tr>\n",
              "      <td id=\"T_82ab7_row0_col0\" class=\"data row0 col0\" >True</td>\n",
              "      <td id=\"T_82ab7_row0_col1\" class=\"data row0 col1\" >True</td>\n",
              "      <td id=\"T_82ab7_row0_col2\" class=\"data row0 col2\" >True</td>\n",
              "      <td id=\"T_82ab7_row0_col3\" class=\"data row0 col3\" >False</td>\n",
              "    </tr>\n",
              "    <tr>\n",
              "      <td id=\"T_82ab7_row1_col0\" class=\"data row1 col0\" >True</td>\n",
              "      <td id=\"T_82ab7_row1_col1\" class=\"data row1 col1\" >False</td>\n",
              "      <td id=\"T_82ab7_row1_col2\" class=\"data row1 col2\" >False</td>\n",
              "      <td id=\"T_82ab7_row1_col3\" class=\"data row1 col3\" >True</td>\n",
              "    </tr>\n",
              "    <tr>\n",
              "      <td id=\"T_82ab7_row2_col0\" class=\"data row2 col0\" >False</td>\n",
              "      <td id=\"T_82ab7_row2_col1\" class=\"data row2 col1\" >True</td>\n",
              "      <td id=\"T_82ab7_row2_col2\" class=\"data row2 col2\" >True</td>\n",
              "      <td id=\"T_82ab7_row2_col3\" class=\"data row2 col3\" >False</td>\n",
              "    </tr>\n",
              "    <tr>\n",
              "      <td id=\"T_82ab7_row3_col0\" class=\"data row3 col0\" >False</td>\n",
              "      <td id=\"T_82ab7_row3_col1\" class=\"data row3 col1\" >False</td>\n",
              "      <td id=\"T_82ab7_row3_col2\" class=\"data row3 col2\" >True</td>\n",
              "      <td id=\"T_82ab7_row3_col3\" class=\"data row3 col3\" >False</td>\n",
              "    </tr>\n",
              "  </tbody>\n",
              "</table>\n"
            ],
            "text/plain": [
              "<pandas.io.formats.style.Styler at 0x7f021d8aad90>"
            ]
          },
          "execution_count": 37,
          "metadata": {},
          "output_type": "execute_result"
        }
      ],
      "source": [
        "exercicio08 = Truths(['p', 'q'], ['p => q', 'p and (~q)'], ints=False)\n",
        "\n",
        "df_style(exercicio08)\n",
        "\n",
        "# Repare que as colunas das proposições são opostas."
      ]
    },
    {
      "cell_type": "markdown",
      "metadata": {
        "id": "LmZ3MBuHUidL"
      },
      "source": [
        "**Exercício 9**: Considere a proposição: \"Se o Edson se candidatar a presidente, então ele se elegerá\". Em qual dos casos abaixo essa proposição condicional deve ser considerada falsa?\n",
        "\n",
        "a. O Edson se candidatou a presidente e se elegeu.\n",
        "\n",
        "b. O Edson se candidatou a presidente e não se elegeu.\n",
        "\n",
        "c. O Edson não se candidatou a presidente.\n",
        "\n",
        "Resposta:\n",
        "\n",
        "\n",
        "| Proposição |          Texto                     | \n",
        "| --------   | ----------                         | \n",
        "| $p$        | O Edson se candidatar a presidente | \n",
        "| $q$        | O Edson se eleger                  | "
      ]
    },
    {
      "cell_type": "code",
      "execution_count": null,
      "metadata": {
        "ExecuteTime": {
          "end_time": "2019-10-22T13:22:29.846088Z",
          "start_time": "2019-10-22T13:22:29.515806Z"
        },
        "id": "9MobuRRDUidM",
        "outputId": "69929b96-4cf8-4c30-960f-6a693dc9f015"
      },
      "outputs": [
        {
          "data": {
            "text/html": [
              "<style type=\"text/css\">\n",
              "#T_3c4a1_ th {\n",
              "  font-size: 10pt;\n",
              "}\n",
              "#T_3c4a1_row0_col0, #T_3c4a1_row0_col1, #T_3c4a1_row0_col3, #T_3c4a1_row1_col0, #T_3c4a1_row2_col1, #T_3c4a1_row2_col5, #T_3c4a1_row3_col5 {\n",
              "  text-align: center;\n",
              "  font-size: 115%;\n",
              "  color: green;\n",
              "}\n",
              "#T_3c4a1_row0_col2, #T_3c4a1_row1_col4, #T_3c4a1_row2_col2, #T_3c4a1_row3_col2 {\n",
              "  text-align: center;\n",
              "  font-size: 115%;\n",
              "  background: lightyellow;\n",
              "  color: green;\n",
              "}\n",
              "#T_3c4a1_row0_col4, #T_3c4a1_row1_col2, #T_3c4a1_row2_col4, #T_3c4a1_row3_col4 {\n",
              "  text-align: center;\n",
              "  font-size: 115%;\n",
              "  background: lightyellow;\n",
              "  color: red;\n",
              "}\n",
              "#T_3c4a1_row0_col5, #T_3c4a1_row1_col1, #T_3c4a1_row1_col3, #T_3c4a1_row1_col5, #T_3c4a1_row2_col0, #T_3c4a1_row2_col3, #T_3c4a1_row3_col0, #T_3c4a1_row3_col1, #T_3c4a1_row3_col3 {\n",
              "  text-align: center;\n",
              "  font-size: 115%;\n",
              "  color: red;\n",
              "}\n",
              "</style>\n",
              "<table id=\"T_3c4a1_\">\n",
              "  <thead>\n",
              "    <tr>\n",
              "      <th class=\"col_heading level0 col0\" >p</th>\n",
              "      <th class=\"col_heading level0 col1\" >q</th>\n",
              "      <th class=\"col_heading level0 col2\" >p => q</th>\n",
              "      <th class=\"col_heading level0 col3\" >p and q</th>\n",
              "      <th class=\"col_heading level0 col4\" >p and (~q)</th>\n",
              "      <th class=\"col_heading level0 col5\" >~p</th>\n",
              "    </tr>\n",
              "  </thead>\n",
              "  <tbody>\n",
              "    <tr>\n",
              "      <td id=\"T_3c4a1_row0_col0\" class=\"data row0 col0\" >True</td>\n",
              "      <td id=\"T_3c4a1_row0_col1\" class=\"data row0 col1\" >True</td>\n",
              "      <td id=\"T_3c4a1_row0_col2\" class=\"data row0 col2\" >True</td>\n",
              "      <td id=\"T_3c4a1_row0_col3\" class=\"data row0 col3\" >True</td>\n",
              "      <td id=\"T_3c4a1_row0_col4\" class=\"data row0 col4\" >False</td>\n",
              "      <td id=\"T_3c4a1_row0_col5\" class=\"data row0 col5\" >False</td>\n",
              "    </tr>\n",
              "    <tr>\n",
              "      <td id=\"T_3c4a1_row1_col0\" class=\"data row1 col0\" >True</td>\n",
              "      <td id=\"T_3c4a1_row1_col1\" class=\"data row1 col1\" >False</td>\n",
              "      <td id=\"T_3c4a1_row1_col2\" class=\"data row1 col2\" >False</td>\n",
              "      <td id=\"T_3c4a1_row1_col3\" class=\"data row1 col3\" >False</td>\n",
              "      <td id=\"T_3c4a1_row1_col4\" class=\"data row1 col4\" >True</td>\n",
              "      <td id=\"T_3c4a1_row1_col5\" class=\"data row1 col5\" >False</td>\n",
              "    </tr>\n",
              "    <tr>\n",
              "      <td id=\"T_3c4a1_row2_col0\" class=\"data row2 col0\" >False</td>\n",
              "      <td id=\"T_3c4a1_row2_col1\" class=\"data row2 col1\" >True</td>\n",
              "      <td id=\"T_3c4a1_row2_col2\" class=\"data row2 col2\" >True</td>\n",
              "      <td id=\"T_3c4a1_row2_col3\" class=\"data row2 col3\" >False</td>\n",
              "      <td id=\"T_3c4a1_row2_col4\" class=\"data row2 col4\" >False</td>\n",
              "      <td id=\"T_3c4a1_row2_col5\" class=\"data row2 col5\" >True</td>\n",
              "    </tr>\n",
              "    <tr>\n",
              "      <td id=\"T_3c4a1_row3_col0\" class=\"data row3 col0\" >False</td>\n",
              "      <td id=\"T_3c4a1_row3_col1\" class=\"data row3 col1\" >False</td>\n",
              "      <td id=\"T_3c4a1_row3_col2\" class=\"data row3 col2\" >True</td>\n",
              "      <td id=\"T_3c4a1_row3_col3\" class=\"data row3 col3\" >False</td>\n",
              "      <td id=\"T_3c4a1_row3_col4\" class=\"data row3 col4\" >False</td>\n",
              "      <td id=\"T_3c4a1_row3_col5\" class=\"data row3 col5\" >True</td>\n",
              "    </tr>\n",
              "  </tbody>\n",
              "</table>\n"
            ],
            "text/plain": [
              "<pandas.io.formats.style.Styler at 0x7f021d814df0>"
            ]
          },
          "execution_count": 38,
          "metadata": {},
          "output_type": "execute_result"
        }
      ],
      "source": [
        "exercicio09 = Truths(['p', 'q'], \n",
        "                     ['p => q', 'p and q', 'p and (~q)', '~p'],\n",
        "                     ints=False)\n",
        "\n",
        "df_style(exercicio09, hl_cols=['p => q', 'p and (~q)'])\n",
        "\n",
        "# Repare que as colunas das proposições destacadas são opostas. \n",
        "# A primeira coluna destacada se refere ao enunciado.\n",
        "# A segunda se refere à letra b. Logo a resposta é letra b."
      ]
    },
    {
      "cell_type": "markdown",
      "metadata": {
        "id": "JBuY3tLBUidM"
      },
      "source": [
        "**Exercício 10**: Considere a condicional: \"Se o seu dente está cariado, você precisa de um dentista\".\n",
        "\n",
        "a. Suponha que \"o seu dente não está cariado e você precisa de um dentista\". Isto significa uma negação da anterior?\n",
        "\n"
      ]
    },
    {
      "cell_type": "code",
      "execution_count": null,
      "metadata": {
        "ExecuteTime": {
          "end_time": "2019-10-22T13:22:30.273622Z",
          "start_time": "2019-10-22T13:22:29.847069Z"
        },
        "id": "K5-yjT0nUidM",
        "outputId": "9f72d131-12a5-4d5c-b8a9-220d1fe80259"
      },
      "outputs": [
        {
          "data": {
            "text/html": [
              "<style type=\"text/css\">\n",
              "#T_ba7b7_ th {\n",
              "  font-size: 10pt;\n",
              "}\n",
              "#T_ba7b7_row0_col0, #T_ba7b7_row0_col1, #T_ba7b7_row0_col2, #T_ba7b7_row1_col0, #T_ba7b7_row2_col1, #T_ba7b7_row2_col2, #T_ba7b7_row2_col3, #T_ba7b7_row3_col2 {\n",
              "  text-align: center;\n",
              "  font-size: 115%;\n",
              "  color: green;\n",
              "}\n",
              "#T_ba7b7_row0_col3, #T_ba7b7_row1_col1, #T_ba7b7_row1_col2, #T_ba7b7_row1_col3, #T_ba7b7_row2_col0, #T_ba7b7_row3_col0, #T_ba7b7_row3_col1, #T_ba7b7_row3_col3 {\n",
              "  text-align: center;\n",
              "  font-size: 115%;\n",
              "  color: red;\n",
              "}\n",
              "</style>\n",
              "<table id=\"T_ba7b7_\">\n",
              "  <thead>\n",
              "    <tr>\n",
              "      <th class=\"col_heading level0 col0\" >p</th>\n",
              "      <th class=\"col_heading level0 col1\" >q</th>\n",
              "      <th class=\"col_heading level0 col2\" >p => q</th>\n",
              "      <th class=\"col_heading level0 col3\" >(~p) and q</th>\n",
              "    </tr>\n",
              "  </thead>\n",
              "  <tbody>\n",
              "    <tr>\n",
              "      <td id=\"T_ba7b7_row0_col0\" class=\"data row0 col0\" >True</td>\n",
              "      <td id=\"T_ba7b7_row0_col1\" class=\"data row0 col1\" >True</td>\n",
              "      <td id=\"T_ba7b7_row0_col2\" class=\"data row0 col2\" >True</td>\n",
              "      <td id=\"T_ba7b7_row0_col3\" class=\"data row0 col3\" >False</td>\n",
              "    </tr>\n",
              "    <tr>\n",
              "      <td id=\"T_ba7b7_row1_col0\" class=\"data row1 col0\" >True</td>\n",
              "      <td id=\"T_ba7b7_row1_col1\" class=\"data row1 col1\" >False</td>\n",
              "      <td id=\"T_ba7b7_row1_col2\" class=\"data row1 col2\" >False</td>\n",
              "      <td id=\"T_ba7b7_row1_col3\" class=\"data row1 col3\" >False</td>\n",
              "    </tr>\n",
              "    <tr>\n",
              "      <td id=\"T_ba7b7_row2_col0\" class=\"data row2 col0\" >False</td>\n",
              "      <td id=\"T_ba7b7_row2_col1\" class=\"data row2 col1\" >True</td>\n",
              "      <td id=\"T_ba7b7_row2_col2\" class=\"data row2 col2\" >True</td>\n",
              "      <td id=\"T_ba7b7_row2_col3\" class=\"data row2 col3\" >True</td>\n",
              "    </tr>\n",
              "    <tr>\n",
              "      <td id=\"T_ba7b7_row3_col0\" class=\"data row3 col0\" >False</td>\n",
              "      <td id=\"T_ba7b7_row3_col1\" class=\"data row3 col1\" >False</td>\n",
              "      <td id=\"T_ba7b7_row3_col2\" class=\"data row3 col2\" >True</td>\n",
              "      <td id=\"T_ba7b7_row3_col3\" class=\"data row3 col3\" >False</td>\n",
              "    </tr>\n",
              "  </tbody>\n",
              "</table>\n"
            ],
            "text/plain": [
              "<pandas.io.formats.style.Styler at 0x7f021d853ee0>"
            ]
          },
          "execution_count": 39,
          "metadata": {},
          "output_type": "execute_result"
        }
      ],
      "source": [
        "exercicio10a = Truths(['p', 'q'], ['p => q', '(~p) and q'], ints=False)\n",
        "\n",
        "df_style(exercicio10a)\n",
        "\n",
        "# As colunas não são completamente opostas, logo não é negação."
      ]
    },
    {
      "cell_type": "markdown",
      "metadata": {
        "id": "Ho24uyp_UidN"
      },
      "source": [
        "b. Escreva uma proposição que não seja condicional e que corresponde à negação da proposição acima."
      ]
    },
    {
      "cell_type": "markdown",
      "metadata": {
        "id": "Xh4A6Q5BUidN"
      },
      "source": [
        "Negação da condicional: $\\neg (p \\rightarrow q) \\leftrightarrow p \\land \\neg q$\n",
        "\n",
        "Logo: O seu dente está cariado e você não precisa de um dentista."
      ]
    },
    {
      "cell_type": "markdown",
      "metadata": {
        "id": "Si6h1hn5UidN"
      },
      "source": [
        "**Exercício 11**: Escreva na linguagem simbólica e verifique se são logicamente equivalentes as proposições \"Se eu me chamo João, então eu passo no vestibular\", e \"Eu passo no vestibular ou não me chamo João\"."
      ]
    },
    {
      "cell_type": "markdown",
      "metadata": {
        "id": "EdM-peKMUidN"
      },
      "source": [
        "R.:\n",
        "\n",
        "| Proposição |          Texto                     | \n",
        "| --------   | ----------                         | \n",
        "| $p$        | Eu me chamo João                   | \n",
        "| $q$        | Eu passo no vestibuar              | "
      ]
    },
    {
      "cell_type": "code",
      "execution_count": null,
      "metadata": {
        "ExecuteTime": {
          "end_time": "2019-10-22T13:22:30.595517Z",
          "start_time": "2019-10-22T13:22:30.274613Z"
        },
        "id": "XTAauo64UidN",
        "outputId": "527d1eee-704e-4dae-dbca-d4fd54d9aa27"
      },
      "outputs": [
        {
          "data": {
            "text/html": [
              "<style type=\"text/css\">\n",
              "#T_37c1c_ th {\n",
              "  font-size: 10pt;\n",
              "}\n",
              "#T_37c1c_row0_col0, #T_37c1c_row0_col1, #T_37c1c_row0_col2, #T_37c1c_row0_col3, #T_37c1c_row1_col0, #T_37c1c_row2_col1, #T_37c1c_row2_col2, #T_37c1c_row2_col3, #T_37c1c_row3_col2, #T_37c1c_row3_col3 {\n",
              "  text-align: center;\n",
              "  font-size: 115%;\n",
              "  color: green;\n",
              "}\n",
              "#T_37c1c_row1_col1, #T_37c1c_row1_col2, #T_37c1c_row1_col3, #T_37c1c_row2_col0, #T_37c1c_row3_col0, #T_37c1c_row3_col1 {\n",
              "  text-align: center;\n",
              "  font-size: 115%;\n",
              "  color: red;\n",
              "}\n",
              "</style>\n",
              "<table id=\"T_37c1c_\">\n",
              "  <thead>\n",
              "    <tr>\n",
              "      <th class=\"col_heading level0 col0\" >p</th>\n",
              "      <th class=\"col_heading level0 col1\" >q</th>\n",
              "      <th class=\"col_heading level0 col2\" >p => q</th>\n",
              "      <th class=\"col_heading level0 col3\" >(~p) or q</th>\n",
              "    </tr>\n",
              "  </thead>\n",
              "  <tbody>\n",
              "    <tr>\n",
              "      <td id=\"T_37c1c_row0_col0\" class=\"data row0 col0\" >True</td>\n",
              "      <td id=\"T_37c1c_row0_col1\" class=\"data row0 col1\" >True</td>\n",
              "      <td id=\"T_37c1c_row0_col2\" class=\"data row0 col2\" >True</td>\n",
              "      <td id=\"T_37c1c_row0_col3\" class=\"data row0 col3\" >True</td>\n",
              "    </tr>\n",
              "    <tr>\n",
              "      <td id=\"T_37c1c_row1_col0\" class=\"data row1 col0\" >True</td>\n",
              "      <td id=\"T_37c1c_row1_col1\" class=\"data row1 col1\" >False</td>\n",
              "      <td id=\"T_37c1c_row1_col2\" class=\"data row1 col2\" >False</td>\n",
              "      <td id=\"T_37c1c_row1_col3\" class=\"data row1 col3\" >False</td>\n",
              "    </tr>\n",
              "    <tr>\n",
              "      <td id=\"T_37c1c_row2_col0\" class=\"data row2 col0\" >False</td>\n",
              "      <td id=\"T_37c1c_row2_col1\" class=\"data row2 col1\" >True</td>\n",
              "      <td id=\"T_37c1c_row2_col2\" class=\"data row2 col2\" >True</td>\n",
              "      <td id=\"T_37c1c_row2_col3\" class=\"data row2 col3\" >True</td>\n",
              "    </tr>\n",
              "    <tr>\n",
              "      <td id=\"T_37c1c_row3_col0\" class=\"data row3 col0\" >False</td>\n",
              "      <td id=\"T_37c1c_row3_col1\" class=\"data row3 col1\" >False</td>\n",
              "      <td id=\"T_37c1c_row3_col2\" class=\"data row3 col2\" >True</td>\n",
              "      <td id=\"T_37c1c_row3_col3\" class=\"data row3 col3\" >True</td>\n",
              "    </tr>\n",
              "  </tbody>\n",
              "</table>\n"
            ],
            "text/plain": [
              "<pandas.io.formats.style.Styler at 0x7f021d810d00>"
            ]
          },
          "execution_count": 40,
          "metadata": {},
          "output_type": "execute_result"
        }
      ],
      "source": [
        "exercicio11 = Truths(['p', 'q'], ['p => q', '(~p) or q'], ints=False)\n",
        "\n",
        "df_style(exercicio11)\n",
        "\n",
        "# Repare que as colunas das proposições são iguais."
      ]
    },
    {
      "cell_type": "markdown",
      "metadata": {
        "id": "XuZ_XK1CUidO"
      },
      "source": [
        "**Exercício 12**: Sendo a proposição $p \\rightarrow (r \\lor s)$ falsa e a proposição $(q \\land \\neg s) \\rightarrow p$ verdadeira, classifique em verdadeira ou falsa as afirmações $p$, $q$, $r$ e $s$."
      ]
    },
    {
      "cell_type": "code",
      "execution_count": null,
      "metadata": {
        "ExecuteTime": {
          "end_time": "2019-10-22T13:22:30.985244Z",
          "start_time": "2019-10-22T13:22:30.596522Z"
        },
        "id": "GtAuaEoEUidO",
        "outputId": "b3ac35b0-b630-4dd3-f773-c7779f27a731"
      },
      "outputs": [
        {
          "data": {
            "text/html": [
              "<style type=\"text/css\">\n",
              "#T_f89f5_ th {\n",
              "  font-size: 10pt;\n",
              "}\n",
              "#T_f89f5_row0_col0, #T_f89f5_row0_col1, #T_f89f5_row0_col2, #T_f89f5_row0_col3, #T_f89f5_row0_col4, #T_f89f5_row0_col5, #T_f89f5_row1_col0, #T_f89f5_row1_col1, #T_f89f5_row1_col2, #T_f89f5_row1_col4, #T_f89f5_row1_col5, #T_f89f5_row2_col0, #T_f89f5_row2_col1, #T_f89f5_row2_col3, #T_f89f5_row2_col4, #T_f89f5_row2_col5, #T_f89f5_row4_col0, #T_f89f5_row4_col2, #T_f89f5_row4_col3, #T_f89f5_row4_col4, #T_f89f5_row4_col5, #T_f89f5_row5_col0, #T_f89f5_row5_col2, #T_f89f5_row5_col4, #T_f89f5_row5_col5, #T_f89f5_row6_col0, #T_f89f5_row6_col3, #T_f89f5_row6_col4, #T_f89f5_row6_col5, #T_f89f5_row8_col1, #T_f89f5_row8_col2, #T_f89f5_row8_col3, #T_f89f5_row8_col4, #T_f89f5_row8_col5, #T_f89f5_row9_col1, #T_f89f5_row9_col2, #T_f89f5_row9_col4, #T_f89f5_row10_col1, #T_f89f5_row10_col3, #T_f89f5_row10_col4, #T_f89f5_row10_col5, #T_f89f5_row11_col1, #T_f89f5_row11_col4, #T_f89f5_row12_col2, #T_f89f5_row12_col3, #T_f89f5_row12_col4, #T_f89f5_row12_col5, #T_f89f5_row13_col2, #T_f89f5_row13_col4, #T_f89f5_row13_col5, #T_f89f5_row14_col3, #T_f89f5_row14_col4, #T_f89f5_row14_col5, #T_f89f5_row15_col4, #T_f89f5_row15_col5 {\n",
              "  text-align: center;\n",
              "  font-size: 115%;\n",
              "  color: green;\n",
              "}\n",
              "#T_f89f5_row1_col3, #T_f89f5_row2_col2, #T_f89f5_row4_col1, #T_f89f5_row5_col1, #T_f89f5_row5_col3, #T_f89f5_row6_col1, #T_f89f5_row6_col2, #T_f89f5_row8_col0, #T_f89f5_row9_col0, #T_f89f5_row9_col3, #T_f89f5_row9_col5, #T_f89f5_row10_col0, #T_f89f5_row10_col2, #T_f89f5_row11_col0, #T_f89f5_row11_col2, #T_f89f5_row11_col3, #T_f89f5_row11_col5, #T_f89f5_row12_col0, #T_f89f5_row12_col1, #T_f89f5_row13_col0, #T_f89f5_row13_col1, #T_f89f5_row13_col3, #T_f89f5_row14_col0, #T_f89f5_row14_col1, #T_f89f5_row14_col2, #T_f89f5_row15_col0, #T_f89f5_row15_col1, #T_f89f5_row15_col2, #T_f89f5_row15_col3 {\n",
              "  text-align: center;\n",
              "  font-size: 115%;\n",
              "  color: red;\n",
              "}\n",
              "#T_f89f5_row3_col0, #T_f89f5_row3_col1, #T_f89f5_row3_col5, #T_f89f5_row7_col0, #T_f89f5_row7_col5 {\n",
              "  text-align: center;\n",
              "  font-size: 115%;\n",
              "  background: lightyellow;\n",
              "  color: green;\n",
              "}\n",
              "#T_f89f5_row3_col2, #T_f89f5_row3_col3, #T_f89f5_row3_col4, #T_f89f5_row7_col1, #T_f89f5_row7_col2, #T_f89f5_row7_col3, #T_f89f5_row7_col4 {\n",
              "  text-align: center;\n",
              "  font-size: 115%;\n",
              "  background: lightyellow;\n",
              "  color: red;\n",
              "}\n",
              "</style>\n",
              "<table id=\"T_f89f5_\">\n",
              "  <thead>\n",
              "    <tr>\n",
              "      <th class=\"col_heading level0 col0\" >p</th>\n",
              "      <th class=\"col_heading level0 col1\" >q</th>\n",
              "      <th class=\"col_heading level0 col2\" >r</th>\n",
              "      <th class=\"col_heading level0 col3\" >s</th>\n",
              "      <th class=\"col_heading level0 col4\" >p => (r or s)</th>\n",
              "      <th class=\"col_heading level0 col5\" >(q and (~s)) => p</th>\n",
              "    </tr>\n",
              "  </thead>\n",
              "  <tbody>\n",
              "    <tr>\n",
              "      <td id=\"T_f89f5_row0_col0\" class=\"data row0 col0\" >True</td>\n",
              "      <td id=\"T_f89f5_row0_col1\" class=\"data row0 col1\" >True</td>\n",
              "      <td id=\"T_f89f5_row0_col2\" class=\"data row0 col2\" >True</td>\n",
              "      <td id=\"T_f89f5_row0_col3\" class=\"data row0 col3\" >True</td>\n",
              "      <td id=\"T_f89f5_row0_col4\" class=\"data row0 col4\" >True</td>\n",
              "      <td id=\"T_f89f5_row0_col5\" class=\"data row0 col5\" >True</td>\n",
              "    </tr>\n",
              "    <tr>\n",
              "      <td id=\"T_f89f5_row1_col0\" class=\"data row1 col0\" >True</td>\n",
              "      <td id=\"T_f89f5_row1_col1\" class=\"data row1 col1\" >True</td>\n",
              "      <td id=\"T_f89f5_row1_col2\" class=\"data row1 col2\" >True</td>\n",
              "      <td id=\"T_f89f5_row1_col3\" class=\"data row1 col3\" >False</td>\n",
              "      <td id=\"T_f89f5_row1_col4\" class=\"data row1 col4\" >True</td>\n",
              "      <td id=\"T_f89f5_row1_col5\" class=\"data row1 col5\" >True</td>\n",
              "    </tr>\n",
              "    <tr>\n",
              "      <td id=\"T_f89f5_row2_col0\" class=\"data row2 col0\" >True</td>\n",
              "      <td id=\"T_f89f5_row2_col1\" class=\"data row2 col1\" >True</td>\n",
              "      <td id=\"T_f89f5_row2_col2\" class=\"data row2 col2\" >False</td>\n",
              "      <td id=\"T_f89f5_row2_col3\" class=\"data row2 col3\" >True</td>\n",
              "      <td id=\"T_f89f5_row2_col4\" class=\"data row2 col4\" >True</td>\n",
              "      <td id=\"T_f89f5_row2_col5\" class=\"data row2 col5\" >True</td>\n",
              "    </tr>\n",
              "    <tr>\n",
              "      <td id=\"T_f89f5_row3_col0\" class=\"data row3 col0\" >True</td>\n",
              "      <td id=\"T_f89f5_row3_col1\" class=\"data row3 col1\" >True</td>\n",
              "      <td id=\"T_f89f5_row3_col2\" class=\"data row3 col2\" >False</td>\n",
              "      <td id=\"T_f89f5_row3_col3\" class=\"data row3 col3\" >False</td>\n",
              "      <td id=\"T_f89f5_row3_col4\" class=\"data row3 col4\" >False</td>\n",
              "      <td id=\"T_f89f5_row3_col5\" class=\"data row3 col5\" >True</td>\n",
              "    </tr>\n",
              "    <tr>\n",
              "      <td id=\"T_f89f5_row4_col0\" class=\"data row4 col0\" >True</td>\n",
              "      <td id=\"T_f89f5_row4_col1\" class=\"data row4 col1\" >False</td>\n",
              "      <td id=\"T_f89f5_row4_col2\" class=\"data row4 col2\" >True</td>\n",
              "      <td id=\"T_f89f5_row4_col3\" class=\"data row4 col3\" >True</td>\n",
              "      <td id=\"T_f89f5_row4_col4\" class=\"data row4 col4\" >True</td>\n",
              "      <td id=\"T_f89f5_row4_col5\" class=\"data row4 col5\" >True</td>\n",
              "    </tr>\n",
              "    <tr>\n",
              "      <td id=\"T_f89f5_row5_col0\" class=\"data row5 col0\" >True</td>\n",
              "      <td id=\"T_f89f5_row5_col1\" class=\"data row5 col1\" >False</td>\n",
              "      <td id=\"T_f89f5_row5_col2\" class=\"data row5 col2\" >True</td>\n",
              "      <td id=\"T_f89f5_row5_col3\" class=\"data row5 col3\" >False</td>\n",
              "      <td id=\"T_f89f5_row5_col4\" class=\"data row5 col4\" >True</td>\n",
              "      <td id=\"T_f89f5_row5_col5\" class=\"data row5 col5\" >True</td>\n",
              "    </tr>\n",
              "    <tr>\n",
              "      <td id=\"T_f89f5_row6_col0\" class=\"data row6 col0\" >True</td>\n",
              "      <td id=\"T_f89f5_row6_col1\" class=\"data row6 col1\" >False</td>\n",
              "      <td id=\"T_f89f5_row6_col2\" class=\"data row6 col2\" >False</td>\n",
              "      <td id=\"T_f89f5_row6_col3\" class=\"data row6 col3\" >True</td>\n",
              "      <td id=\"T_f89f5_row6_col4\" class=\"data row6 col4\" >True</td>\n",
              "      <td id=\"T_f89f5_row6_col5\" class=\"data row6 col5\" >True</td>\n",
              "    </tr>\n",
              "    <tr>\n",
              "      <td id=\"T_f89f5_row7_col0\" class=\"data row7 col0\" >True</td>\n",
              "      <td id=\"T_f89f5_row7_col1\" class=\"data row7 col1\" >False</td>\n",
              "      <td id=\"T_f89f5_row7_col2\" class=\"data row7 col2\" >False</td>\n",
              "      <td id=\"T_f89f5_row7_col3\" class=\"data row7 col3\" >False</td>\n",
              "      <td id=\"T_f89f5_row7_col4\" class=\"data row7 col4\" >False</td>\n",
              "      <td id=\"T_f89f5_row7_col5\" class=\"data row7 col5\" >True</td>\n",
              "    </tr>\n",
              "    <tr>\n",
              "      <td id=\"T_f89f5_row8_col0\" class=\"data row8 col0\" >False</td>\n",
              "      <td id=\"T_f89f5_row8_col1\" class=\"data row8 col1\" >True</td>\n",
              "      <td id=\"T_f89f5_row8_col2\" class=\"data row8 col2\" >True</td>\n",
              "      <td id=\"T_f89f5_row8_col3\" class=\"data row8 col3\" >True</td>\n",
              "      <td id=\"T_f89f5_row8_col4\" class=\"data row8 col4\" >True</td>\n",
              "      <td id=\"T_f89f5_row8_col5\" class=\"data row8 col5\" >True</td>\n",
              "    </tr>\n",
              "    <tr>\n",
              "      <td id=\"T_f89f5_row9_col0\" class=\"data row9 col0\" >False</td>\n",
              "      <td id=\"T_f89f5_row9_col1\" class=\"data row9 col1\" >True</td>\n",
              "      <td id=\"T_f89f5_row9_col2\" class=\"data row9 col2\" >True</td>\n",
              "      <td id=\"T_f89f5_row9_col3\" class=\"data row9 col3\" >False</td>\n",
              "      <td id=\"T_f89f5_row9_col4\" class=\"data row9 col4\" >True</td>\n",
              "      <td id=\"T_f89f5_row9_col5\" class=\"data row9 col5\" >False</td>\n",
              "    </tr>\n",
              "    <tr>\n",
              "      <td id=\"T_f89f5_row10_col0\" class=\"data row10 col0\" >False</td>\n",
              "      <td id=\"T_f89f5_row10_col1\" class=\"data row10 col1\" >True</td>\n",
              "      <td id=\"T_f89f5_row10_col2\" class=\"data row10 col2\" >False</td>\n",
              "      <td id=\"T_f89f5_row10_col3\" class=\"data row10 col3\" >True</td>\n",
              "      <td id=\"T_f89f5_row10_col4\" class=\"data row10 col4\" >True</td>\n",
              "      <td id=\"T_f89f5_row10_col5\" class=\"data row10 col5\" >True</td>\n",
              "    </tr>\n",
              "    <tr>\n",
              "      <td id=\"T_f89f5_row11_col0\" class=\"data row11 col0\" >False</td>\n",
              "      <td id=\"T_f89f5_row11_col1\" class=\"data row11 col1\" >True</td>\n",
              "      <td id=\"T_f89f5_row11_col2\" class=\"data row11 col2\" >False</td>\n",
              "      <td id=\"T_f89f5_row11_col3\" class=\"data row11 col3\" >False</td>\n",
              "      <td id=\"T_f89f5_row11_col4\" class=\"data row11 col4\" >True</td>\n",
              "      <td id=\"T_f89f5_row11_col5\" class=\"data row11 col5\" >False</td>\n",
              "    </tr>\n",
              "    <tr>\n",
              "      <td id=\"T_f89f5_row12_col0\" class=\"data row12 col0\" >False</td>\n",
              "      <td id=\"T_f89f5_row12_col1\" class=\"data row12 col1\" >False</td>\n",
              "      <td id=\"T_f89f5_row12_col2\" class=\"data row12 col2\" >True</td>\n",
              "      <td id=\"T_f89f5_row12_col3\" class=\"data row12 col3\" >True</td>\n",
              "      <td id=\"T_f89f5_row12_col4\" class=\"data row12 col4\" >True</td>\n",
              "      <td id=\"T_f89f5_row12_col5\" class=\"data row12 col5\" >True</td>\n",
              "    </tr>\n",
              "    <tr>\n",
              "      <td id=\"T_f89f5_row13_col0\" class=\"data row13 col0\" >False</td>\n",
              "      <td id=\"T_f89f5_row13_col1\" class=\"data row13 col1\" >False</td>\n",
              "      <td id=\"T_f89f5_row13_col2\" class=\"data row13 col2\" >True</td>\n",
              "      <td id=\"T_f89f5_row13_col3\" class=\"data row13 col3\" >False</td>\n",
              "      <td id=\"T_f89f5_row13_col4\" class=\"data row13 col4\" >True</td>\n",
              "      <td id=\"T_f89f5_row13_col5\" class=\"data row13 col5\" >True</td>\n",
              "    </tr>\n",
              "    <tr>\n",
              "      <td id=\"T_f89f5_row14_col0\" class=\"data row14 col0\" >False</td>\n",
              "      <td id=\"T_f89f5_row14_col1\" class=\"data row14 col1\" >False</td>\n",
              "      <td id=\"T_f89f5_row14_col2\" class=\"data row14 col2\" >False</td>\n",
              "      <td id=\"T_f89f5_row14_col3\" class=\"data row14 col3\" >True</td>\n",
              "      <td id=\"T_f89f5_row14_col4\" class=\"data row14 col4\" >True</td>\n",
              "      <td id=\"T_f89f5_row14_col5\" class=\"data row14 col5\" >True</td>\n",
              "    </tr>\n",
              "    <tr>\n",
              "      <td id=\"T_f89f5_row15_col0\" class=\"data row15 col0\" >False</td>\n",
              "      <td id=\"T_f89f5_row15_col1\" class=\"data row15 col1\" >False</td>\n",
              "      <td id=\"T_f89f5_row15_col2\" class=\"data row15 col2\" >False</td>\n",
              "      <td id=\"T_f89f5_row15_col3\" class=\"data row15 col3\" >False</td>\n",
              "      <td id=\"T_f89f5_row15_col4\" class=\"data row15 col4\" >True</td>\n",
              "      <td id=\"T_f89f5_row15_col5\" class=\"data row15 col5\" >True</td>\n",
              "    </tr>\n",
              "  </tbody>\n",
              "</table>\n"
            ],
            "text/plain": [
              "<pandas.io.formats.style.Styler at 0x7f021d7c0040>"
            ]
          },
          "execution_count": 41,
          "metadata": {},
          "output_type": "execute_result"
        }
      ],
      "source": [
        "exercicio12 = Truths(['p', 'q', 'r', 's'], \n",
        "                     ['p => (r or s)', '(q and (~s)) => p'],\n",
        "                     ints=False)\n",
        "\n",
        "df_style(exercicio12, hl_rows=[4, 8])"
      ]
    },
    {
      "cell_type": "markdown",
      "metadata": {
        "id": "tK3qi2IHUidO"
      },
      "source": [
        "Conforme as linhas destacadas na tabela acima, temos:\n",
        "\n",
        "| Proposição | Valor lógico |\n",
        "| ------     | -------      |\n",
        "| $p$        | V            |\n",
        "| $q$        | V ou F       |\n",
        "| $r$        | F            |\n",
        "| $s$        | F            |\n"
      ]
    },
    {
      "cell_type": "markdown",
      "metadata": {
        "id": "bYp1h9f6UidO"
      },
      "source": [
        "**Exercício 13**: Sabendo que as proposições $p$ e $q$ são verdadeiras e que a proposição $r$ é falsa, determine o valor lógico da seguinte proposição: $(\\neg p \\downarrow q) \\land (q \\uparrow \\neg r)$"
      ]
    },
    {
      "cell_type": "code",
      "execution_count": null,
      "metadata": {
        "ExecuteTime": {
          "end_time": "2019-10-22T13:22:31.285926Z",
          "start_time": "2019-10-22T13:22:30.986434Z"
        },
        "id": "zH3ikaBFUidO",
        "outputId": "6277eb04-2f74-4276-dd2e-275507a123a4"
      },
      "outputs": [
        {
          "data": {
            "text/html": [
              "<style type=\"text/css\">\n",
              "#T_35a1f_ th {\n",
              "  font-size: 10pt;\n",
              "}\n",
              "#T_35a1f_row0_col0, #T_35a1f_row0_col1, #T_35a1f_row0_col2, #T_35a1f_row2_col0, #T_35a1f_row2_col2, #T_35a1f_row2_col3, #T_35a1f_row3_col0, #T_35a1f_row3_col3, #T_35a1f_row4_col1, #T_35a1f_row4_col2, #T_35a1f_row5_col1, #T_35a1f_row6_col2 {\n",
              "  text-align: center;\n",
              "  font-size: 115%;\n",
              "  color: green;\n",
              "}\n",
              "#T_35a1f_row0_col3, #T_35a1f_row2_col1, #T_35a1f_row3_col1, #T_35a1f_row3_col2, #T_35a1f_row4_col0, #T_35a1f_row4_col3, #T_35a1f_row5_col0, #T_35a1f_row5_col2, #T_35a1f_row5_col3, #T_35a1f_row6_col0, #T_35a1f_row6_col1, #T_35a1f_row6_col3, #T_35a1f_row7_col0, #T_35a1f_row7_col1, #T_35a1f_row7_col2, #T_35a1f_row7_col3 {\n",
              "  text-align: center;\n",
              "  font-size: 115%;\n",
              "  color: red;\n",
              "}\n",
              "#T_35a1f_row1_col0, #T_35a1f_row1_col1 {\n",
              "  text-align: center;\n",
              "  font-size: 115%;\n",
              "  background: lightyellow;\n",
              "  color: green;\n",
              "}\n",
              "#T_35a1f_row1_col2, #T_35a1f_row1_col3 {\n",
              "  text-align: center;\n",
              "  font-size: 115%;\n",
              "  background: lightyellow;\n",
              "  color: red;\n",
              "}\n",
              "</style>\n",
              "<table id=\"T_35a1f_\">\n",
              "  <thead>\n",
              "    <tr>\n",
              "      <th class=\"col_heading level0 col0\" >p</th>\n",
              "      <th class=\"col_heading level0 col1\" >q</th>\n",
              "      <th class=\"col_heading level0 col2\" >r</th>\n",
              "      <th class=\"col_heading level0 col3\" >((~p) nor q) and (q nand (~r))</th>\n",
              "    </tr>\n",
              "  </thead>\n",
              "  <tbody>\n",
              "    <tr>\n",
              "      <td id=\"T_35a1f_row0_col0\" class=\"data row0 col0\" >True</td>\n",
              "      <td id=\"T_35a1f_row0_col1\" class=\"data row0 col1\" >True</td>\n",
              "      <td id=\"T_35a1f_row0_col2\" class=\"data row0 col2\" >True</td>\n",
              "      <td id=\"T_35a1f_row0_col3\" class=\"data row0 col3\" >False</td>\n",
              "    </tr>\n",
              "    <tr>\n",
              "      <td id=\"T_35a1f_row1_col0\" class=\"data row1 col0\" >True</td>\n",
              "      <td id=\"T_35a1f_row1_col1\" class=\"data row1 col1\" >True</td>\n",
              "      <td id=\"T_35a1f_row1_col2\" class=\"data row1 col2\" >False</td>\n",
              "      <td id=\"T_35a1f_row1_col3\" class=\"data row1 col3\" >False</td>\n",
              "    </tr>\n",
              "    <tr>\n",
              "      <td id=\"T_35a1f_row2_col0\" class=\"data row2 col0\" >True</td>\n",
              "      <td id=\"T_35a1f_row2_col1\" class=\"data row2 col1\" >False</td>\n",
              "      <td id=\"T_35a1f_row2_col2\" class=\"data row2 col2\" >True</td>\n",
              "      <td id=\"T_35a1f_row2_col3\" class=\"data row2 col3\" >True</td>\n",
              "    </tr>\n",
              "    <tr>\n",
              "      <td id=\"T_35a1f_row3_col0\" class=\"data row3 col0\" >True</td>\n",
              "      <td id=\"T_35a1f_row3_col1\" class=\"data row3 col1\" >False</td>\n",
              "      <td id=\"T_35a1f_row3_col2\" class=\"data row3 col2\" >False</td>\n",
              "      <td id=\"T_35a1f_row3_col3\" class=\"data row3 col3\" >True</td>\n",
              "    </tr>\n",
              "    <tr>\n",
              "      <td id=\"T_35a1f_row4_col0\" class=\"data row4 col0\" >False</td>\n",
              "      <td id=\"T_35a1f_row4_col1\" class=\"data row4 col1\" >True</td>\n",
              "      <td id=\"T_35a1f_row4_col2\" class=\"data row4 col2\" >True</td>\n",
              "      <td id=\"T_35a1f_row4_col3\" class=\"data row4 col3\" >False</td>\n",
              "    </tr>\n",
              "    <tr>\n",
              "      <td id=\"T_35a1f_row5_col0\" class=\"data row5 col0\" >False</td>\n",
              "      <td id=\"T_35a1f_row5_col1\" class=\"data row5 col1\" >True</td>\n",
              "      <td id=\"T_35a1f_row5_col2\" class=\"data row5 col2\" >False</td>\n",
              "      <td id=\"T_35a1f_row5_col3\" class=\"data row5 col3\" >False</td>\n",
              "    </tr>\n",
              "    <tr>\n",
              "      <td id=\"T_35a1f_row6_col0\" class=\"data row6 col0\" >False</td>\n",
              "      <td id=\"T_35a1f_row6_col1\" class=\"data row6 col1\" >False</td>\n",
              "      <td id=\"T_35a1f_row6_col2\" class=\"data row6 col2\" >True</td>\n",
              "      <td id=\"T_35a1f_row6_col3\" class=\"data row6 col3\" >False</td>\n",
              "    </tr>\n",
              "    <tr>\n",
              "      <td id=\"T_35a1f_row7_col0\" class=\"data row7 col0\" >False</td>\n",
              "      <td id=\"T_35a1f_row7_col1\" class=\"data row7 col1\" >False</td>\n",
              "      <td id=\"T_35a1f_row7_col2\" class=\"data row7 col2\" >False</td>\n",
              "      <td id=\"T_35a1f_row7_col3\" class=\"data row7 col3\" >False</td>\n",
              "    </tr>\n",
              "  </tbody>\n",
              "</table>\n"
            ],
            "text/plain": [
              "<pandas.io.formats.style.Styler at 0x7f021d7dc430>"
            ]
          },
          "execution_count": 42,
          "metadata": {},
          "output_type": "execute_result"
        }
      ],
      "source": [
        "exercicio13 = Truths(['p', 'q', 'r'], ['((~p) nor q) and (q nand (~r))'], ints=False)\n",
        "\n",
        "df_style(exercicio13, hl_rows=[2])\n",
        "\n",
        "# Falso, conforme linha destacada."
      ]
    }
  ],
  "metadata": {
    "hide_input": false,
    "kernelspec": {
      "display_name": "ttg",
      "language": "python",
      "name": "ttg"
    },
    "language_info": {
      "codemirror_mode": {
        "name": "ipython",
        "version": 3
      },
      "file_extension": ".py",
      "mimetype": "text/x-python",
      "name": "python",
      "nbconvert_exporter": "python",
      "pygments_lexer": "ipython3",
      "version": "3.8.10"
    },
    "toc": {
      "base_numbering": 1,
      "nav_menu": {},
      "number_sections": false,
      "sideBar": true,
      "skip_h1_title": false,
      "title_cell": "Table of Contents",
      "title_sidebar": "Contents",
      "toc_cell": false,
      "toc_position": {},
      "toc_section_display": true,
      "toc_window_display": true
    },
    "varInspector": {
      "cols": {
        "lenName": 16,
        "lenType": 16,
        "lenVar": 40
      },
      "kernels_config": {
        "python": {
          "delete_cmd_postfix": "",
          "delete_cmd_prefix": "del ",
          "library": "var_list.py",
          "varRefreshCmd": "print(var_dic_list())"
        },
        "r": {
          "delete_cmd_postfix": ") ",
          "delete_cmd_prefix": "rm(",
          "library": "var_list.r",
          "varRefreshCmd": "cat(var_dic_list()) "
        }
      },
      "types_to_exclude": [
        "module",
        "function",
        "builtin_function_or_method",
        "instance",
        "_Feature"
      ],
      "window_display": false
    },
    "colab": {
      "name": "introducao_logica_com_ttg_gabarito.ipynb",
      "provenance": [],
      "include_colab_link": true
    }
  },
  "nbformat": 4,
  "nbformat_minor": 0
}