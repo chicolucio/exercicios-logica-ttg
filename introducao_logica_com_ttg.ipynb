{
 "cells": [
  {
   "cell_type": "markdown",
   "metadata": {},
   "source": [
    "# Noções de lógica com o *ttg - truth-table-generator*\n",
    "\n",
    "\n",
    "Versão 1.0.0 - data 22/10/2019\n",
    "\n",
    "## Introdução\n",
    "\n",
    "Este notebook tem por objetivo ser um material resumido de introdução ao estudo de lógica com auxílio do projeto [*ttg - truth-table-generator*](https://github.com/chicolucio/truth-table-generator). Correções e sugestões são bem vindas. Aqueles que desejarem um estudo mais aprofundado, podem procurar o livro Filho, E. A. *Iniciação à lógica matemática*, Editora Nobel, 2002.\n",
    "\n",
    "A lógica matemática (ou lógica simbólica), trata do estudo das sentenças declarativas também conhecidas como *proposições*, as quais devem satisfazer aos dois princípios fundamentais seguintes:\n",
    "\n",
    "- **Princípio do terceiro excluído**: uma proposição só pode ser *verdadeira* ou *falsa*, não havendo outra alternativa.\n",
    "- **Princípio da não contradição**: uma proposição não pode ser ao mesmo tempo *verdadeira* e *falsa*. Diz-se então que uma proposição verdadeira possui *valor lógico* V (verdade) e uma proposição falsa possui *valor lógico* F (falso). Os valores lógicos também costumam ser representados por 0 (zero) para proposições falsas e 1 (um) para proposições verdadeiras. Em inglês, *True* (T) ou *False* (F).\n",
    "\n",
    "\n",
    "## Alguns símbolos utilizados na lógica matemática\n",
    "\n",
    "| Símbolo                   | Significado          |\n",
    "| -------                   | ---------            |\n",
    "| ~ ou $\\neg$               | negação              |\n",
    "| $\\land$                   | conjunção            |\n",
    "| $\\lor$                    | disjunção            |\n",
    "| $\\rightarrow$             | condicional          |\n",
    "| $\\leftrightarrow$         | bicondicional        |\n",
    "| $|$                       | tal que              |\n",
    "| NOR ou $\\downarrow$       | NOR                  |\n",
    "| XOR ou $\\underline{\\vee}$ | disjunção exclusiva  |\n",
    "| NAND ou $\\uparrow$        | NAND                 |\n",
    "\n",
    "\n",
    "\n",
    "## Versões dos símbolos no *ttg*\n",
    "\n",
    "Para usar o *package* *ttg* os seguintes termos são utilizados como símbolos. Estão entre aspas simples para deixar explícito que o programa os recebe como *strings*. São apresentados os nomes em português e em ingês.\n",
    "\n",
    "| Português           | Inglês                    | Termo                |\n",
    "| --------            | ------                    |  -----               |\n",
    "| negação             | *negation*                | `'not'`, `'-'`, `'~'`|\n",
    "| disjunção           | *logical disjunction*     | `'or'`               |\n",
    "| nor                 | *logical nor*             | `'nor'`              |\n",
    "| disjunção exclusiva | *exclusive disjunction*   | `'xor'`, `'!='`      |\n",
    "| conjunção           | *logical conjunction*     |  `'and'`             |\n",
    "| nand                | *logical NAND*            | `'nand'`             |\n",
    "| condicional         | *material implication*    | `'=>'`, `'implies'`  |\n",
    "| bicondicional       | *logical biconditional*   | `'='`                |\n",
    "\n",
    "\n"
   ]
  },
  {
   "cell_type": "markdown",
   "metadata": {},
   "source": [
    "Vamos aproveitar e importar logo o pacote *ttg*. Execute a célula abaixo."
   ]
  },
  {
   "cell_type": "code",
   "execution_count": 1,
   "metadata": {
    "ExecuteTime": {
     "end_time": "2019-10-22T13:19:39.712811Z",
     "start_time": "2019-10-22T13:19:39.425149Z"
    }
   },
   "outputs": [],
   "source": [
    "import ttg"
   ]
  },
  {
   "cell_type": "markdown",
   "metadata": {},
   "source": [
    "É importante ler a [documentação do pacote](https://github.com/chicolucio/truth-table-generator) para entender a utilização do mesmo."
   ]
  },
  {
   "cell_type": "markdown",
   "metadata": {},
   "source": [
    "## Tabelas verdades\n",
    "\n",
    "Se uma proposição composta é formada por $n$ proposições simples, a sua tabela verdade possuirá $2^n$ linhas. Na primeira coluna, supondo que esta possui *x* linhas, coloque nas $\\frac{x}{2}$ primeiras linhas V (ou qualquer referência ao valor de verdadeiro) e nas demais F (ou qualquer referência ao valor de falso). Na segunda coluna, coloque nas $\\frac{x}{4}$ primeiras linhas V nas próximas $\\frac{x}{4}$, F e alterne assim até  o fim das linhas. A linha de raciocínio prossegue para as próximas colunas.\n",
    "\n",
    "Veja por exemplo uma tabela com 4 proposições simples, sendo construída com o pacote *ttg*:"
   ]
  },
  {
   "cell_type": "code",
   "execution_count": 2,
   "metadata": {
    "ExecuteTime": {
     "end_time": "2019-10-22T13:19:40.084468Z",
     "start_time": "2019-10-22T13:19:39.713964Z"
    }
   },
   "outputs": [
    {
     "name": "stdout",
     "output_type": "stream",
     "text": [
      "+-----+-----+-----+-----+\n",
      "|  p  |  q  |  r  |  s  |\n",
      "|-----+-----+-----+-----|\n",
      "|  1  |  1  |  1  |  1  |\n",
      "|  1  |  1  |  1  |  0  |\n",
      "|  1  |  1  |  0  |  1  |\n",
      "|  1  |  1  |  0  |  0  |\n",
      "|  1  |  0  |  1  |  1  |\n",
      "|  1  |  0  |  1  |  0  |\n",
      "|  1  |  0  |  0  |  1  |\n",
      "|  1  |  0  |  0  |  0  |\n",
      "|  0  |  1  |  1  |  1  |\n",
      "|  0  |  1  |  1  |  0  |\n",
      "|  0  |  1  |  0  |  1  |\n",
      "|  0  |  1  |  0  |  0  |\n",
      "|  0  |  0  |  1  |  1  |\n",
      "|  0  |  0  |  1  |  0  |\n",
      "|  0  |  0  |  0  |  1  |\n",
      "|  0  |  0  |  0  |  0  |\n",
      "+-----+-----+-----+-----+\n"
     ]
    }
   ],
   "source": [
    "print(ttg.Truths(['p', 'q', 'r', 's']))"
   ]
  },
  {
   "cell_type": "markdown",
   "metadata": {},
   "source": [
    "Repare que o padrão do *ttg* é colocar `1` como símbolo para verdadeiro e `0` para falso. Passando um parâmetro denominado *ints* (significando números inteiros - 0 e 1) como *False* a tabela passa a apresentar as palavras em inglês *True* e *False*:"
   ]
  },
  {
   "cell_type": "code",
   "execution_count": 3,
   "metadata": {
    "ExecuteTime": {
     "end_time": "2019-10-22T13:19:40.698995Z",
     "start_time": "2019-10-22T13:19:40.085747Z"
    }
   },
   "outputs": [
    {
     "name": "stdout",
     "output_type": "stream",
     "text": [
      "+-------+-------+-------+-------+\n",
      "|   p   |   q   |   r   |   s   |\n",
      "|-------+-------+-------+-------|\n",
      "| True  | True  | True  | True  |\n",
      "| True  | True  | True  | False |\n",
      "| True  | True  | False | True  |\n",
      "| True  | True  | False | False |\n",
      "| True  | False | True  | True  |\n",
      "| True  | False | True  | False |\n",
      "| True  | False | False | True  |\n",
      "| True  | False | False | False |\n",
      "| False | True  | True  | True  |\n",
      "| False | True  | True  | False |\n",
      "| False | True  | False | True  |\n",
      "| False | True  | False | False |\n",
      "| False | False | True  | True  |\n",
      "| False | False | True  | False |\n",
      "| False | False | False | True  |\n",
      "| False | False | False | False |\n",
      "+-------+-------+-------+-------+\n"
     ]
    }
   ],
   "source": [
    "print(ttg.Truths(['p', 'q', 'r', 's'], ints=False))"
   ]
  },
  {
   "cell_type": "markdown",
   "metadata": {},
   "source": [
    "Essa última forma de representação será a adotada no restante do notebook."
   ]
  },
  {
   "cell_type": "markdown",
   "metadata": {},
   "source": [
    "## Operações lógicas"
   ]
  },
  {
   "cell_type": "markdown",
   "metadata": {},
   "source": [
    "Vamos verificar a tabela verdade para cada operador binário presente no *ttg*."
   ]
  },
  {
   "cell_type": "code",
   "execution_count": 4,
   "metadata": {
    "ExecuteTime": {
     "end_time": "2019-10-22T13:19:41.231554Z",
     "start_time": "2019-10-22T13:19:40.700197Z"
    }
   },
   "outputs": [
    {
     "name": "stdout",
     "output_type": "stream",
     "text": [
      "+-------+-------+-----------+----------+----------+---------+-----------+------------+-----------+\n",
      "|   p   |   q   |  p and q  |  p or q  |  p => q  |  p = q  |  p xor q  |  p nand q  |  p nor q  |\n",
      "|-------+-------+-----------+----------+----------+---------+-----------+------------+-----------|\n",
      "| True  | True  |   True    |   True   |   True   |  True   |   False   |   False    |   False   |\n",
      "| True  | False |   False   |   True   |  False   |  False  |   True    |    True    |   False   |\n",
      "| False | True  |   False   |   True   |   True   |  False  |   True    |    True    |   False   |\n",
      "| False | False |   False   |  False   |   True   |  True   |   False   |    True    |   True    |\n",
      "+-------+-------+-----------+----------+----------+---------+-----------+------------+-----------+\n"
     ]
    }
   ],
   "source": [
    "print(\n",
    "    ttg.Truths(['p', 'q'], [\n",
    "        'p and q', 'p or q', 'p => q', 'p = q', 'p xor q', 'p nand q',\n",
    "        'p nor q'\n",
    "    ],\n",
    "               ints=False))"
   ]
  },
  {
   "cell_type": "markdown",
   "metadata": {},
   "source": [
    "Como vimos anteriormente, alguns operadores possuem mais de uma forma para o *ttg*. Por exemplo o de negação:"
   ]
  },
  {
   "cell_type": "code",
   "execution_count": 5,
   "metadata": {
    "ExecuteTime": {
     "end_time": "2019-10-22T13:19:41.678969Z",
     "start_time": "2019-10-22T13:19:41.232853Z"
    }
   },
   "outputs": [
    {
     "name": "stdout",
     "output_type": "stream",
     "text": [
      "+-------+-------+--------------+--------------+-----------------+\n",
      "|   p   |   q   |  p and (~q)  |  p and (-q)  |  p and (not q)  |\n",
      "|-------+-------+--------------+--------------+-----------------|\n",
      "| True  | True  |    False     |    False     |      False      |\n",
      "| True  | False |     True     |     True     |      True       |\n",
      "| False | True  |    False     |    False     |      False      |\n",
      "| False | False |    False     |    False     |      False      |\n",
      "+-------+-------+--------------+--------------+-----------------+\n"
     ]
    }
   ],
   "source": [
    "print(ttg.Truths(['p', 'q'], ['p and (~q)', 'p and (-q)', 'p and (not q)'], ints=False))"
   ]
  },
  {
   "cell_type": "markdown",
   "metadata": {},
   "source": [
    "Neste material, o símbolo de negação nas células de código será padronizado como `'~'`."
   ]
  },
  {
   "cell_type": "markdown",
   "metadata": {
    "ExecuteTime": {
     "end_time": "2019-10-22T13:04:58.197618Z",
     "start_time": "2019-10-22T13:04:58.189678Z"
    }
   },
   "source": [
    "O de disjunção exclusiva:"
   ]
  },
  {
   "cell_type": "code",
   "execution_count": 6,
   "metadata": {
    "ExecuteTime": {
     "end_time": "2019-10-22T13:19:41.974290Z",
     "start_time": "2019-10-22T13:19:41.680083Z"
    }
   },
   "outputs": [
    {
     "name": "stdout",
     "output_type": "stream",
     "text": [
      "+-------+-------+-----------+----------+\n",
      "|   p   |   q   |  p xor q  |  p != q  |\n",
      "|-------+-------+-----------+----------|\n",
      "| True  | True  |   False   |  False   |\n",
      "| True  | False |   True    |   True   |\n",
      "| False | True  |   True    |   True   |\n",
      "| False | False |   False   |  False   |\n",
      "+-------+-------+-----------+----------+\n"
     ]
    }
   ],
   "source": [
    "print(ttg.Truths(['p', 'q'], ['p xor q', 'p != q'], ints=False))"
   ]
  },
  {
   "cell_type": "markdown",
   "metadata": {},
   "source": [
    "Neste material, o símbolo de disjunção exclusiva nas células de código será padronizado como `'xor'`."
   ]
  },
  {
   "cell_type": "markdown",
   "metadata": {},
   "source": [
    "E o condicional:"
   ]
  },
  {
   "cell_type": "code",
   "execution_count": 7,
   "metadata": {
    "ExecuteTime": {
     "end_time": "2019-10-22T13:19:42.394302Z",
     "start_time": "2019-10-22T13:19:41.975317Z"
    }
   },
   "outputs": [
    {
     "name": "stdout",
     "output_type": "stream",
     "text": [
      "+-------+-------+----------+---------------+\n",
      "|   p   |   q   |  p => q  |  p implies q  |\n",
      "|-------+-------+----------+---------------|\n",
      "| True  | True  |   True   |     True      |\n",
      "| True  | False |  False   |     False     |\n",
      "| False | True  |   True   |     True      |\n",
      "| False | False |   True   |     True      |\n",
      "+-------+-------+----------+---------------+\n"
     ]
    }
   ],
   "source": [
    "print(ttg.Truths(['p', 'q'], ['p => q', 'p implies q'], ints=False))"
   ]
  },
  {
   "cell_type": "markdown",
   "metadata": {},
   "source": [
    "Neste material, o símbolo de condicional nas células de código será padronizado como `'=>'`."
   ]
  },
  {
   "cell_type": "markdown",
   "metadata": {},
   "source": [
    "O *ttg* permite apresentar as tabelas de forma mais agradável visualmente nos Jupyter Notebooks utilizando *pandas*. Execute a célula abaixo onde são declaradas duas funções para aplicar cores nas tabelas verdade. Você pode alterar as funções caso queira cores diferentes ou outros efeitos não implementados. Fica o convite para fazer alterações e as compartilhar."
   ]
  },
  {
   "cell_type": "code",
   "execution_count": 8,
   "metadata": {
    "ExecuteTime": {
     "end_time": "2019-10-22T13:19:42.666902Z",
     "start_time": "2019-10-22T13:19:42.396572Z"
    }
   },
   "outputs": [],
   "source": [
    "def color_false_red(val):\n",
    "    \"\"\"Color red False (0) and green True (1) values\"\"\"\n",
    "    color = 'red' if (val == False) else 'green'\n",
    "    return 'color: %s' % color\n",
    "\n",
    "\n",
    "def df_style(logic, hl_rows=[], hl_cols=[]):\n",
    "    \"\"\"Applies style to logical expression (logic) pandas truth table. \n",
    "    Text: center. Table: no index column. Highlight yellow rows and columns in \n",
    "    lists (hl_rows and hl_cols). At the end applies color_false_red function\"\"\"\n",
    "    d = logic.as_pandas().style.set_table_styles([{\n",
    "        'selector':\n",
    "        'th',\n",
    "        'props': [('font-size', '12pt')]\n",
    "    }]).set_properties(**{\n",
    "        'text-align': 'center',\n",
    "        'font-size': '115%'\n",
    "    }).apply(\n",
    "        lambda x:\n",
    "        ['background: lightyellow' if x.name in hl_rows else '' for i in x],\n",
    "        axis=1).apply(lambda x: [\n",
    "            'background: lightyellow' if x.name in hl_cols else '' for i in x\n",
    "        ],\n",
    "                      axis=0).hide_index()\n",
    "    d = d.applymap(color_false_red)\n",
    "    return d"
   ]
  },
  {
   "cell_type": "markdown",
   "metadata": {},
   "source": [
    "Vamos ver como utilizar essas funções e aproveitar para ter mais exemplos de uso do *ttg*. Considere que você quer construir uma tabela verdade para a proposição $(p \\land q) \\rightarrow (p \\lor q)$. Utilizando a forma já vista anteriormente, mas declarando uma variável para ficar mais fácil de reproduzir a tabela:"
   ]
  },
  {
   "cell_type": "code",
   "execution_count": 9,
   "metadata": {
    "ExecuteTime": {
     "end_time": "2019-10-22T13:19:43.002651Z",
     "start_time": "2019-10-22T13:19:42.670409Z"
    }
   },
   "outputs": [
    {
     "name": "stdout",
     "output_type": "stream",
     "text": [
      "+-------+-------+-------------------------+\n",
      "|   p   |   q   |  (p and q) => (p or q)  |\n",
      "|-------+-------+-------------------------|\n",
      "| True  | True  |          True           |\n",
      "| True  | False |          True           |\n",
      "| False | True  |          True           |\n",
      "| False | False |          True           |\n",
      "+-------+-------+-------------------------+\n"
     ]
    }
   ],
   "source": [
    "proposicao01 = ttg.Truths(['p', 'q'], ['(p and q) => (p or q)'], ints=False)\n",
    "\n",
    "print(proposicao01)"
   ]
  },
  {
   "cell_type": "markdown",
   "metadata": {},
   "source": [
    "Agora utilizando a visualização com uma tabela do tipo Pandas DataFrame:"
   ]
  },
  {
   "cell_type": "code",
   "execution_count": 10,
   "metadata": {
    "ExecuteTime": {
     "end_time": "2019-10-22T13:19:43.493789Z",
     "start_time": "2019-10-22T13:19:43.003887Z"
    }
   },
   "outputs": [
    {
     "data": {
      "text/html": [
       "<style  type=\"text/css\" >\n",
       "    #T_9c56f3ce_f4ce_11e9_bee2_0c96e6ec4f2f th {\n",
       "          font-size: 12pt;\n",
       "    }    #T_9c56f3ce_f4ce_11e9_bee2_0c96e6ec4f2frow0_col0 {\n",
       "            text-align:  center;\n",
       "            font-size:  115%;\n",
       "            : ;\n",
       "            : ;\n",
       "            color:  green;\n",
       "        }    #T_9c56f3ce_f4ce_11e9_bee2_0c96e6ec4f2frow0_col1 {\n",
       "            text-align:  center;\n",
       "            font-size:  115%;\n",
       "            : ;\n",
       "            : ;\n",
       "            color:  green;\n",
       "        }    #T_9c56f3ce_f4ce_11e9_bee2_0c96e6ec4f2frow0_col2 {\n",
       "            text-align:  center;\n",
       "            font-size:  115%;\n",
       "            : ;\n",
       "            : ;\n",
       "            color:  green;\n",
       "        }    #T_9c56f3ce_f4ce_11e9_bee2_0c96e6ec4f2frow1_col0 {\n",
       "            text-align:  center;\n",
       "            font-size:  115%;\n",
       "            : ;\n",
       "            : ;\n",
       "            color:  green;\n",
       "        }    #T_9c56f3ce_f4ce_11e9_bee2_0c96e6ec4f2frow1_col1 {\n",
       "            text-align:  center;\n",
       "            font-size:  115%;\n",
       "            : ;\n",
       "            : ;\n",
       "            color:  red;\n",
       "        }    #T_9c56f3ce_f4ce_11e9_bee2_0c96e6ec4f2frow1_col2 {\n",
       "            text-align:  center;\n",
       "            font-size:  115%;\n",
       "            : ;\n",
       "            : ;\n",
       "            color:  green;\n",
       "        }    #T_9c56f3ce_f4ce_11e9_bee2_0c96e6ec4f2frow2_col0 {\n",
       "            text-align:  center;\n",
       "            font-size:  115%;\n",
       "            : ;\n",
       "            : ;\n",
       "            color:  red;\n",
       "        }    #T_9c56f3ce_f4ce_11e9_bee2_0c96e6ec4f2frow2_col1 {\n",
       "            text-align:  center;\n",
       "            font-size:  115%;\n",
       "            : ;\n",
       "            : ;\n",
       "            color:  green;\n",
       "        }    #T_9c56f3ce_f4ce_11e9_bee2_0c96e6ec4f2frow2_col2 {\n",
       "            text-align:  center;\n",
       "            font-size:  115%;\n",
       "            : ;\n",
       "            : ;\n",
       "            color:  green;\n",
       "        }    #T_9c56f3ce_f4ce_11e9_bee2_0c96e6ec4f2frow3_col0 {\n",
       "            text-align:  center;\n",
       "            font-size:  115%;\n",
       "            : ;\n",
       "            : ;\n",
       "            color:  red;\n",
       "        }    #T_9c56f3ce_f4ce_11e9_bee2_0c96e6ec4f2frow3_col1 {\n",
       "            text-align:  center;\n",
       "            font-size:  115%;\n",
       "            : ;\n",
       "            : ;\n",
       "            color:  red;\n",
       "        }    #T_9c56f3ce_f4ce_11e9_bee2_0c96e6ec4f2frow3_col2 {\n",
       "            text-align:  center;\n",
       "            font-size:  115%;\n",
       "            : ;\n",
       "            : ;\n",
       "            color:  green;\n",
       "        }</style><table id=\"T_9c56f3ce_f4ce_11e9_bee2_0c96e6ec4f2f\" ><thead>    <tr>        <th class=\"col_heading level0 col0\" >p</th>        <th class=\"col_heading level0 col1\" >q</th>        <th class=\"col_heading level0 col2\" >(p and q) => (p or q)</th>    </tr></thead><tbody>\n",
       "                <tr>\n",
       "                                <td id=\"T_9c56f3ce_f4ce_11e9_bee2_0c96e6ec4f2frow0_col0\" class=\"data row0 col0\" >True</td>\n",
       "                        <td id=\"T_9c56f3ce_f4ce_11e9_bee2_0c96e6ec4f2frow0_col1\" class=\"data row0 col1\" >True</td>\n",
       "                        <td id=\"T_9c56f3ce_f4ce_11e9_bee2_0c96e6ec4f2frow0_col2\" class=\"data row0 col2\" >True</td>\n",
       "            </tr>\n",
       "            <tr>\n",
       "                                <td id=\"T_9c56f3ce_f4ce_11e9_bee2_0c96e6ec4f2frow1_col0\" class=\"data row1 col0\" >True</td>\n",
       "                        <td id=\"T_9c56f3ce_f4ce_11e9_bee2_0c96e6ec4f2frow1_col1\" class=\"data row1 col1\" >False</td>\n",
       "                        <td id=\"T_9c56f3ce_f4ce_11e9_bee2_0c96e6ec4f2frow1_col2\" class=\"data row1 col2\" >True</td>\n",
       "            </tr>\n",
       "            <tr>\n",
       "                                <td id=\"T_9c56f3ce_f4ce_11e9_bee2_0c96e6ec4f2frow2_col0\" class=\"data row2 col0\" >False</td>\n",
       "                        <td id=\"T_9c56f3ce_f4ce_11e9_bee2_0c96e6ec4f2frow2_col1\" class=\"data row2 col1\" >True</td>\n",
       "                        <td id=\"T_9c56f3ce_f4ce_11e9_bee2_0c96e6ec4f2frow2_col2\" class=\"data row2 col2\" >True</td>\n",
       "            </tr>\n",
       "            <tr>\n",
       "                                <td id=\"T_9c56f3ce_f4ce_11e9_bee2_0c96e6ec4f2frow3_col0\" class=\"data row3 col0\" >False</td>\n",
       "                        <td id=\"T_9c56f3ce_f4ce_11e9_bee2_0c96e6ec4f2frow3_col1\" class=\"data row3 col1\" >False</td>\n",
       "                        <td id=\"T_9c56f3ce_f4ce_11e9_bee2_0c96e6ec4f2frow3_col2\" class=\"data row3 col2\" >True</td>\n",
       "            </tr>\n",
       "    </tbody></table>"
      ],
      "text/plain": [
       "<pandas.io.formats.style.Styler at 0x7f32a18107d0>"
      ]
     },
     "execution_count": 10,
     "metadata": {},
     "output_type": "execute_result"
    }
   ],
   "source": [
    "df_style(proposicao01)"
   ]
  },
  {
   "cell_type": "markdown",
   "metadata": {},
   "source": [
    "Vamos supor que, por algum motivo, você gostaria de destacar a última coluna:"
   ]
  },
  {
   "cell_type": "code",
   "execution_count": 11,
   "metadata": {
    "ExecuteTime": {
     "end_time": "2019-10-22T13:19:43.750641Z",
     "start_time": "2019-10-22T13:19:43.495030Z"
    }
   },
   "outputs": [
    {
     "data": {
      "text/html": [
       "<style  type=\"text/css\" >\n",
       "    #T_9c56f3cf_f4ce_11e9_bee2_0c96e6ec4f2f th {\n",
       "          font-size: 12pt;\n",
       "    }    #T_9c56f3cf_f4ce_11e9_bee2_0c96e6ec4f2frow0_col0 {\n",
       "            text-align:  center;\n",
       "            font-size:  115%;\n",
       "            : ;\n",
       "            : ;\n",
       "            color:  green;\n",
       "        }    #T_9c56f3cf_f4ce_11e9_bee2_0c96e6ec4f2frow0_col1 {\n",
       "            text-align:  center;\n",
       "            font-size:  115%;\n",
       "            : ;\n",
       "            : ;\n",
       "            color:  green;\n",
       "        }    #T_9c56f3cf_f4ce_11e9_bee2_0c96e6ec4f2frow0_col2 {\n",
       "            text-align:  center;\n",
       "            font-size:  115%;\n",
       "            : ;\n",
       "            background:  lightyellow;\n",
       "            color:  green;\n",
       "        }    #T_9c56f3cf_f4ce_11e9_bee2_0c96e6ec4f2frow1_col0 {\n",
       "            text-align:  center;\n",
       "            font-size:  115%;\n",
       "            : ;\n",
       "            : ;\n",
       "            color:  green;\n",
       "        }    #T_9c56f3cf_f4ce_11e9_bee2_0c96e6ec4f2frow1_col1 {\n",
       "            text-align:  center;\n",
       "            font-size:  115%;\n",
       "            : ;\n",
       "            : ;\n",
       "            color:  red;\n",
       "        }    #T_9c56f3cf_f4ce_11e9_bee2_0c96e6ec4f2frow1_col2 {\n",
       "            text-align:  center;\n",
       "            font-size:  115%;\n",
       "            : ;\n",
       "            background:  lightyellow;\n",
       "            color:  green;\n",
       "        }    #T_9c56f3cf_f4ce_11e9_bee2_0c96e6ec4f2frow2_col0 {\n",
       "            text-align:  center;\n",
       "            font-size:  115%;\n",
       "            : ;\n",
       "            : ;\n",
       "            color:  red;\n",
       "        }    #T_9c56f3cf_f4ce_11e9_bee2_0c96e6ec4f2frow2_col1 {\n",
       "            text-align:  center;\n",
       "            font-size:  115%;\n",
       "            : ;\n",
       "            : ;\n",
       "            color:  green;\n",
       "        }    #T_9c56f3cf_f4ce_11e9_bee2_0c96e6ec4f2frow2_col2 {\n",
       "            text-align:  center;\n",
       "            font-size:  115%;\n",
       "            : ;\n",
       "            background:  lightyellow;\n",
       "            color:  green;\n",
       "        }    #T_9c56f3cf_f4ce_11e9_bee2_0c96e6ec4f2frow3_col0 {\n",
       "            text-align:  center;\n",
       "            font-size:  115%;\n",
       "            : ;\n",
       "            : ;\n",
       "            color:  red;\n",
       "        }    #T_9c56f3cf_f4ce_11e9_bee2_0c96e6ec4f2frow3_col1 {\n",
       "            text-align:  center;\n",
       "            font-size:  115%;\n",
       "            : ;\n",
       "            : ;\n",
       "            color:  red;\n",
       "        }    #T_9c56f3cf_f4ce_11e9_bee2_0c96e6ec4f2frow3_col2 {\n",
       "            text-align:  center;\n",
       "            font-size:  115%;\n",
       "            : ;\n",
       "            background:  lightyellow;\n",
       "            color:  green;\n",
       "        }</style><table id=\"T_9c56f3cf_f4ce_11e9_bee2_0c96e6ec4f2f\" ><thead>    <tr>        <th class=\"col_heading level0 col0\" >p</th>        <th class=\"col_heading level0 col1\" >q</th>        <th class=\"col_heading level0 col2\" >(p and q) => (p or q)</th>    </tr></thead><tbody>\n",
       "                <tr>\n",
       "                                <td id=\"T_9c56f3cf_f4ce_11e9_bee2_0c96e6ec4f2frow0_col0\" class=\"data row0 col0\" >True</td>\n",
       "                        <td id=\"T_9c56f3cf_f4ce_11e9_bee2_0c96e6ec4f2frow0_col1\" class=\"data row0 col1\" >True</td>\n",
       "                        <td id=\"T_9c56f3cf_f4ce_11e9_bee2_0c96e6ec4f2frow0_col2\" class=\"data row0 col2\" >True</td>\n",
       "            </tr>\n",
       "            <tr>\n",
       "                                <td id=\"T_9c56f3cf_f4ce_11e9_bee2_0c96e6ec4f2frow1_col0\" class=\"data row1 col0\" >True</td>\n",
       "                        <td id=\"T_9c56f3cf_f4ce_11e9_bee2_0c96e6ec4f2frow1_col1\" class=\"data row1 col1\" >False</td>\n",
       "                        <td id=\"T_9c56f3cf_f4ce_11e9_bee2_0c96e6ec4f2frow1_col2\" class=\"data row1 col2\" >True</td>\n",
       "            </tr>\n",
       "            <tr>\n",
       "                                <td id=\"T_9c56f3cf_f4ce_11e9_bee2_0c96e6ec4f2frow2_col0\" class=\"data row2 col0\" >False</td>\n",
       "                        <td id=\"T_9c56f3cf_f4ce_11e9_bee2_0c96e6ec4f2frow2_col1\" class=\"data row2 col1\" >True</td>\n",
       "                        <td id=\"T_9c56f3cf_f4ce_11e9_bee2_0c96e6ec4f2frow2_col2\" class=\"data row2 col2\" >True</td>\n",
       "            </tr>\n",
       "            <tr>\n",
       "                                <td id=\"T_9c56f3cf_f4ce_11e9_bee2_0c96e6ec4f2frow3_col0\" class=\"data row3 col0\" >False</td>\n",
       "                        <td id=\"T_9c56f3cf_f4ce_11e9_bee2_0c96e6ec4f2frow3_col1\" class=\"data row3 col1\" >False</td>\n",
       "                        <td id=\"T_9c56f3cf_f4ce_11e9_bee2_0c96e6ec4f2frow3_col2\" class=\"data row3 col2\" >True</td>\n",
       "            </tr>\n",
       "    </tbody></table>"
      ],
      "text/plain": [
       "<pandas.io.formats.style.Styler at 0x7f32e5d90690>"
      ]
     },
     "execution_count": 11,
     "metadata": {},
     "output_type": "execute_result"
    }
   ],
   "source": [
    "df_style(proposicao01, hl_cols=['(p and q) => (p or q)'])"
   ]
  },
  {
   "cell_type": "markdown",
   "metadata": {},
   "source": [
    "Agora, vamos supor que, por algum motivo, você gostaria de destacar a última linha:"
   ]
  },
  {
   "cell_type": "code",
   "execution_count": 12,
   "metadata": {
    "ExecuteTime": {
     "end_time": "2019-10-22T13:19:44.063333Z",
     "start_time": "2019-10-22T13:19:43.751713Z"
    }
   },
   "outputs": [
    {
     "data": {
      "text/html": [
       "<style  type=\"text/css\" >\n",
       "    #T_9c56f3d0_f4ce_11e9_bee2_0c96e6ec4f2f th {\n",
       "          font-size: 12pt;\n",
       "    }    #T_9c56f3d0_f4ce_11e9_bee2_0c96e6ec4f2frow0_col0 {\n",
       "            text-align:  center;\n",
       "            font-size:  115%;\n",
       "            : ;\n",
       "            : ;\n",
       "            color:  green;\n",
       "        }    #T_9c56f3d0_f4ce_11e9_bee2_0c96e6ec4f2frow0_col1 {\n",
       "            text-align:  center;\n",
       "            font-size:  115%;\n",
       "            : ;\n",
       "            : ;\n",
       "            color:  green;\n",
       "        }    #T_9c56f3d0_f4ce_11e9_bee2_0c96e6ec4f2frow0_col2 {\n",
       "            text-align:  center;\n",
       "            font-size:  115%;\n",
       "            : ;\n",
       "            : ;\n",
       "            color:  green;\n",
       "        }    #T_9c56f3d0_f4ce_11e9_bee2_0c96e6ec4f2frow1_col0 {\n",
       "            text-align:  center;\n",
       "            font-size:  115%;\n",
       "            : ;\n",
       "            : ;\n",
       "            color:  green;\n",
       "        }    #T_9c56f3d0_f4ce_11e9_bee2_0c96e6ec4f2frow1_col1 {\n",
       "            text-align:  center;\n",
       "            font-size:  115%;\n",
       "            : ;\n",
       "            : ;\n",
       "            color:  red;\n",
       "        }    #T_9c56f3d0_f4ce_11e9_bee2_0c96e6ec4f2frow1_col2 {\n",
       "            text-align:  center;\n",
       "            font-size:  115%;\n",
       "            : ;\n",
       "            : ;\n",
       "            color:  green;\n",
       "        }    #T_9c56f3d0_f4ce_11e9_bee2_0c96e6ec4f2frow2_col0 {\n",
       "            text-align:  center;\n",
       "            font-size:  115%;\n",
       "            : ;\n",
       "            : ;\n",
       "            color:  red;\n",
       "        }    #T_9c56f3d0_f4ce_11e9_bee2_0c96e6ec4f2frow2_col1 {\n",
       "            text-align:  center;\n",
       "            font-size:  115%;\n",
       "            : ;\n",
       "            : ;\n",
       "            color:  green;\n",
       "        }    #T_9c56f3d0_f4ce_11e9_bee2_0c96e6ec4f2frow2_col2 {\n",
       "            text-align:  center;\n",
       "            font-size:  115%;\n",
       "            : ;\n",
       "            : ;\n",
       "            color:  green;\n",
       "        }    #T_9c56f3d0_f4ce_11e9_bee2_0c96e6ec4f2frow3_col0 {\n",
       "            text-align:  center;\n",
       "            font-size:  115%;\n",
       "            background:  lightyellow;\n",
       "            : ;\n",
       "            color:  red;\n",
       "        }    #T_9c56f3d0_f4ce_11e9_bee2_0c96e6ec4f2frow3_col1 {\n",
       "            text-align:  center;\n",
       "            font-size:  115%;\n",
       "            background:  lightyellow;\n",
       "            : ;\n",
       "            color:  red;\n",
       "        }    #T_9c56f3d0_f4ce_11e9_bee2_0c96e6ec4f2frow3_col2 {\n",
       "            text-align:  center;\n",
       "            font-size:  115%;\n",
       "            background:  lightyellow;\n",
       "            : ;\n",
       "            color:  green;\n",
       "        }</style><table id=\"T_9c56f3d0_f4ce_11e9_bee2_0c96e6ec4f2f\" ><thead>    <tr>        <th class=\"col_heading level0 col0\" >p</th>        <th class=\"col_heading level0 col1\" >q</th>        <th class=\"col_heading level0 col2\" >(p and q) => (p or q)</th>    </tr></thead><tbody>\n",
       "                <tr>\n",
       "                                <td id=\"T_9c56f3d0_f4ce_11e9_bee2_0c96e6ec4f2frow0_col0\" class=\"data row0 col0\" >True</td>\n",
       "                        <td id=\"T_9c56f3d0_f4ce_11e9_bee2_0c96e6ec4f2frow0_col1\" class=\"data row0 col1\" >True</td>\n",
       "                        <td id=\"T_9c56f3d0_f4ce_11e9_bee2_0c96e6ec4f2frow0_col2\" class=\"data row0 col2\" >True</td>\n",
       "            </tr>\n",
       "            <tr>\n",
       "                                <td id=\"T_9c56f3d0_f4ce_11e9_bee2_0c96e6ec4f2frow1_col0\" class=\"data row1 col0\" >True</td>\n",
       "                        <td id=\"T_9c56f3d0_f4ce_11e9_bee2_0c96e6ec4f2frow1_col1\" class=\"data row1 col1\" >False</td>\n",
       "                        <td id=\"T_9c56f3d0_f4ce_11e9_bee2_0c96e6ec4f2frow1_col2\" class=\"data row1 col2\" >True</td>\n",
       "            </tr>\n",
       "            <tr>\n",
       "                                <td id=\"T_9c56f3d0_f4ce_11e9_bee2_0c96e6ec4f2frow2_col0\" class=\"data row2 col0\" >False</td>\n",
       "                        <td id=\"T_9c56f3d0_f4ce_11e9_bee2_0c96e6ec4f2frow2_col1\" class=\"data row2 col1\" >True</td>\n",
       "                        <td id=\"T_9c56f3d0_f4ce_11e9_bee2_0c96e6ec4f2frow2_col2\" class=\"data row2 col2\" >True</td>\n",
       "            </tr>\n",
       "            <tr>\n",
       "                                <td id=\"T_9c56f3d0_f4ce_11e9_bee2_0c96e6ec4f2frow3_col0\" class=\"data row3 col0\" >False</td>\n",
       "                        <td id=\"T_9c56f3d0_f4ce_11e9_bee2_0c96e6ec4f2frow3_col1\" class=\"data row3 col1\" >False</td>\n",
       "                        <td id=\"T_9c56f3d0_f4ce_11e9_bee2_0c96e6ec4f2frow3_col2\" class=\"data row3 col2\" >True</td>\n",
       "            </tr>\n",
       "    </tbody></table>"
      ],
      "text/plain": [
       "<pandas.io.formats.style.Styler at 0x7f32e5d9f790>"
      ]
     },
     "execution_count": 12,
     "metadata": {},
     "output_type": "execute_result"
    }
   ],
   "source": [
    "df_style(proposicao01, hl_rows=[4])  # a linha de cabeçalho é contada como zero"
   ]
  },
  {
   "cell_type": "markdown",
   "metadata": {},
   "source": [
    "É possível destacar linhas e colunas ao mesmo tempo:"
   ]
  },
  {
   "cell_type": "code",
   "execution_count": 13,
   "metadata": {
    "ExecuteTime": {
     "end_time": "2019-10-22T13:19:44.354732Z",
     "start_time": "2019-10-22T13:19:44.064508Z"
    }
   },
   "outputs": [
    {
     "data": {
      "text/html": [
       "<style  type=\"text/css\" >\n",
       "    #T_9c56f3d1_f4ce_11e9_bee2_0c96e6ec4f2f th {\n",
       "          font-size: 12pt;\n",
       "    }    #T_9c56f3d1_f4ce_11e9_bee2_0c96e6ec4f2frow0_col0 {\n",
       "            text-align:  center;\n",
       "            font-size:  115%;\n",
       "            : ;\n",
       "            : ;\n",
       "            color:  green;\n",
       "        }    #T_9c56f3d1_f4ce_11e9_bee2_0c96e6ec4f2frow0_col1 {\n",
       "            text-align:  center;\n",
       "            font-size:  115%;\n",
       "            : ;\n",
       "            : ;\n",
       "            color:  green;\n",
       "        }    #T_9c56f3d1_f4ce_11e9_bee2_0c96e6ec4f2frow0_col2 {\n",
       "            text-align:  center;\n",
       "            font-size:  115%;\n",
       "            : ;\n",
       "            background:  lightyellow;\n",
       "            color:  green;\n",
       "        }    #T_9c56f3d1_f4ce_11e9_bee2_0c96e6ec4f2frow1_col0 {\n",
       "            text-align:  center;\n",
       "            font-size:  115%;\n",
       "            : ;\n",
       "            : ;\n",
       "            color:  green;\n",
       "        }    #T_9c56f3d1_f4ce_11e9_bee2_0c96e6ec4f2frow1_col1 {\n",
       "            text-align:  center;\n",
       "            font-size:  115%;\n",
       "            : ;\n",
       "            : ;\n",
       "            color:  red;\n",
       "        }    #T_9c56f3d1_f4ce_11e9_bee2_0c96e6ec4f2frow1_col2 {\n",
       "            text-align:  center;\n",
       "            font-size:  115%;\n",
       "            : ;\n",
       "            background:  lightyellow;\n",
       "            color:  green;\n",
       "        }    #T_9c56f3d1_f4ce_11e9_bee2_0c96e6ec4f2frow2_col0 {\n",
       "            text-align:  center;\n",
       "            font-size:  115%;\n",
       "            : ;\n",
       "            : ;\n",
       "            color:  red;\n",
       "        }    #T_9c56f3d1_f4ce_11e9_bee2_0c96e6ec4f2frow2_col1 {\n",
       "            text-align:  center;\n",
       "            font-size:  115%;\n",
       "            : ;\n",
       "            : ;\n",
       "            color:  green;\n",
       "        }    #T_9c56f3d1_f4ce_11e9_bee2_0c96e6ec4f2frow2_col2 {\n",
       "            text-align:  center;\n",
       "            font-size:  115%;\n",
       "            : ;\n",
       "            background:  lightyellow;\n",
       "            color:  green;\n",
       "        }    #T_9c56f3d1_f4ce_11e9_bee2_0c96e6ec4f2frow3_col0 {\n",
       "            text-align:  center;\n",
       "            font-size:  115%;\n",
       "            background:  lightyellow;\n",
       "            : ;\n",
       "            color:  red;\n",
       "        }    #T_9c56f3d1_f4ce_11e9_bee2_0c96e6ec4f2frow3_col1 {\n",
       "            text-align:  center;\n",
       "            font-size:  115%;\n",
       "            background:  lightyellow;\n",
       "            : ;\n",
       "            color:  red;\n",
       "        }    #T_9c56f3d1_f4ce_11e9_bee2_0c96e6ec4f2frow3_col2 {\n",
       "            text-align:  center;\n",
       "            font-size:  115%;\n",
       "            background:  lightyellow;\n",
       "            background:  lightyellow;\n",
       "            color:  green;\n",
       "        }</style><table id=\"T_9c56f3d1_f4ce_11e9_bee2_0c96e6ec4f2f\" ><thead>    <tr>        <th class=\"col_heading level0 col0\" >p</th>        <th class=\"col_heading level0 col1\" >q</th>        <th class=\"col_heading level0 col2\" >(p and q) => (p or q)</th>    </tr></thead><tbody>\n",
       "                <tr>\n",
       "                                <td id=\"T_9c56f3d1_f4ce_11e9_bee2_0c96e6ec4f2frow0_col0\" class=\"data row0 col0\" >True</td>\n",
       "                        <td id=\"T_9c56f3d1_f4ce_11e9_bee2_0c96e6ec4f2frow0_col1\" class=\"data row0 col1\" >True</td>\n",
       "                        <td id=\"T_9c56f3d1_f4ce_11e9_bee2_0c96e6ec4f2frow0_col2\" class=\"data row0 col2\" >True</td>\n",
       "            </tr>\n",
       "            <tr>\n",
       "                                <td id=\"T_9c56f3d1_f4ce_11e9_bee2_0c96e6ec4f2frow1_col0\" class=\"data row1 col0\" >True</td>\n",
       "                        <td id=\"T_9c56f3d1_f4ce_11e9_bee2_0c96e6ec4f2frow1_col1\" class=\"data row1 col1\" >False</td>\n",
       "                        <td id=\"T_9c56f3d1_f4ce_11e9_bee2_0c96e6ec4f2frow1_col2\" class=\"data row1 col2\" >True</td>\n",
       "            </tr>\n",
       "            <tr>\n",
       "                                <td id=\"T_9c56f3d1_f4ce_11e9_bee2_0c96e6ec4f2frow2_col0\" class=\"data row2 col0\" >False</td>\n",
       "                        <td id=\"T_9c56f3d1_f4ce_11e9_bee2_0c96e6ec4f2frow2_col1\" class=\"data row2 col1\" >True</td>\n",
       "                        <td id=\"T_9c56f3d1_f4ce_11e9_bee2_0c96e6ec4f2frow2_col2\" class=\"data row2 col2\" >True</td>\n",
       "            </tr>\n",
       "            <tr>\n",
       "                                <td id=\"T_9c56f3d1_f4ce_11e9_bee2_0c96e6ec4f2frow3_col0\" class=\"data row3 col0\" >False</td>\n",
       "                        <td id=\"T_9c56f3d1_f4ce_11e9_bee2_0c96e6ec4f2frow3_col1\" class=\"data row3 col1\" >False</td>\n",
       "                        <td id=\"T_9c56f3d1_f4ce_11e9_bee2_0c96e6ec4f2frow3_col2\" class=\"data row3 col2\" >True</td>\n",
       "            </tr>\n",
       "    </tbody></table>"
      ],
      "text/plain": [
       "<pandas.io.formats.style.Styler at 0x7f32e5d7c290>"
      ]
     },
     "execution_count": 13,
     "metadata": {},
     "output_type": "execute_result"
    }
   ],
   "source": [
    "df_style(proposicao01, hl_rows=[4], hl_cols=['(p and q) => (p or q)'])"
   ]
  },
  {
   "cell_type": "markdown",
   "metadata": {},
   "source": [
    "### Exercício resolvido\n",
    "\n",
    "Vamos resolver um exercício onde as formas de visualização anteriores irão se mostrar úteis.\n",
    "\n",
    "**Sendo $p$ uma proposição verdadeira e $q$ uma proposição falsa, qual o valor lógico \n",
    "da proposição composta $(p \\land \\neg q) \\rightarrow q$?**\n",
    "\n",
    "----\n",
    "\n",
    "**Resolução**: Vamos começar declarando uma variável e apresentar uma tabela simples com `print`:"
   ]
  },
  {
   "cell_type": "code",
   "execution_count": 14,
   "metadata": {
    "ExecuteTime": {
     "end_time": "2019-10-22T13:19:44.636674Z",
     "start_time": "2019-10-22T13:19:44.355756Z"
    }
   },
   "outputs": [],
   "source": [
    "exercicio01 = ttg.Truths(['p', 'q'], ['(p and (~q)) => q'], ints = False)"
   ]
  },
  {
   "cell_type": "markdown",
   "metadata": {},
   "source": [
    "**Atenção**: Repare no cuidado com os parênteses, especialmente com o operador negação."
   ]
  },
  {
   "cell_type": "code",
   "execution_count": 15,
   "metadata": {
    "ExecuteTime": {
     "end_time": "2019-10-22T13:19:44.933090Z",
     "start_time": "2019-10-22T13:19:44.639675Z"
    }
   },
   "outputs": [
    {
     "name": "stdout",
     "output_type": "stream",
     "text": [
      "+-------+-------+---------------------+\n",
      "|   p   |   q   |  (p and (~q)) => q  |\n",
      "|-------+-------+---------------------|\n",
      "| True  | True  |        True         |\n",
      "| True  | False |        False        |\n",
      "| False | True  |        True         |\n",
      "| False | False |        True         |\n",
      "+-------+-------+---------------------+\n"
     ]
    }
   ],
   "source": [
    "print(exercicio01)"
   ]
  },
  {
   "cell_type": "markdown",
   "metadata": {},
   "source": [
    "O enunciado atribuiu valores lógicos específicos para as proposições simples. Podemos utilizar os recursos visuais apresentados anteriormente para destacar a linha da tabela referente a esses valores e achar a resposta do exercício:"
   ]
  },
  {
   "cell_type": "code",
   "execution_count": 16,
   "metadata": {
    "ExecuteTime": {
     "end_time": "2019-10-22T13:19:45.283854Z",
     "start_time": "2019-10-22T13:19:44.934297Z"
    }
   },
   "outputs": [
    {
     "data": {
      "text/html": [
       "<style  type=\"text/css\" >\n",
       "    #T_9d684cf4_f4ce_11e9_bee2_0c96e6ec4f2f th {\n",
       "          font-size: 12pt;\n",
       "    }    #T_9d684cf4_f4ce_11e9_bee2_0c96e6ec4f2frow0_col0 {\n",
       "            text-align:  center;\n",
       "            font-size:  115%;\n",
       "            : ;\n",
       "            : ;\n",
       "            color:  green;\n",
       "        }    #T_9d684cf4_f4ce_11e9_bee2_0c96e6ec4f2frow0_col1 {\n",
       "            text-align:  center;\n",
       "            font-size:  115%;\n",
       "            : ;\n",
       "            : ;\n",
       "            color:  green;\n",
       "        }    #T_9d684cf4_f4ce_11e9_bee2_0c96e6ec4f2frow0_col2 {\n",
       "            text-align:  center;\n",
       "            font-size:  115%;\n",
       "            : ;\n",
       "            : ;\n",
       "            color:  green;\n",
       "        }    #T_9d684cf4_f4ce_11e9_bee2_0c96e6ec4f2frow1_col0 {\n",
       "            text-align:  center;\n",
       "            font-size:  115%;\n",
       "            background:  lightyellow;\n",
       "            : ;\n",
       "            color:  green;\n",
       "        }    #T_9d684cf4_f4ce_11e9_bee2_0c96e6ec4f2frow1_col1 {\n",
       "            text-align:  center;\n",
       "            font-size:  115%;\n",
       "            background:  lightyellow;\n",
       "            : ;\n",
       "            color:  red;\n",
       "        }    #T_9d684cf4_f4ce_11e9_bee2_0c96e6ec4f2frow1_col2 {\n",
       "            text-align:  center;\n",
       "            font-size:  115%;\n",
       "            background:  lightyellow;\n",
       "            : ;\n",
       "            color:  red;\n",
       "        }    #T_9d684cf4_f4ce_11e9_bee2_0c96e6ec4f2frow2_col0 {\n",
       "            text-align:  center;\n",
       "            font-size:  115%;\n",
       "            : ;\n",
       "            : ;\n",
       "            color:  red;\n",
       "        }    #T_9d684cf4_f4ce_11e9_bee2_0c96e6ec4f2frow2_col1 {\n",
       "            text-align:  center;\n",
       "            font-size:  115%;\n",
       "            : ;\n",
       "            : ;\n",
       "            color:  green;\n",
       "        }    #T_9d684cf4_f4ce_11e9_bee2_0c96e6ec4f2frow2_col2 {\n",
       "            text-align:  center;\n",
       "            font-size:  115%;\n",
       "            : ;\n",
       "            : ;\n",
       "            color:  green;\n",
       "        }    #T_9d684cf4_f4ce_11e9_bee2_0c96e6ec4f2frow3_col0 {\n",
       "            text-align:  center;\n",
       "            font-size:  115%;\n",
       "            : ;\n",
       "            : ;\n",
       "            color:  red;\n",
       "        }    #T_9d684cf4_f4ce_11e9_bee2_0c96e6ec4f2frow3_col1 {\n",
       "            text-align:  center;\n",
       "            font-size:  115%;\n",
       "            : ;\n",
       "            : ;\n",
       "            color:  red;\n",
       "        }    #T_9d684cf4_f4ce_11e9_bee2_0c96e6ec4f2frow3_col2 {\n",
       "            text-align:  center;\n",
       "            font-size:  115%;\n",
       "            : ;\n",
       "            : ;\n",
       "            color:  green;\n",
       "        }</style><table id=\"T_9d684cf4_f4ce_11e9_bee2_0c96e6ec4f2f\" ><thead>    <tr>        <th class=\"col_heading level0 col0\" >p</th>        <th class=\"col_heading level0 col1\" >q</th>        <th class=\"col_heading level0 col2\" >(p and (~q)) => q</th>    </tr></thead><tbody>\n",
       "                <tr>\n",
       "                                <td id=\"T_9d684cf4_f4ce_11e9_bee2_0c96e6ec4f2frow0_col0\" class=\"data row0 col0\" >True</td>\n",
       "                        <td id=\"T_9d684cf4_f4ce_11e9_bee2_0c96e6ec4f2frow0_col1\" class=\"data row0 col1\" >True</td>\n",
       "                        <td id=\"T_9d684cf4_f4ce_11e9_bee2_0c96e6ec4f2frow0_col2\" class=\"data row0 col2\" >True</td>\n",
       "            </tr>\n",
       "            <tr>\n",
       "                                <td id=\"T_9d684cf4_f4ce_11e9_bee2_0c96e6ec4f2frow1_col0\" class=\"data row1 col0\" >True</td>\n",
       "                        <td id=\"T_9d684cf4_f4ce_11e9_bee2_0c96e6ec4f2frow1_col1\" class=\"data row1 col1\" >False</td>\n",
       "                        <td id=\"T_9d684cf4_f4ce_11e9_bee2_0c96e6ec4f2frow1_col2\" class=\"data row1 col2\" >False</td>\n",
       "            </tr>\n",
       "            <tr>\n",
       "                                <td id=\"T_9d684cf4_f4ce_11e9_bee2_0c96e6ec4f2frow2_col0\" class=\"data row2 col0\" >False</td>\n",
       "                        <td id=\"T_9d684cf4_f4ce_11e9_bee2_0c96e6ec4f2frow2_col1\" class=\"data row2 col1\" >True</td>\n",
       "                        <td id=\"T_9d684cf4_f4ce_11e9_bee2_0c96e6ec4f2frow2_col2\" class=\"data row2 col2\" >True</td>\n",
       "            </tr>\n",
       "            <tr>\n",
       "                                <td id=\"T_9d684cf4_f4ce_11e9_bee2_0c96e6ec4f2frow3_col0\" class=\"data row3 col0\" >False</td>\n",
       "                        <td id=\"T_9d684cf4_f4ce_11e9_bee2_0c96e6ec4f2frow3_col1\" class=\"data row3 col1\" >False</td>\n",
       "                        <td id=\"T_9d684cf4_f4ce_11e9_bee2_0c96e6ec4f2frow3_col2\" class=\"data row3 col2\" >True</td>\n",
       "            </tr>\n",
       "    </tbody></table>"
      ],
      "text/plain": [
       "<pandas.io.formats.style.Styler at 0x7f32e5d07f10>"
      ]
     },
     "execution_count": 16,
     "metadata": {},
     "output_type": "execute_result"
    }
   ],
   "source": [
    "df_style(exercicio01, hl_rows=[2])"
   ]
  },
  {
   "cell_type": "markdown",
   "metadata": {},
   "source": [
    "Logo, o valor lógico da proposição composta no contexto apresentado é *Falso*."
   ]
  },
  {
   "cell_type": "markdown",
   "metadata": {},
   "source": [
    "## Tautologias, contradições e contingências"
   ]
  },
  {
   "cell_type": "markdown",
   "metadata": {},
   "source": [
    "**Tautologia** é toda proposição composta cujo valor lógico é sempre verdade quaisquer que sejam os valores lógicos das proposições simples componentes. Ou seja, em qualquer contexto.\n",
    "\n",
    "**Contradição** é toda proposição composta cujo valor lógico é sempre falso quaisquer que sejam os valores lógicos das proposições simples componentes. Ou seja, em qualquer contexto.\n",
    "\n",
    "**Contingência** é toda proposição composta que não é tautologia nem contradição."
   ]
  },
  {
   "cell_type": "markdown",
   "metadata": {},
   "source": [
    "O *ttg* possui o método *valuation* que, por padrão, analisa a última coluna de uma tabela-verdade e avalia se é uma tautologia, contradição ou  contingência. É possível passar parâmetros para *valuation* em tabelas com várias colunas, veja a [documentação](https://github.com/chicolucio/truth-table-generator) para detalhes se for de interesse.\n",
    "\n",
    "Veja exemplos executando as células a seguir."
   ]
  },
  {
   "cell_type": "code",
   "execution_count": 17,
   "metadata": {
    "ExecuteTime": {
     "end_time": "2019-10-22T13:19:45.610367Z",
     "start_time": "2019-10-22T13:19:45.284980Z"
    }
   },
   "outputs": [
    {
     "data": {
      "text/plain": [
       "'Tautology'"
      ]
     },
     "execution_count": 17,
     "metadata": {},
     "output_type": "execute_result"
    }
   ],
   "source": [
    "proposicao01 = ttg.Truths(['p', 'q'], ['(p and q) => (p or q)'], ints=False)\n",
    "\n",
    "proposicao01.valuation()"
   ]
  },
  {
   "cell_type": "code",
   "execution_count": 18,
   "metadata": {
    "ExecuteTime": {
     "end_time": "2019-10-22T13:19:45.926905Z",
     "start_time": "2019-10-22T13:19:45.612483Z"
    }
   },
   "outputs": [
    {
     "name": "stdout",
     "output_type": "stream",
     "text": [
      "+-------+--------------+\n",
      "|   p   |  p and (~p)  |\n",
      "|-------+--------------|\n",
      "| True  |    False     |\n",
      "| False |    False     |\n",
      "+-------+--------------+\n"
     ]
    }
   ],
   "source": [
    "proposicao02 = ttg.Truths(['p'], ['p and (~p)'], ints=False)\n",
    "\n",
    "print(proposicao02)"
   ]
  },
  {
   "cell_type": "code",
   "execution_count": 19,
   "metadata": {
    "ExecuteTime": {
     "end_time": "2019-10-22T13:19:46.222604Z",
     "start_time": "2019-10-22T13:19:45.929473Z"
    }
   },
   "outputs": [
    {
     "data": {
      "text/plain": [
       "'Contradiction'"
      ]
     },
     "execution_count": 19,
     "metadata": {},
     "output_type": "execute_result"
    }
   ],
   "source": [
    "proposicao02.valuation()"
   ]
  },
  {
   "cell_type": "code",
   "execution_count": 20,
   "metadata": {
    "ExecuteTime": {
     "end_time": "2019-10-22T13:19:46.541924Z",
     "start_time": "2019-10-22T13:19:46.224087Z"
    }
   },
   "outputs": [
    {
     "name": "stdout",
     "output_type": "stream",
     "text": [
      "+-------+-------+-------+------------------+\n",
      "|   p   |   q   |   r   |  (p and q) or r  |\n",
      "|-------+-------+-------+------------------|\n",
      "| True  | True  | True  |       True       |\n",
      "| True  | True  | False |       True       |\n",
      "| True  | False | True  |       True       |\n",
      "| True  | False | False |      False       |\n",
      "| False | True  | True  |       True       |\n",
      "| False | True  | False |      False       |\n",
      "| False | False | True  |       True       |\n",
      "| False | False | False |      False       |\n",
      "+-------+-------+-------+------------------+\n"
     ]
    }
   ],
   "source": [
    "proposicao03 = ttg.Truths(['p', 'q', 'r'], ['(p and q) or r'], ints=False)\n",
    "\n",
    "print(proposicao03)"
   ]
  },
  {
   "cell_type": "code",
   "execution_count": 21,
   "metadata": {
    "ExecuteTime": {
     "end_time": "2019-10-22T13:19:46.894927Z",
     "start_time": "2019-10-22T13:19:46.543021Z"
    }
   },
   "outputs": [
    {
     "data": {
      "text/plain": [
       "'Contingency'"
      ]
     },
     "execution_count": 21,
     "metadata": {},
     "output_type": "execute_result"
    }
   ],
   "source": [
    "proposicao03.valuation()"
   ]
  },
  {
   "cell_type": "markdown",
   "metadata": {},
   "source": [
    "### Exercício resolvido\n",
    "\n",
    "Demonstre que são tautologias as seguintes proposições compostas.\n",
    "\n",
    "a. $ (p \\land q) \\rightarrow p $\n",
    "\n",
    "b. $ p \\rightarrow (p \\lor q) $\n",
    "\n",
    "c. $ [p \\land (p \\rightarrow q)] \\rightarrow q $ (conhecido como *modus ponens*)\n",
    " \n",
    "d. $ [(p \\rightarrow q) \\land (\\neg q)] \\rightarrow (\\neg p) $ (conhecido como *modus tollens*)\n",
    "\n",
    "*Obs*.: Essas tautologias são conhecidas como *regras de inferência*."
   ]
  },
  {
   "cell_type": "code",
   "execution_count": 22,
   "metadata": {
    "ExecuteTime": {
     "end_time": "2019-10-22T13:19:47.168312Z",
     "start_time": "2019-10-22T13:19:46.896823Z"
    }
   },
   "outputs": [],
   "source": [
    "exercicio02 = ttg.Truths(['p', 'q'], [\n",
    "    '(p and q) => p', 'p => (p or q)', '(p and (p => q)) => q',\n",
    "    '((p => q) and (~q)) => (~p)'\n",
    "],\n",
    "                    ints=False)"
   ]
  },
  {
   "cell_type": "code",
   "execution_count": 23,
   "metadata": {
    "ExecuteTime": {
     "end_time": "2019-10-22T13:19:47.905996Z",
     "start_time": "2019-10-22T13:19:47.179202Z"
    }
   },
   "outputs": [
    {
     "name": "stdout",
     "output_type": "stream",
     "text": [
      "+-------+-------+------------------+-----------------+-------------------------+-------------------------------+\n",
      "|   p   |   q   |  (p and q) => p  |  p => (p or q)  |  (p and (p => q)) => q  |  ((p => q) and (~q)) => (~p)  |\n",
      "|-------+-------+------------------+-----------------+-------------------------+-------------------------------|\n",
      "| True  | True  |       True       |      True       |          True           |             True              |\n",
      "| True  | False |       True       |      True       |          True           |             True              |\n",
      "| False | True  |       True       |      True       |          True           |             True              |\n",
      "| False | False |       True       |      True       |          True           |             True              |\n",
      "+-------+-------+------------------+-----------------+-------------------------+-------------------------------+\n"
     ]
    }
   ],
   "source": [
    "print(exercicio02)"
   ]
  },
  {
   "cell_type": "code",
   "execution_count": 24,
   "metadata": {
    "ExecuteTime": {
     "end_time": "2019-10-22T13:19:48.279275Z",
     "start_time": "2019-10-22T13:19:47.908452Z"
    }
   },
   "outputs": [
    {
     "name": "stdout",
     "output_type": "stream",
     "text": [
      "Tautology\n",
      "Tautology\n",
      "Tautology\n",
      "Tautology\n"
     ]
    }
   ],
   "source": [
    "print(exercicio02.valuation(3))\n",
    "print(exercicio02.valuation(4))\n",
    "print(exercicio02.valuation(5))\n",
    "print(exercicio02.valuation(6))"
   ]
  },
  {
   "cell_type": "markdown",
   "metadata": {},
   "source": [
    "## Álgebra das proposições\n",
    "\n",
    "Sejam $p$, $q$ e $r$ três proposições simples quaisquer, V uma proposição de valor lógico verdade e F uma proposição de valor lógico falso. A seguir, o símbolo $\\Leftrightarrow$ é utilizado no sentido de equivalência entre a proposição anterior e a posterior ao símbolo.\n",
    "\n",
    "- Leis idempotentes\n",
    "    - $p \\land p \\Leftrightarrow p$\n",
    "    - $p \\lor p \\Leftrightarrow p$\n",
    "\n",
    "- Leis comutativas\n",
    "    - $p \\land q \\Leftrightarrow q \\land p$\n",
    "    - $p \\lor q \\Leftrightarrow q \\lor p$\n",
    "    \n",
    "- Leis de identidade\n",
    "    - $p \\land V \\Leftrightarrow p$\n",
    "    - $p \\land F \\Leftrightarrow F$\n",
    "    - $p \\lor V \\Leftrightarrow V$\n",
    "    - $p \\lor F \\Leftrightarrow p$\n",
    "\n",
    "- Leis complementares\n",
    "    - $\\neg (\\neg p) \\Leftrightarrow p$\n",
    "    - $p \\land \\neg p \\Leftrightarrow F$\n",
    "    - $p \\lor \\neg p \\Leftrightarrow V$\n",
    "    - $\\neg V \\Leftrightarrow F$\n",
    "    - $\\neg F \\Leftrightarrow V$\n",
    "    \n",
    "- Leis associativas\n",
    "    - $(p \\land q) \\land r \\Leftrightarrow p \\land (q \\land r)$\n",
    "    - $(p \\lor q) \\lor r \\Leftrightarrow p \\lor (q \\lor r)$\n",
    "    \n",
    "- Leis distributivas\n",
    "    - $p \\land (q \\lor r) \\Leftrightarrow (p \\land q) \\lor (p \\land r)$\n",
    "    - $p \\lor (q \\land r) \\Leftrightarrow (p \\lor q) \\land (p \\lor r)$\n",
    "\n",
    "- Leis de absorção\n",
    "    - $p \\land (p \\lor q) \\Leftrightarrow p$\n",
    "    - $p \\lor (p \\land q) \\Leftrightarrow p$\n",
    "\n",
    "- Leis de Augustus de Morgan\n",
    "    - $\\neg (p \\land q) \\Leftrightarrow \\neg p \\lor \\neg q $\n",
    "    - $\\neg (p \\lor q) \\Leftrightarrow \\neg p \\land \\neg q $\n",
    "    - $\\neg (p \\land q \\land r) \\Leftrightarrow \\neg p \\lor \\neg q \\lor \\neg r $\n",
    "    - $\\neg (p \\lor q \\lor r) \\Leftrightarrow \\neg p \\land \\neg q \\land \\neg r $\n",
    "    \n",
    "- Negação da condicional\n",
    "    - $\\neg (p \\rightarrow q) \\Leftrightarrow p \\land \\neg q$\n",
    "    \n",
    "- Negação da bicondicional\n",
    "    - $\\neg (p \\leftrightarrow q) \\Leftrightarrow (p \\land \\neg q) \\lor (\\neg p \\land q)$\n",
    "    \n",
    "    \n",
    "Além disso, os seguintes termos são utilizados no estudo de condicionais:\n",
    "\n",
    "| Proposição                  | Termo          |\n",
    "|-----                        | ------         |\n",
    "| $p \\rightarrow q$           | condicional    |\n",
    "| $q \\rightarrow p$           | recíproca      |\n",
    "| $\\neg p \\rightarrow \\neg q$ | inversa        |\n",
    "| $\\neg q \\rightarrow \\neg p$ | contrapositiva |\n",
    "\n",
    "A condicional e a contrapositiva são equivalentes: $(p \\rightarrow q) \\Leftrightarrow (\\neg q \\rightarrow \\neg p)$"
   ]
  },
  {
   "cell_type": "markdown",
   "metadata": {},
   "source": [
    "Vamos verificar as duas primeiras leis de Morgan apresentadas e a negação da condicional com o *ttg*."
   ]
  },
  {
   "cell_type": "code",
   "execution_count": 25,
   "metadata": {
    "ExecuteTime": {
     "end_time": "2019-10-22T13:19:48.555061Z",
     "start_time": "2019-10-22T13:19:48.280496Z"
    }
   },
   "outputs": [],
   "source": [
    "lei_morgan01 = ttg.Truths(['p','q'], ['~(p and q)', '(~p) or (~q)'])\n",
    "lei_morgan02 = ttg.Truths(['p','q'], ['~(p or q)', '(~p) and (~q)'])\n",
    "negacao_condicional = ttg.Truths(['p','q'], ['~(p => q)', 'p and (~q)'])"
   ]
  },
  {
   "cell_type": "code",
   "execution_count": 26,
   "metadata": {
    "ExecuteTime": {
     "end_time": "2019-10-22T13:19:48.852434Z",
     "start_time": "2019-10-22T13:19:48.559205Z"
    }
   },
   "outputs": [
    {
     "name": "stdout",
     "output_type": "stream",
     "text": [
      "+-----+-----+--------------+----------------+\n",
      "|  p  |  q  |  ~(p and q)  |  (~p) or (~q)  |\n",
      "|-----+-----+--------------+----------------|\n",
      "|  1  |  1  |      0       |       0        |\n",
      "|  1  |  0  |      1       |       1        |\n",
      "|  0  |  1  |      1       |       1        |\n",
      "|  0  |  0  |      1       |       1        |\n",
      "+-----+-----+--------------+----------------+\n"
     ]
    }
   ],
   "source": [
    "print(lei_morgan01)"
   ]
  },
  {
   "cell_type": "code",
   "execution_count": 27,
   "metadata": {
    "ExecuteTime": {
     "end_time": "2019-10-22T13:19:49.166011Z",
     "start_time": "2019-10-22T13:19:48.853659Z"
    }
   },
   "outputs": [
    {
     "name": "stdout",
     "output_type": "stream",
     "text": [
      "+-----+-----+-------------+-----------------+\n",
      "|  p  |  q  |  ~(p or q)  |  (~p) and (~q)  |\n",
      "|-----+-----+-------------+-----------------|\n",
      "|  1  |  1  |      0      |        0        |\n",
      "|  1  |  0  |      0      |        0        |\n",
      "|  0  |  1  |      0      |        0        |\n",
      "|  0  |  0  |      1      |        1        |\n",
      "+-----+-----+-------------+-----------------+\n"
     ]
    }
   ],
   "source": [
    "print(lei_morgan02)"
   ]
  },
  {
   "cell_type": "code",
   "execution_count": 28,
   "metadata": {
    "ExecuteTime": {
     "end_time": "2019-10-22T13:19:49.479235Z",
     "start_time": "2019-10-22T13:19:49.167052Z"
    }
   },
   "outputs": [
    {
     "name": "stdout",
     "output_type": "stream",
     "text": [
      "+-----+-----+-------------+--------------+\n",
      "|  p  |  q  |  ~(p => q)  |  p and (~q)  |\n",
      "|-----+-----+-------------+--------------|\n",
      "|  1  |  1  |      0      |      0       |\n",
      "|  1  |  0  |      1      |      1       |\n",
      "|  0  |  1  |      0      |      0       |\n",
      "|  0  |  0  |      0      |      0       |\n",
      "+-----+-----+-------------+--------------+\n"
     ]
    }
   ],
   "source": [
    "print(negacao_condicional)"
   ]
  },
  {
   "cell_type": "markdown",
   "metadata": {},
   "source": [
    "Repare que as duas colunas para cada um dos três últimos exemplos são iguais, demonstrando as equivalências apresentadas."
   ]
  },
  {
   "cell_type": "markdown",
   "metadata": {},
   "source": [
    "## Exercícios complementares\n",
    "\n",
    "A seguir são sugeridos alguns exercícios. O gabarito se encontra em outro notebook na mesma pasta. No arquivo de gabarito algumas considerações e discussões também são feitas durante as resoluções. Sugiro que resolva os exercícios manualmente em papel, para praticar e ter certeza que compreendeu o conteúdo, e depois utilize o *ttg* para conferir suas respostas."
   ]
  },
  {
   "cell_type": "markdown",
   "metadata": {},
   "source": [
    "**Exercício 1**: Construa a tabela verdade para as proposições e as classifique como tautologia, contradição ou contingência.\n",
    "\n",
    "a. $\\neg p \\lor \\neg q$\n",
    "\n",
    "b. $ [ (p \\land \\neg q) \\lor \\neg r] \\land [ (\\neg p \\lor q) \\land r ] $\n",
    "\n",
    "c. $(p \\land q) \\rightarrow (p \\lor q)$\n",
    "\n",
    "d. $(p \\land q) \\lor r$\n",
    "\n",
    "e. $(p \\land q) \\rightarrow p$\n",
    "\n",
    "f. $p \\rightarrow (p \\lor q)$\n",
    "\n",
    "g. $ [ p \\land (p \\rightarrow q) ] \\rightarrow q $\n",
    "\n",
    "h. $ [ (p \\rightarrow q) \\land \\neg q ] \\rightarrow \\neg q $\n",
    "\n",
    "i. $ (p \\land q) \\land \\neg p $\n",
    "\n",
    "j. $ [ (p \\lor \\neg q) \\land r ] \\land [ (p \\land q) \\lor \\neg r ] $\n",
    "\n",
    "k. $ [ (p \\leftrightarrow q) \\rightarrow r ] \\leftrightarrow [ \\neg (p \\land r) \\rightarrow q ] $"
   ]
  },
  {
   "cell_type": "markdown",
   "metadata": {},
   "source": [
    "**Exercício 2**: Sendo $p$ uma proposição de valor lógico verdadeiro e $q$ uma proposição de valor lógico falso, qual o valor lógico da proposição composta $R: (p \\land \\neg q) \\rightarrow q$?"
   ]
  },
  {
   "cell_type": "markdown",
   "metadata": {},
   "source": [
    "**Exercício 3**: Atribua valor lógico verdadeiro ou falso a cada uma das afirmações a seguir:\n",
    "\n",
    "a. Se Marte é um planeta então $3 = 7 - 4$.\n",
    "\n",
    "b. A soma de dois números pares é um número par e $7^2 = 49$.\n",
    "\n",
    "c. $3=5$ se e somente se o urso é um animal invertebrado.\n",
    "\n",
    "d. Se $10^2 = 100$ então todo número inteiro é natural.\n",
    "\n",
    "e. $2 = 3^2 - 7$ ou a Terra é plana.\n",
    "\n",
    "f. $3 > 1$ e $4 > 2$\n",
    "\n",
    "g. $3 > 1$ ou $3 = 1$"
   ]
  },
  {
   "cell_type": "markdown",
   "metadata": {},
   "source": [
    "**Exercício 4**: Sejam:\n",
    "\n",
    "- $p$: Londres é a capital da Inglaterra.\n",
    "- $q$: A Torre Eiffel situa-se em Londres.\n",
    "- $r$: O meridiano de Greenwich passa por Londres.\n",
    "\n",
    "Traduza para a linguagem natural cada uma das proposições compostas abaixo e determine o respectivo valor lógico.\n",
    "\n",
    "a. $\\neg q \\land \\neg p$\n",
    "\n",
    "b. $\\neg q \\lor \\neg p$\n",
    "\n",
    "c. $\\neg (p \\land q)$\n",
    "\n",
    "d. $\\neg p \\lor r$"
   ]
  },
  {
   "cell_type": "markdown",
   "metadata": {},
   "source": [
    "**Exercício 5**: Prove que uma condicional é equivalente a $\\neg (p \\land q)$"
   ]
  },
  {
   "cell_type": "markdown",
   "metadata": {},
   "source": [
    "**Exercício 6**: Comprove que $\\neg (p \\rightarrow q)$ é equivalente a $p \\land \\neg q$"
   ]
  },
  {
   "cell_type": "markdown",
   "metadata": {},
   "source": [
    "**Exercício 7**: Mostre simbolicamente que são logicamente equivalentes: \"Se um aluno estuda, então ele é aprovado\" e \"Não é verdade que um aluno estuda e não é aprovado\"."
   ]
  },
  {
   "cell_type": "markdown",
   "metadata": {},
   "source": [
    "**Exercício 8**: Mostre simbolicamente que a negação de \"Se um aluno estuda, então ele é aprovado\" é \"Há alunos que estudam e não são aprovados\"."
   ]
  },
  {
   "cell_type": "markdown",
   "metadata": {},
   "source": [
    "**Exercício 9**: Considere a proposição: \"Se o Edson se candidatar a presidente, então ele se elegerá\". Em qual dos casos abaixo essa proposição condicional deve ser considerada falsa?\n",
    "\n",
    "a. O Edson se candidatou a presidente e se elegeu.\n",
    "\n",
    "b. O Edson se candidatou a presidente e não se elegeu.\n",
    "\n",
    "c. O Edson não se candidatou a presidente."
   ]
  },
  {
   "cell_type": "markdown",
   "metadata": {},
   "source": [
    "**Exercício 10**: Considere a condicional: \"Se o seu dente está cariado, você precisa de um dentista\".\n",
    "\n",
    "a. Suponha que \"o seu dente não está cariado e você precisa de um dentista\". Isto significa uma negação da anterior?\n",
    "\n",
    "b. Escreva uma proposição que não seja condicional e que corresponde à negação da proposição acima."
   ]
  },
  {
   "cell_type": "markdown",
   "metadata": {},
   "source": [
    "**Exercício 11**: Escreva na linguagem simbólica e verifique se são logicamente equivalentes as proposições \"Se eu me chamo João, então eu passo no vestibular\", e \"Eu passo no vestibular ou não me chamo João\"."
   ]
  },
  {
   "cell_type": "markdown",
   "metadata": {},
   "source": [
    "**Exercício 12**: Sendo a proposição $p \\rightarrow (r \\lor s)$ falsa e a proposição $(q \\land \\neg s) \\rightarrow p$ verdadeira, classifique em verdadeira ou falsa as afirmações $p$, $q$, $r$ e $s$."
   ]
  },
  {
   "cell_type": "markdown",
   "metadata": {},
   "source": [
    "**Exercício 13**: Sabendo que as proposições $p$ e $q$ são verdadeiras e que a proposição $r$ é falsa, determine o valor lógico da seguinte proposição: $(\\neg p \\downarrow q) \\land (q \\uparrow \\neg r)$"
   ]
  },
  {
   "cell_type": "code",
   "execution_count": null,
   "metadata": {},
   "outputs": [],
   "source": []
  }
 ],
 "metadata": {
  "hide_input": false,
  "kernelspec": {
   "display_name": "Python [conda env:ttg]",
   "language": "python",
   "name": "conda-env-ttg-py"
  },
  "language_info": {
   "codemirror_mode": {
    "name": "ipython",
    "version": 3
   },
   "file_extension": ".py",
   "mimetype": "text/x-python",
   "name": "python",
   "nbconvert_exporter": "python",
   "pygments_lexer": "ipython3",
   "version": "3.7.4"
  },
  "toc": {
   "base_numbering": 1,
   "nav_menu": {},
   "number_sections": true,
   "sideBar": true,
   "skip_h1_title": false,
   "title_cell": "Table of Contents",
   "title_sidebar": "Contents",
   "toc_cell": false,
   "toc_position": {},
   "toc_section_display": true,
   "toc_window_display": false
  },
  "varInspector": {
   "cols": {
    "lenName": 16,
    "lenType": 16,
    "lenVar": 40
   },
   "kernels_config": {
    "python": {
     "delete_cmd_postfix": "",
     "delete_cmd_prefix": "del ",
     "library": "var_list.py",
     "varRefreshCmd": "print(var_dic_list())"
    },
    "r": {
     "delete_cmd_postfix": ") ",
     "delete_cmd_prefix": "rm(",
     "library": "var_list.r",
     "varRefreshCmd": "cat(var_dic_list()) "
    }
   },
   "types_to_exclude": [
    "module",
    "function",
    "builtin_function_or_method",
    "instance",
    "_Feature"
   ],
   "window_display": false
  }
 },
 "nbformat": 4,
 "nbformat_minor": 2
}
